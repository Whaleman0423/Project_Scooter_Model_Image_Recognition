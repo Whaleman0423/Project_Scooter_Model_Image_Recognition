{
  "nbformat": 4,
  "nbformat_minor": 0,
  "metadata": {
    "colab": {
      "name": "SYM爬蟲車系總覽名字.ipynb",
      "provenance": [],
      "collapsed_sections": [],
      "authorship_tag": "ABX9TyNGysBcZun2G4H2Z1kyyE0u",
      "include_colab_link": true
    },
    "kernelspec": {
      "name": "python3",
      "display_name": "Python 3"
    },
    "language_info": {
      "name": "python"
    }
  },
  "cells": [
    {
      "cell_type": "markdown",
      "metadata": {
        "id": "view-in-github",
        "colab_type": "text"
      },
      "source": [
        "<a href=\"https://colab.research.google.com/github/Whaleman0423/class_no.4_paper/blob/main/SYM%E7%88%AC%E8%9F%B2%E8%BB%8A%E7%B3%BB%E7%B8%BD%E8%A6%BD%E5%90%8D%E5%AD%97.ipynb\" target=\"_parent\"><img src=\"https://colab.research.google.com/assets/colab-badge.svg\" alt=\"Open In Colab\"/></a>"
      ]
    },
    {
      "cell_type": "code",
      "metadata": {
        "id": "O9AaG0idrbkQ"
      },
      "source": [
        "from urllib.request import urlopen\n",
        "from bs4 import BeautifulSoup\n",
        "url = \"https://autos.yahoo.com.tw/new-bikes/make/sym\"\n",
        "response = urlopen(url)\n",
        "html = BeautifulSoup(response)\n",
        "# print(html)\n",
        "content = html.find(\"div\", class_=\"make-main\")\n",
        "# print(content)\n",
        "for k in content.find_all(\"div\", class_=\"year-single\"):\n",
        "  with open(\"車種總覽名字.txt\", \"a+\", encoding=\"utf-8\") as f:\n",
        "    f.write(k.find(\"span\", class_=\"title\").text)\n",
        "    f.write(\"\\n\")\n",
        "with open(\"車種總覽名字.txt\", \"r\", encoding=\"utf-8\") as f:\n",
        "  lines = str(len(f.readlines()))\n",
        "  with open(\"車種總覽名字.txt\", \"a\", encoding=\"utf-8\") as w:\n",
        "    w.write(\"總車數： %s 台\"%(lines))"
      ],
      "execution_count": 33,
      "outputs": []
    }
  ]
}