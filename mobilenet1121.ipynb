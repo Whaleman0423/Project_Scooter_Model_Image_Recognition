{
  "nbformat": 4,
  "nbformat_minor": 0,
  "metadata": {
    "colab": {
      "name": "mobilenet1121.ipynb",
      "provenance": [],
      "collapsed_sections": [],
      "authorship_tag": "ABX9TyM1fvsVwQ2//ZYtLQMmn6AR",
      "include_colab_link": true
    },
    "kernelspec": {
      "name": "python3",
      "display_name": "Python 3"
    },
    "language_info": {
      "name": "python"
    },
    "accelerator": "GPU"
  },
  "cells": [
    {
      "cell_type": "markdown",
      "metadata": {
        "id": "view-in-github",
        "colab_type": "text"
      },
      "source": [
        "<a href=\"https://colab.research.google.com/github/Whaleman0423/class_no.4_paper/blob/main/mobilenet1121.ipynb\" target=\"_parent\"><img src=\"https://colab.research.google.com/assets/colab-badge.svg\" alt=\"Open In Colab\"/></a>"
      ]
    },
    {
      "cell_type": "code",
      "metadata": {
        "colab": {
          "base_uri": "https://localhost:8080/"
        },
        "id": "v6e0lPEt3hTQ",
        "outputId": "23d76804-fe49-4b51-effc-4af3661b124e"
      },
      "source": [
        "from google.colab import drive\n",
        "drive.mount('/content/drive')"
      ],
      "execution_count": 1,
      "outputs": [
        {
          "output_type": "stream",
          "name": "stdout",
          "text": [
            "Mounted at /content/drive\n"
          ]
        }
      ]
    },
    {
      "cell_type": "code",
      "metadata": {
        "id": "39F6aDOp1E89"
      },
      "source": [
        "from tensorflow.keras.applications.mobilenet import MobileNet\n",
        "from tensorflow.keras import datasets, models, layers, utils, activations, losses, optimizers, metrics\n",
        "import numpy as np\n",
        "import matplotlib.pyplot as plt\n",
        "import os\n",
        "import tensorflow\n",
        "import glob \n",
        "from tqdm import tqdm \n",
        "from sklearn.model_selection import train_test_split\n",
        "import pandas as pd\n",
        "import cv2\n",
        "from PIL import Image\n",
        "from tensorflow.keras.applications.mobilenet import preprocess_input \n",
        "from tensorflow.keras.models import Sequential\n",
        "from tensorflow.keras.layers import GlobalAveragePooling2D, Dense, BatchNormalization, Dropout"
      ],
      "execution_count": 3,
      "outputs": []
    },
    {
      "cell_type": "code",
      "metadata": {
        "colab": {
          "base_uri": "https://localhost:8080/"
        },
        "id": "EMzIXIRi30ep",
        "outputId": "5463da72-c524-4486-f9c0-83db3fda4582"
      },
      "source": [
        "trans = [\"s2\", \"gp\", \"krv\", \"fiddle\", \"sr\", \"vivo\", \"famous\", \"drg\", \"duke\", \"limi\", \"gryphus6\", \"force\", \"viva\", \"s3\", \"like\", \"many\", \"bws\", \"sl\", \"axiz\", \"jog\"]\n",
        "len(trans)"
      ],
      "execution_count": 4,
      "outputs": [
        {
          "output_type": "execute_result",
          "data": {
            "text/plain": [
              "20"
            ]
          },
          "metadata": {},
          "execution_count": 4
        }
      ]
    },
    {
      "cell_type": "code",
      "metadata": {
        "id": "Z9ysFSHR35yY"
      },
      "source": [
        "s2 = glob.glob(\"/content/drive/MyDrive/Tebame_第四組_機車辨識/1118晚上 含車群/GOGORO_S2_裁/*.jpg\") + glob.glob(\"/content/drive/MyDrive/Tebame_第四組_機車辨識/1118晚上 含車群/GOGORO_S2_裁/*.JPG\") \n",
        "s2 = s2 + glob.glob(\"/content/drive/MyDrive/Tebame_第四組_機車辨識/測試測試集1116/GOGORO_S2_裁/*.jpg\") + glob.glob(\"/content/drive/MyDrive/Tebame_第四組_機車辨識/測試測試集1116/GOGORO_S2_裁/*.JPG\") \n",
        "s2 = s2 + glob.glob(\"/content/drive/MyDrive/Tebame_第四組_機車辨識/嚴選資料集/GOGORO_S2_裁/*.jpg\") + glob.glob(\"/content/drive/MyDrive/Tebame_第四組_機車辨識/嚴選資料集/GOGORO_S2_裁/*.JPG\") \n",
        "\n",
        "gp = glob.glob(\"/content/drive/MyDrive/Tebame_第四組_機車辨識/1118晚上 含車群/KYMCO_GP_125_裁/*\") +  glob.glob(\"/content/drive/MyDrive/Tebame_第四組_機車辨識/測試測試集1116/KYMCO_GP_125_裁/*\") \n",
        "gp = gp + glob.glob(\"/content/drive/MyDrive/Tebame_第四組_機車辨識/嚴選資料集/KYMCO_GP_125_裁/*\")\n",
        "\n",
        "krv = glob.glob(\"/content/drive/MyDrive/Tebame_第四組_機車辨識/嚴選資料集/KYMCO_KRV_裁/*\") + glob.glob(\"/content/drive/MyDrive/Tebame_第四組_機車辨識/測試測試集1116/KYMCO_KRV_裁/*\")\n",
        "\n",
        "fiddle = glob.glob(\"/content/drive/MyDrive/Tebame_第四組_機車辨識/嚴選資料集/SYM_FIDDLE_125_裁/*\") + glob.glob(\"/content/drive/MyDrive/Tebame_第四組_機車辨識/測試測試集1116/SYM_FIDDLE_125_裁/*\")\n",
        "\n",
        "sr = glob.glob(\"/content/drive/MyDrive/Tebame_第四組_機車辨識/嚴選資料集/SYM_JET_SR_125_裁/*\") + glob.glob(\"/content/drive/MyDrive/Tebame_第四組_機車辨識/測試測試集1116/SYM_JET_SR_125_裁/*\")\n",
        "sr = sr + glob.glob(\"/content/drive/MyDrive/Tebame_第四組_機車辨識/1118晚上 含車群/SYM_JET_SR_125_裁/*\")\n",
        "\n",
        "vivo = glob.glob(\"/content/drive/MyDrive/Tebame_第四組_機車辨識/嚴選資料集/SYM_活力_125_裁/*\") + glob.glob(\"/content/drive/MyDrive/Tebame_第四組_機車辨識/測試測試集1116/SYM_活力_125_裁/*\")\n",
        "vivo = vivo + glob.glob(\"/content/drive/MyDrive/Tebame_第四組_機車辨識/1118晚上 含車群/SYM_活力_125_裁/*\")\n",
        "\n",
        "famous = glob.glob(\"/content/drive/MyDrive/Tebame_第四組_機車辨識/嚴選資料集/KYMCO_新名流125_裁/*\") + glob.glob(\"/content/drive/MyDrive/Tebame_第四組_機車辨識/測試測試集1116/KYMCO_新名流125_裁/*\")\n",
        "famous = famous + glob.glob(\"/content/drive/MyDrive/Tebame_第四組_機車辨識/1118晚上 含車群/KYMCO_新名流125_裁/*\")\n",
        "\n",
        "drg = glob.glob(\"/content/drive/MyDrive/Tebame_第四組_機車辨識/嚴選資料集/SYM_DRG_裁/*\") + glob.glob(\"/content/drive/MyDrive/Tebame_第四組_機車辨識/測試測試集1116/SYM_DRG_裁/*\")\n",
        "drg = drg + glob.glob(\"/content/drive/MyDrive/Tebame_第四組_機車辨識/1118晚上 含車群/SYM_DRG_裁/*\")\n",
        "\n",
        "duke = glob.glob(\"/content/drive/MyDrive/Tebame_第四組_機車辨識/嚴選資料集/SYM_新迪爵_125 _裁/*\") + glob.glob(\"/content/drive/MyDrive/Tebame_第四組_機車辨識/測試測試集1116/SYM_新迪爵_125 _裁/*\")\n",
        "duke = duke + glob.glob(\"/content/drive/MyDrive/Tebame_第四組_機車辨識/1118晚上 含車群/SYM_新迪爵_125 _裁/*\")\n",
        "\n",
        "limi = glob.glob(\"/content/drive/MyDrive/Tebame_第四組_機車辨識/嚴選資料集/YAMAHA_LIMI_125_已裁減/*\") + glob.glob(\"/content/drive/MyDrive/Tebame_第四組_機車辨識/測試測試集1116/YAMAHA_LIMI_125_已裁減/*\")\n",
        "\n",
        "gryphus6 = glob.glob(\"/content/drive/MyDrive/Tebame_第四組_機車辨識/嚴選資料集/YAMAHA_六代勁戰_125_裁/*\") + glob.glob(\"/content/drive/MyDrive/Tebame_第四組_機車辨識/測試測試集1116/YAMAHA_六代勁戰_125_裁/*\")\n",
        "gryphus6 = gryphus6 + glob.glob(\"/content/drive/MyDrive/Tebame_第四組_機車辨識/1118晚上 含車群/YAMAHA_六代勁戰_125_裁/*\")\n",
        "\n",
        "\n",
        "force = glob.glob(\"/content/drive/MyDrive/Tebame_第四組_機車辨識/嚴選資料集/YAMAHA_FORCE_裁/*\") + glob.glob(\"/content/drive/MyDrive/Tebame_第四組_機車辨識/測試測試集1116/YAMAHA_FORCE_裁/*\")\n",
        "force = force + glob.glob(\"/content/drive/MyDrive/Tebame_第四組_機車辨識/1118晚上 含車群/YAMAHA_FORCE_裁/*\")\n",
        "\n",
        "viva = glob.glob(\"/content/drive/MyDrive/Tebame_第四組_機車辨識/嚴選資料集/GOGORO_VIVA_MIX_裁/*\")\n",
        "\n",
        "s3 = glob.glob(\"/content/drive/MyDrive/Tebame_第四組_機車辨識/嚴選資料集/GOGORO_S3_裁/*\") + glob.glob(\"/content/drive/MyDrive/Tebame_第四組_機車辨識/測試測試集1116/GOGORO_S3_裁/*\")\n",
        "s3 = s3 + glob.glob(\"/content/drive/MyDrive/Tebame_第四組_機車辨識/1118晚上 含車群/GOGORO_S3_裁/*\")\n",
        "\n",
        "like = glob.glob(\"/content/drive/MyDrive/Tebame_第四組_機車辨識/嚴選資料集/KYMCO_LIKE_125_裁/*\") + glob.glob(\"/content/drive/MyDrive/Tebame_第四組_機車辨識/測試測試集1116/KYMCO_LIKE_125_裁/*\")\n",
        "like = like + glob.glob(\"/content/drive/MyDrive/Tebame_第四組_機車辨識/1118晚上 含車群/KYMCO_LIKE_125_裁/*\")\n",
        "\n",
        "many = glob.glob(\"/content/drive/MyDrive/Tebame_第四組_機車辨識/嚴選資料集/KYMCO_MANY_125_裁/*\") + glob.glob(\"/content/drive/MyDrive/Tebame_第四組_機車辨識/測試測試集1116/KYMCO_MANY_125_裁/*\")\n",
        "many = many + glob.glob(\"/content/drive/MyDrive/Tebame_第四組_機車辨識/1118晚上 含車群/KYMCO_MANY_125_裁/*\")\n",
        "\n",
        "bws = glob.glob(\"/content/drive/MyDrive/Tebame_第四組_機車辨識/嚴選資料集/YAMAHA_BWS_125_裁/*\")\n",
        "\n",
        "sl = glob.glob(\"/content/drive/MyDrive/Tebame_第四組_機車辨識/嚴選資料集/SYM_JET_SL_125_裁/*\") + glob.glob(\"/content/drive/MyDrive/Tebame_第四組_機車辨識/測試測試集1116/SYM_JET_SL_125_裁/*\")\n",
        "sl = sl + glob.glob(\"/content/drive/MyDrive/Tebame_第四組_機車辨識/1118晚上 含車群/SYM_JET_SL_125_裁/*\")\n",
        "\n",
        "axiz = glob.glob(\"/content/drive/MyDrive/Tebame_第四組_機車辨識/嚴選資料集/YAMAHA_勁豪_125_裁/*\") + glob.glob(\"/content/drive/MyDrive/Tebame_第四組_機車辨識/測試測試集1116/YAMAHA_勁豪_125_裁/*\")\n",
        "axiz = axiz + glob.glob(\"/content/drive/MyDrive/Tebame_第四組_機車辨識/1118晚上 含車群/YAMAHA_勁豪_125_裁/*\")\n",
        "\n",
        "jog = glob.glob(\"/content/drive/MyDrive/Tebame_第四組_機車辨識/嚴選資料集/YAMAHA_JOG_125_裁/*\") + glob.glob(\"/content/drive/MyDrive/Tebame_第四組_機車辨識/測試測試集1116/YAMAHA_JOG_125_裁/*\")"
      ],
      "execution_count": 5,
      "outputs": []
    },
    {
      "cell_type": "code",
      "metadata": {
        "colab": {
          "base_uri": "https://localhost:8080/"
        },
        "id": "dCMEdVmcNXWd",
        "outputId": "e19999a5-22e9-4b63-a98c-2314bc18f601"
      },
      "source": [
        "type(gp)"
      ],
      "execution_count": 13,
      "outputs": [
        {
          "output_type": "execute_result",
          "data": {
            "text/plain": [
              "list"
            ]
          },
          "metadata": {},
          "execution_count": 13
        }
      ]
    },
    {
      "cell_type": "code",
      "metadata": {
        "colab": {
          "base_uri": "https://localhost:8080/",
          "height": 424
        },
        "id": "UPI3gnpVC30A",
        "outputId": "424681ec-9467-4996-95c7-b7d3d02941f5"
      },
      "source": [
        "import pandas as pd\n",
        "df = pd.DataFrame({\n",
        "    \"path\": s2 + gp + krv + fiddle + sr + vivo + famous + drg + duke + limi + gryphus6 + force + viva + s3 + like + many + bws + sl + axiz + jog,\n",
        "    \"ans\": [0] * len(s2) + [1] * len(gp) + [2] * len(krv) + [3] * len(fiddle) + [4] * len(sr) + [5] * len(vivo) + [6] * len(famous)\n",
        "    + [7] * len(drg) + [8] * len(duke) + [9] * len(limi) + [10] * len(gryphus6) + [11] * len(force) + [12] * len(viva) + [13] * len(s3)\n",
        "     + [14] * len(like) + [15] * len(many) + [16] * len(bws) + [17] * len(sl) + [18] * len(axiz) + [19] * len(jog)\n",
        "})\n",
        "# trans = [\"s2\", \"gp\", \"krv\", \"fiddle\", \"sr\", \"vivo\", \"famous\", \"drg\", \"duke\", \"limi\", \"gryphus6\", \"force\", \"viva\", \"s3\", \"like\", \"many\", \"bws\", \"sl\", \"axiz\", \"jog\"]\n",
        "\n",
        "df\n"
      ],
      "execution_count": 6,
      "outputs": [
        {
          "output_type": "execute_result",
          "data": {
            "text/html": [
              "<div>\n",
              "<style scoped>\n",
              "    .dataframe tbody tr th:only-of-type {\n",
              "        vertical-align: middle;\n",
              "    }\n",
              "\n",
              "    .dataframe tbody tr th {\n",
              "        vertical-align: top;\n",
              "    }\n",
              "\n",
              "    .dataframe thead th {\n",
              "        text-align: right;\n",
              "    }\n",
              "</style>\n",
              "<table border=\"1\" class=\"dataframe\">\n",
              "  <thead>\n",
              "    <tr style=\"text-align: right;\">\n",
              "      <th></th>\n",
              "      <th>path</th>\n",
              "      <th>ans</th>\n",
              "    </tr>\n",
              "  </thead>\n",
              "  <tbody>\n",
              "    <tr>\n",
              "      <th>0</th>\n",
              "      <td>/content/drive/MyDrive/Tebame_第四組_機車辨識/1118晚上 ...</td>\n",
              "      <td>0</td>\n",
              "    </tr>\n",
              "    <tr>\n",
              "      <th>1</th>\n",
              "      <td>/content/drive/MyDrive/Tebame_第四組_機車辨識/1118晚上 ...</td>\n",
              "      <td>0</td>\n",
              "    </tr>\n",
              "    <tr>\n",
              "      <th>2</th>\n",
              "      <td>/content/drive/MyDrive/Tebame_第四組_機車辨識/1118晚上 ...</td>\n",
              "      <td>0</td>\n",
              "    </tr>\n",
              "    <tr>\n",
              "      <th>3</th>\n",
              "      <td>/content/drive/MyDrive/Tebame_第四組_機車辨識/1118晚上 ...</td>\n",
              "      <td>0</td>\n",
              "    </tr>\n",
              "    <tr>\n",
              "      <th>4</th>\n",
              "      <td>/content/drive/MyDrive/Tebame_第四組_機車辨識/1118晚上 ...</td>\n",
              "      <td>0</td>\n",
              "    </tr>\n",
              "    <tr>\n",
              "      <th>...</th>\n",
              "      <td>...</td>\n",
              "      <td>...</td>\n",
              "    </tr>\n",
              "    <tr>\n",
              "      <th>10532</th>\n",
              "      <td>/content/drive/MyDrive/Tebame_第四組_機車辨識/測試測試集11...</td>\n",
              "      <td>19</td>\n",
              "    </tr>\n",
              "    <tr>\n",
              "      <th>10533</th>\n",
              "      <td>/content/drive/MyDrive/Tebame_第四組_機車辨識/測試測試集11...</td>\n",
              "      <td>19</td>\n",
              "    </tr>\n",
              "    <tr>\n",
              "      <th>10534</th>\n",
              "      <td>/content/drive/MyDrive/Tebame_第四組_機車辨識/測試測試集11...</td>\n",
              "      <td>19</td>\n",
              "    </tr>\n",
              "    <tr>\n",
              "      <th>10535</th>\n",
              "      <td>/content/drive/MyDrive/Tebame_第四組_機車辨識/測試測試集11...</td>\n",
              "      <td>19</td>\n",
              "    </tr>\n",
              "    <tr>\n",
              "      <th>10536</th>\n",
              "      <td>/content/drive/MyDrive/Tebame_第四組_機車辨識/測試測試集11...</td>\n",
              "      <td>19</td>\n",
              "    </tr>\n",
              "  </tbody>\n",
              "</table>\n",
              "<p>10537 rows × 2 columns</p>\n",
              "</div>"
            ],
            "text/plain": [
              "                                                    path  ans\n",
              "0      /content/drive/MyDrive/Tebame_第四組_機車辨識/1118晚上 ...    0\n",
              "1      /content/drive/MyDrive/Tebame_第四組_機車辨識/1118晚上 ...    0\n",
              "2      /content/drive/MyDrive/Tebame_第四組_機車辨識/1118晚上 ...    0\n",
              "3      /content/drive/MyDrive/Tebame_第四組_機車辨識/1118晚上 ...    0\n",
              "4      /content/drive/MyDrive/Tebame_第四組_機車辨識/1118晚上 ...    0\n",
              "...                                                  ...  ...\n",
              "10532  /content/drive/MyDrive/Tebame_第四組_機車辨識/測試測試集11...   19\n",
              "10533  /content/drive/MyDrive/Tebame_第四組_機車辨識/測試測試集11...   19\n",
              "10534  /content/drive/MyDrive/Tebame_第四組_機車辨識/測試測試集11...   19\n",
              "10535  /content/drive/MyDrive/Tebame_第四組_機車辨識/測試測試集11...   19\n",
              "10536  /content/drive/MyDrive/Tebame_第四組_機車辨識/測試測試集11...   19\n",
              "\n",
              "[10537 rows x 2 columns]"
            ]
          },
          "metadata": {},
          "execution_count": 6
        }
      ]
    },
    {
      "cell_type": "code",
      "metadata": {
        "colab": {
          "base_uri": "https://localhost:8080/",
          "height": 317
        },
        "id": "Ee7FAxPBDnfw",
        "outputId": "ea511d07-572c-4643-c8c9-7b1ad50c8647"
      },
      "source": [
        "list_ = [i for n, i in enumerate(df[\"ans\"])]\n",
        "cls, count = np.unique(list_, return_counts=True)\n",
        "plt.bar(cls, count)\n",
        "print(cls, count, sep=\"\\n\")\n",
        "# trans = [\"s2\", \"gp\", \"krv\", \"fiddle\", \"sr\", \"vivo\", \"famous\", \"drg\", \"duke\", \"limi\", \"gryphus6\", \"force\", \"viva\", \"s3\", \"like\", \"many\", \"bws\", \"sl\", \"axiz\", \"jog\"]\n"
      ],
      "execution_count": 7,
      "outputs": [
        {
          "output_type": "stream",
          "name": "stdout",
          "text": [
            "[ 0  1  2  3  4  5  6  7  8  9 10 11 12 13 14 15 16 17 18 19]\n",
            "[ 709 1021  357  831  421  617  766  461  827  320  824  486  182  416\n",
            "  314  471  269  264  761  220]\n"
          ]
        },
        {
          "output_type": "display_data",
          "data": {
            "image/png": "[encoded data removed]",
            "text/plain": [
              "<Figure size 432x288 with 1 Axes>"
            ]
          },
          "metadata": {
            "needs_background": "light"
          }
        }
      ]
    },
    {
      "cell_type": "code",
      "metadata": {
        "id": "4jmLraX1DzBc"
      },
      "source": [
        "# clear graph\n",
        "tensorflow.keras.backend.clear_session()"
      ],
      "execution_count": 8,
      "outputs": []
    },
    {
      "cell_type": "code",
      "metadata": {
        "id": "_wbWL7TRD1XR"
      },
      "source": [
        "base_model = MobileNet(\n",
        "    include_top=False, weights='imagenet', input_shape=(224, 224, 3)\n",
        ")\n",
        "x = base_model.output\n",
        "x = layers.GlobalAveragePooling2D()(x)\n",
        "x = layers.Dropout(0.2)(x)\n",
        "x = layers.Dense(2048, activation=\"selu\")(x)\n",
        "x = layers.Dense(512, activation=\"selu\")(x)\n",
        "x = layers.Dense(64, activation=\"selu\")(x)\n",
        "predictions = layers.Dense(20, activation='softmax')(x)\n",
        "\n",
        "# Freeze layers 凍結層 把遷移來的卷積的參數固定\n",
        "for l in base_model.layers:\n",
        "  l.trainable = False\n",
        "\n",
        "# 把卷積和後面的分類層合在一起\n",
        "model = models.Model(base_model.input, predictions)\n",
        "model.summary()\n",
        "# base_model.summary()"
      ],
      "execution_count": null,
      "outputs": []
    },
    {
      "cell_type": "code",
      "metadata": {
        "id": "8bIbBKpIFVLW"
      },
      "source": [
        "from tensorflow.keras.losses import SparseCategoricalCrossentropy\n",
        "model.compile(\n",
        "        loss=SparseCategoricalCrossentropy(),\n",
        "        optimizer=\"Adam\",\n",
        "        metrics=[\"acc\"]\n",
        ")"
      ],
      "execution_count": 10,
      "outputs": []
    },
    {
      "cell_type": "code",
      "metadata": {
        "id": "kiqqeBSXM1VB"
      },
      "source": [
        "x = np.array(df[\"path\"])\n",
        "y = np.array(df[\"ans\"])"
      ],
      "execution_count": 11,
      "outputs": []
    },
    {
      "cell_type": "code",
      "metadata": {
        "colab": {
          "base_uri": "https://localhost:8080/"
        },
        "id": "yKY16tKmbfky",
        "outputId": "d632911b-79f7-46af-a449-f098cc2137f5"
      },
      "source": [
        "y"
      ],
      "execution_count": 34,
      "outputs": [
        {
          "output_type": "execute_result",
          "data": {
            "text/plain": [
              "array([ 0,  0,  0, ..., 19, 19, 19])"
            ]
          },
          "metadata": {},
          "execution_count": 34
        }
      ]
    },
    {
      "cell_type": "code",
      "metadata": {
        "id": "oyE6fhxFQzYR"
      },
      "source": [
        "# trans = [\"s2\", \"gp\", \"krv\", \"fiddle\", \"sr\", \"vivo\", \"famous\", \"drg\", \"duke\", \"limi\", \"gryphus6\", \"force\", \"viva\", \"s3\", \"like\", \"many\", \"bws\", \"sl\", \"axiz\", \"jog\"]\n",
        "# [     709  1021  357   831   421   617   766    461   827  320    824     486   182   416  314   471   269  264   761  220]\n",
        "s2 = x[y == 0]\n",
        "gp = x[y == 1]\n",
        "krv = x[y == 2]\n",
        "fiddle = x[y == 3]\n",
        "sr = x[y == 4]\n",
        "vivo = x[y == 5]\n",
        "famous = x[y == 6]\n",
        "drg = x[y == 7]\n",
        "duke = x[y == 8]\n",
        "limi = x[y == 9]\n",
        "gryphus6 = x[y == 10]\n",
        "force = x[y == 11]\n",
        "viva = x[y == 12]\n",
        "s3 = x[y == 13]\n",
        "like = x[y == 14]\n",
        "many = x[y == 15]\n",
        "bws = x[y == 16]\n",
        "sl = x[y == 17]\n",
        "axiz = x[y == 18]\n",
        "jog = x[y == 19]"
      ],
      "execution_count": 38,
      "outputs": []
    },
    {
      "cell_type": "code",
      "metadata": {
        "colab": {
          "base_uri": "https://localhost:8080/"
        },
        "id": "UgLiCpqXcNN9",
        "outputId": "c4d7ab65-2dd1-4dd4-c2bb-dfa97d0812a6"
      },
      "source": [
        "len(s2)"
      ],
      "execution_count": 39,
      "outputs": [
        {
          "output_type": "execute_result",
          "data": {
            "text/plain": [
              "709"
            ]
          },
          "metadata": {},
          "execution_count": 39
        }
      ]
    },
    {
      "cell_type": "code",
      "metadata": {
        "id": "6IHJEhr9VGMP"
      },
      "source": [
        "from sklearn.model_selection import train_test_split\n",
        "import numpy as np\n",
        "s2_train, s2_test = train_test_split(s2, test_size=0.4)\n",
        "\n",
        "gp_train, gp_test = train_test_split(gp, test_size=0.6)\n",
        "\n",
        "fiddle_train, fiddle_test = train_test_split(fiddle, test_size=0.5)\n",
        "\n",
        "vivo_train, vivo_test = train_test_split(vivo, test_size=0.3)\n",
        "\n",
        "famous_train, famous_test = train_test_split(famous, test_size=0.45)\n",
        "\n",
        "drg_train, drg_test = train_test_split(drg, test_size=0.1)\n",
        "\n",
        "duke_train, duke_test = train_test_split(duke, test_size=0.5)\n",
        "\n",
        "gryphus6_train, gryphus6_test = train_test_split(gryphus6, test_size=0.5)\n",
        "\n",
        "force_train, force_test = train_test_split(force, test_size=0.15)\n",
        "\n",
        "many_train, many_test = train_test_split(many, test_size=0.1)\n",
        "\n",
        "axiz_train, axiz_test = train_test_split(axiz, test_size=0.45)"
      ],
      "execution_count": 40,
      "outputs": []
    },
    {
      "cell_type": "code",
      "metadata": {
        "colab": {
          "base_uri": "https://localhost:8080/"
        },
        "id": "DFf7GYbzcCr_",
        "outputId": "4e992618-ec5c-46e2-ccb6-ba510ea110bb"
      },
      "source": [
        "len(jog)"
      ],
      "execution_count": 64,
      "outputs": [
        {
          "output_type": "execute_result",
          "data": {
            "text/plain": [
              "220"
            ]
          },
          "metadata": {},
          "execution_count": 64
        }
      ]
    },
    {
      "cell_type": "code",
      "metadata": {
        "id": "49fgT6I9N5Kb"
      },
      "source": [
        "# trans = [\"s2\", \"gp\", \"krv\", \"fiddle\", \"sr\", \"vivo\", \"famous\", \"drg\", \"duke\", \"limi\", \"gryphus6\", \"force\", \"viva\", \"s3\", \"like\", \"many\", \"bws\", \"sl\", \"axiz\", \"jog\"]\n",
        "x = np.concatenate([s2_train, gp_train, krv, fiddle_train, sr, vivo_train, famous_train, drg_train, duke_train, limi, gryphus6_train, force_train, viva, s3, like, many_train, bws, sl, axiz_train, jog]) \n",
        "y = np.array([0]*425+[1]*408+[2]*357+[3]*415+[4]*421+[5]*431+[6]*421+[7]*414+[8]*413+[9]*320+[10]*412+[11]*413+[12]*182+[13]*416+[14]*314+[15]*423+[16]*269+[17]*264+[18]*418+[19]*220)"
      ],
      "execution_count": 65,
      "outputs": []
    },
    {
      "cell_type": "code",
      "metadata": {
        "id": "B4vZxCy6M4TF"
      },
      "source": [
        "def data_generator(x, y, batch_size=20):\n",
        "  while True:\n",
        "    idx = np.random.randint(0, len(x), size=batch_size)\n",
        "    x_batch, y_batch = x[idx], y[idx]\n",
        "    x_final = []\n",
        "    for path in x_batch:\n",
        "      img = Image.open(path).resize((224, 224)).convert(\"RGB\")    #  開啟路徑圖檔並改大小、轉成RGB\n",
        "      img_pre = preprocess_input(np.array(img))              # 轉成陣列再預處理\n",
        "      x_final.append(img_pre)            \n",
        "    x_final = np.array(x_final)\n",
        "    y_batch = np.array(y_batch)\n",
        "    yield (x_final, y_batch)\n",
        "gen = data_generator(x, y)\n",
        "x_gen, y_gen = gen.__next__()\n",
        "# print(x_gen.shape)\n",
        "# print(y_gen.shape)\n",
        "print(x_gen)\n",
        "# print(y_gen)\n"
      ],
      "execution_count": null,
      "outputs": []
    },
    {
      "cell_type": "code",
      "metadata": {
        "colab": {
          "base_uri": "https://localhost:8080/"
        },
        "id": "cVyI9sV9M-WX",
        "outputId": "fa47fd94-389a-4d8d-a9fb-b27a1767e4e5"
      },
      "source": [
        "from sklearn.model_selection import train_test_split\n",
        "import numpy as np\n",
        "\n",
        "x_train, x_test, y_train, y_test = train_test_split(x, y, test_size=0.1)\n",
        "print(x_train.shape)\n",
        "print(x_test.shape)\n",
        "print(y_train.shape)\n",
        "print(y_test.shape)"
      ],
      "execution_count": 67,
      "outputs": [
        {
          "output_type": "stream",
          "name": "stdout",
          "text": [
            "(6620,)\n",
            "(736,)\n",
            "(6620,)\n",
            "(736,)\n"
          ]
        }
      ]
    },
    {
      "cell_type": "code",
      "metadata": {
        "id": "MbDhUsOaeYne"
      },
      "source": [
        "train_generator = data_generator(x_train, y_train)\n",
        "test_generator = data_generator(x_test, y_test)"
      ],
      "execution_count": 68,
      "outputs": []
    },
    {
      "cell_type": "code",
      "metadata": {
        "colab": {
          "base_uri": "https://localhost:8080/"
        },
        "id": "5TVJqxpiefxg",
        "outputId": "4805558a-5a02-42d5-b0ac-5e09a152b74b"
      },
      "source": [
        "from tensorflow.keras.callbacks import EarlyStopping, ModelCheckpoint, LearningRateScheduler\n",
        "import keras\n",
        "def scheduler(epoch, lr):\n",
        "    if epoch < 10:\n",
        "        return lr\n",
        "    else:\n",
        "        return lr * 0.99\n",
        "keras.callbacks.LearningRateScheduler(scheduler)\n",
        "\n",
        "\n",
        "callbacks = [\n",
        "             EarlyStopping(patience=12, restore_best_weights=True),\n",
        "             ModelCheckpoint(\"/content/1122_mobilenet_all.h5\", save_best_only=True),\n",
        "             LearningRateScheduler(scheduler)\n",
        "]\n",
        "\n",
        "model.fit(\n",
        "    train_generator,\n",
        "    steps_per_epoch=20,\n",
        "    epochs=500,\n",
        "    validation_data=test_generator,\n",
        "    validation_steps=3, \n",
        "    callbacks=callbacks\n",
        "                    )"
      ],
      "execution_count": null,
      "outputs": [
        {
          "output_type": "stream",
          "name": "stdout",
          "text": [
            "Epoch 1/500\n",
            " 9/20 [============>.................] - ETA: 1:17 - loss: 7.9450 - acc: 0.0556"
          ]
        }
      ]
    }
  ]
}