{
  "nbformat": 4,
  "nbformat_minor": 0,
  "metadata": {
    "colab": {
      "name": "查看機車各款數量.ipynb",
      "provenance": [],
      "authorship_tag": "ABX9TyMrzl9UZxtOzHP+Xo570KWx",
      "include_colab_link": true
    },
    "kernelspec": {
      "name": "python3",
      "display_name": "Python 3"
    },
    "language_info": {
      "name": "python"
    }
  },
  "cells": [
    {
      "cell_type": "markdown",
      "metadata": {
        "id": "view-in-github",
        "colab_type": "text"
      },
      "source": [
        "<a href=\"https://colab.research.google.com/github/Whaleman0423/class_no.4_paper/blob/main/%E6%9F%A5%E7%9C%8B%E6%A9%9F%E8%BB%8A%E5%90%84%E6%AC%BE%E6%95%B8%E9%87%8F.ipynb\" target=\"_parent\"><img src=\"https://colab.research.google.com/assets/colab-badge.svg\" alt=\"Open In Colab\"/></a>"
      ]
    },
    {
      "cell_type": "code",
      "metadata": {
        "colab": {
          "base_uri": "https://localhost:8080/"
        },
        "id": "jcCx9qVsjO3l",
        "outputId": "ed219bd5-d478-4673-e6db-4e6674ef73af"
      },
      "source": [
        "# 連接雲端硬碟\n",
        "from google.colab import drive\n",
        "drive.mount('/content/drive')"
      ],
      "execution_count": 1,
      "outputs": [
        {
          "output_type": "stream",
          "name": "stdout",
          "text": [
            "Mounted at /content/drive\n"
          ]
        }
      ]
    },
    {
      "cell_type": "code",
      "metadata": {
        "id": "pb6cT-FEjdfJ"
      },
      "source": [
        "import glob\n",
        "import os\n",
        "os.chdir(\"/content/drive/MyDrive/Tebame_第四組_機車辨識\")"
      ],
      "execution_count": 2,
      "outputs": []
    },
    {
      "cell_type": "code",
      "metadata": {
        "colab": {
          "base_uri": "https://localhost:8080/"
        },
        "id": "XOV7I8FVjlqS",
        "outputId": "62c5d1df-71c0-4029-b0e0-93c0661c552d"
      },
      "source": [
        "# 原始照片\n",
        "scooters_ori = glob.glob(\"/content/drive/MyDrive/Tebame_第四組_機車辨識/原始照片(含外拍及網路)/*\")\n",
        "ori_dir = [i.replace(\"/content/drive/MyDrive/Tebame_第四組_機車辨識/原始照片(含外拍及網路)/\", \"\") for i in scooters_ori]\n",
        "ori_dict = {i:len(glob.glob(\"/content/drive/MyDrive/Tebame_第四組_機車辨識/原始照片(含外拍及網路)/\"+i+\"/*\")) for i in ori_dir }\n",
        "print(\"原始照片各款各有幾張照片(共{}款) : \".format(len(ori_dict)))\n",
        "for i in sorted(ori_dict.items(), key=lambda x:x[1], reverse=True):\n",
        "  print(i, end=\"\\n\")"
      ],
      "execution_count": 3,
      "outputs": [
        {
          "output_type": "stream",
          "name": "stdout",
          "text": [
            "原始照片各款各有幾張照片(共20款) : \n",
            "('YAMAHA_六代勁戰', 754)\n",
            "('KYMCO_新名流', 728)\n",
            "('KYMCO_GP', 714)\n",
            "('SYM_新迪爵', 703)\n",
            "('SYM_FIDDLE', 668)\n",
            "('SYM_JET_SR', 541)\n",
            "('GOGORO_S2', 536)\n",
            "('KYMCO_KRV', 530)\n",
            "('SYM_活力', 506)\n",
            "('SYM_DRG', 482)\n",
            "('YAMAHA_LIMI', 464)\n",
            "('YAMAHA_勁豪', 382)\n",
            "('YAMAHA_FORCE', 317)\n",
            "('SYM_JET_SL', 286)\n",
            "('KYMCO_MANY', 275)\n",
            "('GOGORO_S3', 230)\n",
            "('KYMCO_LIKE', 227)\n",
            "('YAMAHA_BWS', 99)\n",
            "('GOGORO_VIVA_MIX', 92)\n",
            "('YAMAHA_JOG', 77)\n"
          ]
        }
      ]
    },
    {
      "cell_type": "code",
      "metadata": {
        "colab": {
          "base_uri": "https://localhost:8080/"
        },
        "id": "VGiryX-QtNR1",
        "outputId": "a0343736-0211-466c-990b-f0d3089650ce"
      },
      "source": [
        "# 裁剪照片\n",
        "scooters_ori = glob.glob(\"/content/drive/MyDrive/Tebame_第四組_機車辨識/裁剪照片(不含不用裁的)/*\")\n",
        "cut_dir = [i.replace(\"/content/drive/MyDrive/Tebame_第四組_機車辨識/裁剪照片(不含不用裁的)/\", \"\") for i in scooters_ori]\n",
        "cut_dict = {i:len(glob.glob(\"/content/drive/MyDrive/Tebame_第四組_機車辨識/裁剪照片(不含不用裁的)/\"+i+\"/*\")) for i in cut_dir }\n",
        "print(\"裁剪照片各款各有幾張照片 (共{}款) : \".format(len(cut_dict)) )\n",
        "for i in sorted(cut_dict.items(), key=lambda x:x[1], reverse=True):\n",
        "  print(i, end=\"\\n\")"
      ],
      "execution_count": 4,
      "outputs": [
        {
          "output_type": "stream",
          "name": "stdout",
          "text": [
            "裁剪照片各款各有幾張照片 (共20款) : \n",
            "('SYM_FIDDLE_125_裁', 649)\n",
            "('YAMAHA_六代勁戰_125_裁', 541)\n",
            "('SYM_新迪爵_125 _裁', 456)\n",
            "('SYM_DRG_裁', 418)\n",
            "('SYM_活力_125_裁', 354)\n",
            "('GOGORO_S2_裁', 352)\n",
            "('KYMCO_KRV_裁', 331)\n",
            "('YAMAHA_LIMI_125_已裁減', 322)\n",
            "('KYMCO_GP_125_裁', 265)\n",
            "('SYM_JET_SR_125_裁', 219)\n",
            "('SYM_JET_SL_125_裁', 162)\n",
            "('KYMCO_新名流125_裁', 148)\n",
            "('KYMCO_MANY_125_裁', 142)\n",
            "('GOGORO_S3_裁', 84)\n",
            "('KYMCO_LIKE_125_裁', 52)\n",
            "('YAMAHA_JOG_125_裁', 36)\n",
            "('YAMAHA_FORCE_裁', 24)\n",
            "('GOGORO_VIVA_MIX_裁', 19)\n",
            "('YAMAHA_勁豪_125_裁', 7)\n",
            "('YAMAHA_BWS_125_裁', 0)\n"
          ]
        }
      ]
    },
    {
      "cell_type": "code",
      "metadata": {
        "colab": {
          "base_uri": "https://localhost:8080/"
        },
        "id": "ZjosubUAuv_5",
        "outputId": "88ddca78-f9b4-48b1-a767-85555bb0f89d"
      },
      "source": [
        "# 各款總共幾台\n",
        "scooters = [\"S2\", \"S3\", \"VIVA\", \"GP\", \"KRV\", \"LIKE\", \"MANY\", \"新名流\", \"DRG\", \"FIDDLE\",\n",
        "            \"SL\", \"SR\", \"新迪爵\", \"活力\", \"BWS\", \"FORCE\", \"JOG\", \"LIMI\", \"六代勁戰\", \"勁豪\"]\n",
        "total = 0\n",
        "for scooter in scooters:\n",
        "  # print(scooter)\n",
        "  for (i,j) in ori_dict.items():   \n",
        "    for (a,b) in cut_dict.items():\n",
        "      if scooter in i and scooter in a:\n",
        "        x = int(j) +int(b)\n",
        "        total += x\n",
        "        print(scooter, \"總共有:\", x, \"張\")\n",
        "print(\"全車款總共{}\".format(total))"
      ],
      "execution_count": 6,
      "outputs": [
        {
          "output_type": "stream",
          "name": "stdout",
          "text": [
            "S2 總共有: 888 張\n",
            "S3 總共有: 314 張\n",
            "VIVA 總共有: 111 張\n",
            "GP 總共有: 979 張\n",
            "KRV 總共有: 861 張\n",
            "LIKE 總共有: 279 張\n",
            "MANY 總共有: 417 張\n",
            "新名流 總共有: 876 張\n",
            "DRG 總共有: 900 張\n",
            "FIDDLE 總共有: 1317 張\n",
            "SL 總共有: 448 張\n",
            "SR 總共有: 760 張\n",
            "新迪爵 總共有: 1159 張\n",
            "活力 總共有: 860 張\n",
            "BWS 總共有: 99 張\n",
            "FORCE 總共有: 341 張\n",
            "JOG 總共有: 113 張\n",
            "LIMI 總共有: 786 張\n",
            "六代勁戰 總共有: 1295 張\n",
            "勁豪 總共有: 389 張\n",
            "全車款總共13192\n"
          ]
        }
      ]
    },
    {
      "cell_type": "code",
      "metadata": {
        "id": "Q25linSigbo6",
        "outputId": "3638539d-8d09-4149-a577-b3ec8f9184d1",
        "colab": {
          "base_uri": "https://localhost:8080/"
        }
      },
      "source": [
        "s2 = glob.glob(\"./原始照片(含外拍及網路)/GOGORO_S2/*\") + glob.glob(\"./裁剪照片(不含不用裁的)/GOGORO_S2_裁/*\") \n",
        "s2_ = []\n",
        "for i in range(len(s2)):\n",
        "  if \"JPG\" in s2[i] or \"jpg\" in s2[i]:\n",
        "    s2_.append(s2[i])\n",
        "# len(s2)\n",
        "# type(s2)\n",
        "# for i in s2:\n",
        "  # print(i)\n",
        "len(s2_)"
      ],
      "execution_count": 31,
      "outputs": [
        {
          "output_type": "execute_result",
          "data": {
            "text/plain": [
              "822"
            ]
          },
          "metadata": {},
          "execution_count": 31
        }
      ]
    },
    {
      "cell_type": "code",
      "metadata": {
        "id": "nnBlFYx5hYSG",
        "outputId": "5de9dbda-827d-4b9b-dcbf-3c7d63ca63a6",
        "colab": {
          "base_uri": "https://localhost:8080/"
        }
      },
      "source": [
        "list1_=[1,2,3,4]\n",
        "del list1_[1]\n",
        "list1_"
      ],
      "execution_count": 8,
      "outputs": [
        {
          "output_type": "execute_result",
          "data": {
            "text/plain": [
              "[1, 3, 4]"
            ]
          },
          "metadata": {},
          "execution_count": 8
        }
      ]
    }
  ]
}