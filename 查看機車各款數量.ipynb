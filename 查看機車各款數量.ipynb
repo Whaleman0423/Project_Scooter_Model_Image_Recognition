{
  "nbformat": 4,
  "nbformat_minor": 0,
  "metadata": {
    "colab": {
      "name": "查看機車各款數量.ipynb",
      "provenance": [],
      "authorship_tag": "ABX9TyN5GHSaE7ehe0LOWIOV8U2C",
      "include_colab_link": true
    },
    "kernelspec": {
      "name": "python3",
      "display_name": "Python 3"
    },
    "language_info": {
      "name": "python"
    }
  },
  "cells": [
    {
      "cell_type": "markdown",
      "metadata": {
        "id": "view-in-github",
        "colab_type": "text"
      },
      "source": [
        "<a href=\"https://colab.research.google.com/github/Whaleman0423/class_no.4_paper/blob/main/%E6%9F%A5%E7%9C%8B%E6%A9%9F%E8%BB%8A%E5%90%84%E6%AC%BE%E6%95%B8%E9%87%8F.ipynb\" target=\"_parent\"><img src=\"https://colab.research.google.com/assets/colab-badge.svg\" alt=\"Open In Colab\"/></a>"
      ]
    },
    {
      "cell_type": "code",
      "metadata": {
        "colab": {
          "base_uri": "https://localhost:8080/"
        },
        "id": "jcCx9qVsjO3l",
        "outputId": "c1a1f98a-8639-4a2c-b8e9-2efb94cc9b93"
      },
      "source": [
        "# 連接雲端硬碟\n",
        "from google.colab import drive\n",
        "drive.mount('/content/drive')"
      ],
      "execution_count": 1,
      "outputs": [
        {
          "output_type": "stream",
          "name": "stdout",
          "text": [
            "Mounted at /content/drive\n"
          ]
        }
      ]
    },
    {
      "cell_type": "code",
      "metadata": {
        "id": "pb6cT-FEjdfJ"
      },
      "source": [
        "import glob\n",
        "import os\n",
        "os.chdir(\"/content/drive/MyDrive/Tebame_第四組_機車辨識\")"
      ],
      "execution_count": 4,
      "outputs": []
    },
    {
      "cell_type": "code",
      "metadata": {
        "colab": {
          "base_uri": "https://localhost:8080/"
        },
        "id": "XOV7I8FVjlqS",
        "outputId": "bc81f2da-fe71-43ac-9569-71554e806b92"
      },
      "source": [
        "# 原始照片\n",
        "scooters_ori = glob.glob(\"/content/drive/MyDrive/Tebame_第四組_機車辨識/原始照片(含外拍及網路)/*\")\n",
        "ori_dir = [i.replace(\"/content/drive/MyDrive/Tebame_第四組_機車辨識/原始照片(含外拍及網路)/\", \"\") for i in scooters_ori]\n",
        "ori_dict = {i:len(glob.glob(\"/content/drive/MyDrive/Tebame_第四組_機車辨識/原始照片(含外拍及網路)/\"+i+\"/*\")) for i in ori_dir }\n",
        "print(\"原始照片各款各有幾張照片(共{}款) : \".format(len(ori_dict)))\n",
        "for i in sorted(ori_dict.items(), key=lambda x:x[1], reverse=True):\n",
        "  print(i, end=\"\\n\")"
      ],
      "execution_count": 47,
      "outputs": [
        {
          "output_type": "stream",
          "name": "stdout",
          "text": [
            "原始照片各款各有幾張照片(共20款) : \n",
            "('YAMAHA_六代勁戰', 672)\n",
            "('KYMCO_新名流', 667)\n",
            "('SYM_新迪爵', 642)\n",
            "('SYM_FIDDLE', 607)\n",
            "('KYMCO_KRV', 485)\n",
            "('KYMCO_GP', 446)\n",
            "('YAMAHA_LIMI', 427)\n",
            "('SYM_DRG', 421)\n",
            "('SYM_JET_SR', 419)\n",
            "('SYM_活力', 418)\n",
            "('GOGORO_S2', 347)\n",
            "('SYM_JET_SL', 162)\n",
            "('YAMAHA_勁豪', 154)\n",
            "('KYMCO_MANY', 150)\n",
            "('GOGORO_S3', 104)\n",
            "('KYMCO_LIKE', 73)\n",
            "('YAMAHA_BWS', 56)\n",
            "('YAMAHA_JOG', 45)\n",
            "('GOGORO_VIVA_MIX', 35)\n",
            "('YAMAHA_FORCE', 24)\n"
          ]
        }
      ]
    },
    {
      "cell_type": "code",
      "metadata": {
        "colab": {
          "base_uri": "https://localhost:8080/"
        },
        "id": "VGiryX-QtNR1",
        "outputId": "59fb1bc9-0a0e-43b6-9b6e-4c968cf46121"
      },
      "source": [
        "# 裁剪照片\n",
        "scooters_ori = glob.glob(\"/content/drive/MyDrive/Tebame_第四組_機車辨識/裁剪照片(不含不用裁的)/*\")\n",
        "cut_dir = [i.replace(\"/content/drive/MyDrive/Tebame_第四組_機車辨識/裁剪照片(不含不用裁的)/\", \"\") for i in scooters_ori]\n",
        "cut_dict = {i:len(glob.glob(\"/content/drive/MyDrive/Tebame_第四組_機車辨識/裁剪照片(不含不用裁的)/\"+i+\"/*\")) for i in cut_dir }\n",
        "print(\"裁剪照片各款各有幾張照片 (共{}款) : \".format(len(cut_dict)) )\n",
        "for i in sorted(cut_dict.items(), key=lambda x:x[1], reverse=True):\n",
        "  print(i, end=\"\\n\")"
      ],
      "execution_count": 45,
      "outputs": [
        {
          "output_type": "stream",
          "name": "stdout",
          "text": [
            "裁剪照片各款各有幾張照片 (共19款) : \n",
            "('SYM_FIDDLE_125_裁', 599)\n",
            "('YAMAHA_六代勁戰_125_裁', 541)\n",
            "('SYM_新迪爵_125 _裁', 442)\n",
            "('SYM_DRG_裁', 371)\n",
            "('GOGORO_S2_裁', 352)\n",
            "('SYM_活力_125_裁', 308)\n",
            "('KYMCO_KRV_裁', 298)\n",
            "('KYMCO_GP_125_裁', 183)\n",
            "('YAMAHA_LIMI_125_已裁減', 154)\n",
            "('SYM_JET_SR_125_裁', 150)\n",
            "('SYM_JET_SL_125_裁', 132)\n",
            "('KYMCO_MANY_125_裁', 132)\n",
            "('KYMCO_新名流125_裁', 129)\n",
            "('YAMAHA_JOG_125_裁', 32)\n",
            "('KYMCO_LIKE_125_裁', 16)\n",
            "('GOGORO_VIVA_MIX_裁', 16)\n",
            "('YAMAHA_勁豪_125_裁', 0)\n",
            "('YAMAHA_BWS_125_裁', 0)\n",
            "('GOGORO_S3_裁', 0)\n"
          ]
        }
      ]
    },
    {
      "cell_type": "code",
      "metadata": {
        "colab": {
          "base_uri": "https://localhost:8080/"
        },
        "id": "ZjosubUAuv_5",
        "outputId": "930ceb6b-62fb-4654-d35b-d7f93d89ad07"
      },
      "source": [
        "# 各款總共幾台\n",
        "scooters = [\"S2\", \"S3\", \"VIVA\", \"GP\", \"KRV\", \"LIKE\", \"MANY\", \"新名流\", \"DRG\", \"FIDDLE\",\n",
        "            \"SL\", \"SR\", \"新迪爵\", \"活力\", \"BWS\", \"FORCE\", \"JOG\", \"LIMI\", \"六代勁戰\", \"勁豪\"]\n",
        "for scooter in scooters:\n",
        "  # print(scooter)\n",
        "  for (i,j) in ori_dict.items():   \n",
        "    for (a,b) in cut_dict.items():\n",
        "      if scooter in i and scooter in a:\n",
        "        x = int(j) +int(b)\n",
        "        print(scooter, \"總共有:\", x, \"張\")\n"
      ],
      "execution_count": 83,
      "outputs": [
        {
          "output_type": "stream",
          "name": "stdout",
          "text": [
            "S2 總共有: 699 張\n",
            "S3 總共有: 104 張\n",
            "VIVA 總共有: 51 張\n",
            "GP 總共有: 629 張\n",
            "KRV 總共有: 783 張\n",
            "LIKE 總共有: 89 張\n",
            "MANY 總共有: 282 張\n",
            "新名流 總共有: 796 張\n",
            "DRG 總共有: 792 張\n",
            "FIDDLE 總共有: 1206 張\n",
            "SL 總共有: 294 張\n",
            "SR 總共有: 569 張\n",
            "新迪爵 總共有: 1084 張\n",
            "活力 總共有: 726 張\n",
            "BWS 總共有: 56 張\n",
            "JOG 總共有: 77 張\n",
            "LIMI 總共有: 581 張\n",
            "六代勁戰 總共有: 1213 張\n",
            "勁豪 總共有: 154 張\n"
          ]
        }
      ]
    }
  ]
}