{
  "nbformat": 4,
  "nbformat_minor": 0,
  "metadata": {
    "colab": {
      "name": "機車二手價回歸.ipynb",
      "provenance": [],
      "collapsed_sections": [],
      "authorship_tag": "ABX9TyOaq1qCRdbpzOCKMmS4ecus",
      "include_colab_link": true
    },
    "kernelspec": {
      "name": "python3",
      "display_name": "Python 3"
    },
    "language_info": {
      "name": "python"
    }
  },
  "cells": [
    {
      "cell_type": "markdown",
      "metadata": {
        "id": "view-in-github",
        "colab_type": "text"
      },
      "source": [
        "<a href=\"https://colab.research.google.com/github/Whaleman0423/class_no.4_paper/blob/main/%E6%A9%9F%E8%BB%8A%E4%BA%8C%E6%89%8B%E5%83%B9%E5%9B%9E%E6%AD%B8.ipynb\" target=\"_parent\"><img src=\"https://colab.research.google.com/assets/colab-badge.svg\" alt=\"Open In Colab\"/></a>"
      ]
    },
    {
      "cell_type": "code",
      "metadata": {
        "colab": {
          "base_uri": "https://localhost:8080/"
        },
        "id": "eQS1b1yytoPe",
        "outputId": "788dc900-51fd-478d-ac68-fed230ef3766"
      },
      "source": [
        "from google.colab import drive\n",
        "drive.mount('/content/drive')"
      ],
      "execution_count": 371,
      "outputs": [
        {
          "output_type": "stream",
          "name": "stdout",
          "text": [
            "Drive already mounted at /content/drive; to attempt to forcibly remount, call drive.mount(\"/content/drive\", force_remount=True).\n"
          ]
        }
      ]
    },
    {
      "cell_type": "code",
      "metadata": {
        "colab": {
          "base_uri": "https://localhost:8080/",
          "height": 422
        },
        "id": "3s7csJlPt6Av",
        "outputId": "0bcfce7a-db3f-4ae6-82b3-8390fd3586df"
      },
      "source": [
        "import pandas as pd\n",
        "df = pd.read_csv(\"/content/drive/MyDrive/Tebame_第四組_機車辨識/二手車價/yamah勁戰2.csv\")\n",
        "df"
      ],
      "execution_count": 372,
      "outputs": [
        {
          "output_type": "execute_result",
          "data": {
            "text/html": [
              "<div>\n",
              "<style scoped>\n",
              "    .dataframe tbody tr th:only-of-type {\n",
              "        vertical-align: middle;\n",
              "    }\n",
              "\n",
              "    .dataframe tbody tr th {\n",
              "        vertical-align: top;\n",
              "    }\n",
              "\n",
              "    .dataframe thead th {\n",
              "        text-align: right;\n",
              "    }\n",
              "</style>\n",
              "<table border=\"1\" class=\"dataframe\">\n",
              "  <thead>\n",
              "    <tr style=\"text-align: right;\">\n",
              "      <th></th>\n",
              "      <th>標題</th>\n",
              "      <th>出廠年份</th>\n",
              "      <th>二手價</th>\n",
              "      <th>里程</th>\n",
              "    </tr>\n",
              "  </thead>\n",
              "  <tbody>\n",
              "    <tr>\n",
              "      <th>0</th>\n",
              "      <td>山葉/Yamaha - ★山葉勁戰 三代勁戰  125★嚴選推薦.輕鬆買.輕鬆繳</td>\n",
              "      <td>2013年</td>\n",
              "      <td>3.5萬</td>\n",
              "      <td>未填寫</td>\n",
              "    </tr>\n",
              "    <tr>\n",
              "      <th>1</th>\n",
              "      <td>山葉/Yamaha - ★山葉勁戰 二代勁戰 125★嚴選推薦.輕鬆買.輕鬆繳</td>\n",
              "      <td>2011年</td>\n",
              "      <td>2.8萬</td>\n",
              "      <td>未填寫</td>\n",
              "    </tr>\n",
              "    <tr>\n",
              "      <th>2</th>\n",
              "      <td>山葉/Yamaha - 山葉 二代勁戰125  滿18即可分期 下殺流血價</td>\n",
              "      <td>2008年</td>\n",
              "      <td>1.9萬</td>\n",
              "      <td>未填寫</td>\n",
              "    </tr>\n",
              "    <tr>\n",
              "      <th>3</th>\n",
              "      <td>山葉/Yamaha - 已出售請勿再來電</td>\n",
              "      <td>2014年</td>\n",
              "      <td>3.2萬</td>\n",
              "      <td>2.2萬 公里</td>\n",
              "    </tr>\n",
              "    <tr>\n",
              "      <th>4</th>\n",
              "      <td>山葉/Yamaha - 自售新勁戰2</td>\n",
              "      <td>2008年</td>\n",
              "      <td>1.6萬</td>\n",
              "      <td>6.5萬 公里</td>\n",
              "    </tr>\n",
              "    <tr>\n",
              "      <th>...</th>\n",
              "      <td>...</td>\n",
              "      <td>...</td>\n",
              "      <td>...</td>\n",
              "      <td>...</td>\n",
              "    </tr>\n",
              "    <tr>\n",
              "      <th>258</th>\n",
              "      <td>山葉/Yamaha - 原廠無改無事故無泡水</td>\n",
              "      <td>2010年</td>\n",
              "      <td>5.0萬</td>\n",
              "      <td>1.3萬 公里</td>\n",
              "    </tr>\n",
              "    <tr>\n",
              "      <th>259</th>\n",
              "      <td>山葉/Yamaha - 08年新勁戰</td>\n",
              "      <td>2008年</td>\n",
              "      <td>4.3萬</td>\n",
              "      <td>1.5萬 公里</td>\n",
              "    </tr>\n",
              "    <tr>\n",
              "      <th>260</th>\n",
              "      <td>山葉/Yamaha - 自售 2008年12月出廠新勁戰改58.5 有力車況超優 3.9萬不...</td>\n",
              "      <td>2008年</td>\n",
              "      <td>3.9萬</td>\n",
              "      <td>1.8萬 公里</td>\n",
              "    </tr>\n",
              "    <tr>\n",
              "      <th>261</th>\n",
              "      <td>山葉/Yamaha - 2012年7月出廠9月領牌.漂亮如新山葉新勁戰(含過戶)便宜賣.可分...</td>\n",
              "      <td>2012年</td>\n",
              "      <td>6.9萬</td>\n",
              "      <td>0.4萬 公里</td>\n",
              "    </tr>\n",
              "    <tr>\n",
              "      <th>262</th>\n",
              "      <td>山葉/Yamaha - 自售 山葉 勁戰125cc 2007年~車況佳~很少騎~歡迎預約看車...</td>\n",
              "      <td>2007年</td>\n",
              "      <td>4.3萬</td>\n",
              "      <td>3.0萬 公里</td>\n",
              "    </tr>\n",
              "  </tbody>\n",
              "</table>\n",
              "<p>263 rows × 4 columns</p>\n",
              "</div>"
            ],
            "text/plain": [
              "                                                    標題   出廠年份   二手價       里程\n",
              "0         山葉/Yamaha - ★山葉勁戰 三代勁戰  125★嚴選推薦.輕鬆買.輕鬆繳      2013年  3.5萬     未填寫 \n",
              "1          山葉/Yamaha - ★山葉勁戰 二代勁戰 125★嚴選推薦.輕鬆買.輕鬆繳      2011年  2.8萬     未填寫 \n",
              "2            山葉/Yamaha - 山葉 二代勁戰125  滿18即可分期 下殺流血價      2008年  1.9萬     未填寫 \n",
              "3                             山葉/Yamaha - 已出售請勿再來電      2014年  3.2萬  2.2萬 公里\n",
              "4                               山葉/Yamaha - 自售新勁戰2      2008年  1.6萬  6.5萬 公里\n",
              "..                                                 ...    ...   ...      ...\n",
              "258                         山葉/Yamaha - 原廠無改無事故無泡水      2010年  5.0萬  1.3萬 公里\n",
              "259                             山葉/Yamaha - 08年新勁戰      2008年  4.3萬  1.5萬 公里\n",
              "260  山葉/Yamaha - 自售 2008年12月出廠新勁戰改58.5 有力車況超優 3.9萬不...  2008年  3.9萬  1.8萬 公里\n",
              "261  山葉/Yamaha - 2012年7月出廠9月領牌.漂亮如新山葉新勁戰(含過戶)便宜賣.可分...  2012年  6.9萬  0.4萬 公里\n",
              "262  山葉/Yamaha - 自售 山葉 勁戰125cc 2007年~車況佳~很少騎~歡迎預約看車...  2007年  4.3萬  3.0萬 公里\n",
              "\n",
              "[263 rows x 4 columns]"
            ]
          },
          "metadata": {},
          "execution_count": 372
        }
      ]
    },
    {
      "cell_type": "code",
      "metadata": {
        "colab": {
          "base_uri": "https://localhost:8080/",
          "height": 422
        },
        "id": "7QDhCErNxJoa",
        "outputId": "45ffaad0-6df5-4b6f-a844-ea698bc5d639"
      },
      "source": [
        "# 留下里程數跟二手價 去除掉里程數未填寫的項目\n",
        "df = pd.DataFrame(\n",
        "    {\n",
        "       \"里程數\":[df[\"里程\"][i].replace(\"公里\", \"\") for i in range(len(df)) if not \"未填寫\" in df[\"里程\"][i]],\n",
        "       \"二手價\":[float(df[\"二手價\"][i].replace(\"萬\", \"\"))*10000.0 for i in range(len(df)) if not \"未填寫\" in df[\"里程\"][i]]\n",
        "     }\n",
        "    )\n",
        "df"
      ],
      "execution_count": 373,
      "outputs": [
        {
          "output_type": "execute_result",
          "data": {
            "text/html": [
              "<div>\n",
              "<style scoped>\n",
              "    .dataframe tbody tr th:only-of-type {\n",
              "        vertical-align: middle;\n",
              "    }\n",
              "\n",
              "    .dataframe tbody tr th {\n",
              "        vertical-align: top;\n",
              "    }\n",
              "\n",
              "    .dataframe thead th {\n",
              "        text-align: right;\n",
              "    }\n",
              "</style>\n",
              "<table border=\"1\" class=\"dataframe\">\n",
              "  <thead>\n",
              "    <tr style=\"text-align: right;\">\n",
              "      <th></th>\n",
              "      <th>里程數</th>\n",
              "      <th>二手價</th>\n",
              "    </tr>\n",
              "  </thead>\n",
              "  <tbody>\n",
              "    <tr>\n",
              "      <th>0</th>\n",
              "      <td>2.2萬</td>\n",
              "      <td>32000.0</td>\n",
              "    </tr>\n",
              "    <tr>\n",
              "      <th>1</th>\n",
              "      <td>6.5萬</td>\n",
              "      <td>16000.0</td>\n",
              "    </tr>\n",
              "    <tr>\n",
              "      <th>2</th>\n",
              "      <td>3.0萬</td>\n",
              "      <td>33000.0</td>\n",
              "    </tr>\n",
              "    <tr>\n",
              "      <th>3</th>\n",
              "      <td>2.7萬</td>\n",
              "      <td>30000.0</td>\n",
              "    </tr>\n",
              "    <tr>\n",
              "      <th>4</th>\n",
              "      <td>7.1萬</td>\n",
              "      <td>18000.0</td>\n",
              "    </tr>\n",
              "    <tr>\n",
              "      <th>...</th>\n",
              "      <td>...</td>\n",
              "      <td>...</td>\n",
              "    </tr>\n",
              "    <tr>\n",
              "      <th>200</th>\n",
              "      <td>1.3萬</td>\n",
              "      <td>50000.0</td>\n",
              "    </tr>\n",
              "    <tr>\n",
              "      <th>201</th>\n",
              "      <td>1.5萬</td>\n",
              "      <td>43000.0</td>\n",
              "    </tr>\n",
              "    <tr>\n",
              "      <th>202</th>\n",
              "      <td>1.8萬</td>\n",
              "      <td>39000.0</td>\n",
              "    </tr>\n",
              "    <tr>\n",
              "      <th>203</th>\n",
              "      <td>0.4萬</td>\n",
              "      <td>69000.0</td>\n",
              "    </tr>\n",
              "    <tr>\n",
              "      <th>204</th>\n",
              "      <td>3.0萬</td>\n",
              "      <td>43000.0</td>\n",
              "    </tr>\n",
              "  </tbody>\n",
              "</table>\n",
              "<p>205 rows × 2 columns</p>\n",
              "</div>"
            ],
            "text/plain": [
              "       里程數      二手價\n",
              "0    2.2萬   32000.0\n",
              "1    6.5萬   16000.0\n",
              "2    3.0萬   33000.0\n",
              "3    2.7萬   30000.0\n",
              "4    7.1萬   18000.0\n",
              "..     ...      ...\n",
              "200  1.3萬   50000.0\n",
              "201  1.5萬   43000.0\n",
              "202  1.8萬   39000.0\n",
              "203  0.4萬   69000.0\n",
              "204  3.0萬   43000.0\n",
              "\n",
              "[205 rows x 2 columns]"
            ]
          },
          "metadata": {},
          "execution_count": 373
        }
      ]
    },
    {
      "cell_type": "code",
      "metadata": {
        "colab": {
          "base_uri": "https://localhost:8080/",
          "height": 604
        },
        "id": "TM_82rML3IUs",
        "outputId": "48dd4847-e11b-4675-b4a2-a926c1b69bc6"
      },
      "source": [
        "#  更改里程數單位\n",
        "for r in range(len(df)):\n",
        "  if \"萬\" in df[\"里程數\"][r]:\n",
        "    df[\"里程數\"][r] = float(df[\"里程數\"][r].replace(\"萬\", \"\"))*10000.0\n",
        "  else:\n",
        "    df[\"里程數\"][r] = float(df[\"里程數\"][r])\n",
        "df"
      ],
      "execution_count": 374,
      "outputs": [
        {
          "output_type": "stream",
          "name": "stderr",
          "text": [
            "/usr/local/lib/python3.7/dist-packages/ipykernel_launcher.py:4: SettingWithCopyWarning: \n",
            "A value is trying to be set on a copy of a slice from a DataFrame\n",
            "\n",
            "See the caveats in the documentation: https://pandas.pydata.org/pandas-docs/stable/user_guide/indexing.html#returning-a-view-versus-a-copy\n",
            "  after removing the cwd from sys.path.\n",
            "/usr/local/lib/python3.7/dist-packages/ipykernel_launcher.py:6: SettingWithCopyWarning: \n",
            "A value is trying to be set on a copy of a slice from a DataFrame\n",
            "\n",
            "See the caveats in the documentation: https://pandas.pydata.org/pandas-docs/stable/user_guide/indexing.html#returning-a-view-versus-a-copy\n",
            "  \n"
          ]
        },
        {
          "output_type": "execute_result",
          "data": {
            "text/html": [
              "<div>\n",
              "<style scoped>\n",
              "    .dataframe tbody tr th:only-of-type {\n",
              "        vertical-align: middle;\n",
              "    }\n",
              "\n",
              "    .dataframe tbody tr th {\n",
              "        vertical-align: top;\n",
              "    }\n",
              "\n",
              "    .dataframe thead th {\n",
              "        text-align: right;\n",
              "    }\n",
              "</style>\n",
              "<table border=\"1\" class=\"dataframe\">\n",
              "  <thead>\n",
              "    <tr style=\"text-align: right;\">\n",
              "      <th></th>\n",
              "      <th>里程數</th>\n",
              "      <th>二手價</th>\n",
              "    </tr>\n",
              "  </thead>\n",
              "  <tbody>\n",
              "    <tr>\n",
              "      <th>0</th>\n",
              "      <td>22000</td>\n",
              "      <td>32000.0</td>\n",
              "    </tr>\n",
              "    <tr>\n",
              "      <th>1</th>\n",
              "      <td>65000</td>\n",
              "      <td>16000.0</td>\n",
              "    </tr>\n",
              "    <tr>\n",
              "      <th>2</th>\n",
              "      <td>30000</td>\n",
              "      <td>33000.0</td>\n",
              "    </tr>\n",
              "    <tr>\n",
              "      <th>3</th>\n",
              "      <td>27000</td>\n",
              "      <td>30000.0</td>\n",
              "    </tr>\n",
              "    <tr>\n",
              "      <th>4</th>\n",
              "      <td>71000</td>\n",
              "      <td>18000.0</td>\n",
              "    </tr>\n",
              "    <tr>\n",
              "      <th>...</th>\n",
              "      <td>...</td>\n",
              "      <td>...</td>\n",
              "    </tr>\n",
              "    <tr>\n",
              "      <th>200</th>\n",
              "      <td>13000</td>\n",
              "      <td>50000.0</td>\n",
              "    </tr>\n",
              "    <tr>\n",
              "      <th>201</th>\n",
              "      <td>15000</td>\n",
              "      <td>43000.0</td>\n",
              "    </tr>\n",
              "    <tr>\n",
              "      <th>202</th>\n",
              "      <td>18000</td>\n",
              "      <td>39000.0</td>\n",
              "    </tr>\n",
              "    <tr>\n",
              "      <th>203</th>\n",
              "      <td>4000</td>\n",
              "      <td>69000.0</td>\n",
              "    </tr>\n",
              "    <tr>\n",
              "      <th>204</th>\n",
              "      <td>30000</td>\n",
              "      <td>43000.0</td>\n",
              "    </tr>\n",
              "  </tbody>\n",
              "</table>\n",
              "<p>205 rows × 2 columns</p>\n",
              "</div>"
            ],
            "text/plain": [
              "       里程數      二手價\n",
              "0    22000  32000.0\n",
              "1    65000  16000.0\n",
              "2    30000  33000.0\n",
              "3    27000  30000.0\n",
              "4    71000  18000.0\n",
              "..     ...      ...\n",
              "200  13000  50000.0\n",
              "201  15000  43000.0\n",
              "202  18000  39000.0\n",
              "203   4000  69000.0\n",
              "204  30000  43000.0\n",
              "\n",
              "[205 rows x 2 columns]"
            ]
          },
          "metadata": {},
          "execution_count": 374
        }
      ]
    },
    {
      "cell_type": "code",
      "metadata": {
        "id": "u3qRxcko4wZu"
      },
      "source": [
        "from sklearn.model_selection import train_test_split\n",
        "x_train, x_test, y_train, y_test = train_test_split(df[\"里程數\"],df['二手價'], test_size=0.1)"
      ],
      "execution_count": 375,
      "outputs": []
    },
    {
      "cell_type": "code",
      "metadata": {
        "colab": {
          "base_uri": "https://localhost:8080/"
        },
        "id": "p0jtw6pT6pBY",
        "outputId": "42fba719-a8e6-4b8a-ba27-29cecaafb858"
      },
      "source": [
        "x_train"
      ],
      "execution_count": 376,
      "outputs": [
        {
          "output_type": "execute_result",
          "data": {
            "text/plain": [
              "92      7000\n",
              "181    10000\n",
              "20       101\n",
              "12      6000\n",
              "52     15000\n",
              "       ...  \n",
              "170        3\n",
              "183    50000\n",
              "0      22000\n",
              "169     7000\n",
              "50      6000\n",
              "Name: 里程數, Length: 184, dtype: object"
            ]
          },
          "metadata": {},
          "execution_count": 376
        }
      ]
    },
    {
      "cell_type": "code",
      "metadata": {
        "colab": {
          "base_uri": "https://localhost:8080/"
        },
        "id": "iVmfUk_t6DRL",
        "outputId": "14e65007-25d3-4f12-e6f8-ce4995772f57"
      },
      "source": [
        "from sklearn.tree import DecisionTreeRegressor\n",
        "reg = DecisionTreeRegressor(max_depth=5)\n",
        "reg.fit(x_train.to_frame(), y_train)"
      ],
      "execution_count": 377,
      "outputs": [
        {
          "output_type": "execute_result",
          "data": {
            "text/plain": [
              "DecisionTreeRegressor(ccp_alpha=0.0, criterion='mse', max_depth=5,\n",
              "                      max_features=None, max_leaf_nodes=None,\n",
              "                      min_impurity_decrease=0.0, min_impurity_split=None,\n",
              "                      min_samples_leaf=1, min_samples_split=2,\n",
              "                      min_weight_fraction_leaf=0.0, presort='deprecated',\n",
              "                      random_state=None, splitter='best')"
            ]
          },
          "metadata": {},
          "execution_count": 377
        }
      ]
    },
    {
      "cell_type": "code",
      "metadata": {
        "colab": {
          "base_uri": "https://localhost:8080/",
          "height": 815
        },
        "id": "oMZqn_w_71Rz",
        "outputId": "b97a45ad-44dd-45e3-bcc9-38655eb9ef84"
      },
      "source": [
        "from sklearn.tree import export_graphviz\n",
        "import graphviz\n",
        "import numpy as np\n",
        "import matplotlib.pyplot as plt\n",
        "F = np.array([\"里程數\"])\n",
        "g = export_graphviz(reg, \n",
        "          out_file=None, \n",
        "          feature_names=F,\n",
        "          filled=True\n",
        "        )\n",
        "graph = graphviz.Source(g)\n",
        "graph"
      ],
      "execution_count": 378,
      "outputs": [
        {
          "output_type": "execute_result",
          "data": {
            "text/plain": [
              "<graphviz.files.Source at 0x7fd79b8abb50>"
            ],
            "image/svg+xml": "<?xml version=\"1.0\" encoding=\"UTF-8\" standalone=\"no\"?>\n<!DOCTYPE svg PUBLIC \"-//W3C//DTD SVG 1.1//EN\"\n \"http://www.w3.org/Graphics/SVG/1.1/DTD/svg11.dtd\">\n<!-- Generated by graphviz version 2.40.1 (20161225.0304)\n -->\n<!-- Title: Tree Pages: 1 -->\n<svg width=\"2661pt\" height=\"581pt\"\n viewBox=\"0.00 0.00 2661.00 581.00\" xmlns=\"http://www.w3.org/2000/svg\" xmlns:xlink=\"http://www.w3.org/1999/xlink\">\n<g id=\"graph0\" class=\"graph\" transform=\"scale(1 1) rotate(0) translate(4 577)\">\n<title>Tree</title>\n<polygon fill=\"#ffffff\" stroke=\"transparent\" points=\"-4,4 -4,-577 2657,-577 2657,4 -4,4\"/>\n<!-- 0 -->\n<g id=\"node1\" class=\"node\">\n<title>0</title>\n<polygon fill=\"#f3c3a1\" stroke=\"#000000\" points=\"1033.5,-573 884.5,-573 884.5,-505 1033.5,-505 1033.5,-573\"/>\n<text text-anchor=\"middle\" x=\"959\" y=\"-557.8\" font-family=\"Times,serif\" font-size=\"14.00\" fill=\"#000000\">里程數 &lt;= 9500.0</text>\n<text text-anchor=\"middle\" x=\"959\" y=\"-542.8\" font-family=\"Times,serif\" font-size=\"14.00\" fill=\"#000000\">mse = 237028355.388</text>\n<text text-anchor=\"middle\" x=\"959\" y=\"-527.8\" font-family=\"Times,serif\" font-size=\"14.00\" fill=\"#000000\">samples = 184</text>\n<text text-anchor=\"middle\" x=\"959\" y=\"-512.8\" font-family=\"Times,serif\" font-size=\"14.00\" fill=\"#000000\">value = 43565.217</text>\n</g>\n<!-- 1 -->\n<g id=\"node2\" class=\"node\">\n<title>1</title>\n<polygon fill=\"#eda876\" stroke=\"#000000\" points=\"770,-469 622,-469 622,-401 770,-401 770,-469\"/>\n<text text-anchor=\"middle\" x=\"696\" y=\"-453.8\" font-family=\"Times,serif\" font-size=\"14.00\" fill=\"#000000\">里程數 &lt;= 7500.0</text>\n<text text-anchor=\"middle\" x=\"696\" y=\"-438.8\" font-family=\"Times,serif\" font-size=\"14.00\" fill=\"#000000\">mse = 113767241.379</text>\n<text text-anchor=\"middle\" x=\"696\" y=\"-423.8\" font-family=\"Times,serif\" font-size=\"14.00\" fill=\"#000000\">samples = 58</text>\n<text text-anchor=\"middle\" x=\"696\" y=\"-408.8\" font-family=\"Times,serif\" font-size=\"14.00\" fill=\"#000000\">value = 56500.0</text>\n</g>\n<!-- 0&#45;&gt;1 -->\n<g id=\"edge1\" class=\"edge\">\n<title>0&#45;&gt;1</title>\n<path fill=\"none\" stroke=\"#000000\" d=\"M884.3382,-509.476C851.7172,-496.5764 813.3176,-481.3918 779.73,-468.1099\"/>\n<polygon fill=\"#000000\" stroke=\"#000000\" points=\"780.9793,-464.8403 770.3929,-464.4177 778.4052,-471.3499 780.9793,-464.8403\"/>\n<text text-anchor=\"middle\" x=\"780.3314\" y=\"-483.6574\" font-family=\"Times,serif\" font-size=\"14.00\" fill=\"#000000\">True</text>\n</g>\n<!-- 14 -->\n<g id=\"node15\" class=\"node\">\n<title>14</title>\n<polygon fill=\"#f5d0b4\" stroke=\"#000000\" points=\"1281,-469 1133,-469 1133,-401 1281,-401 1281,-469\"/>\n<text text-anchor=\"middle\" x=\"1207\" y=\"-453.8\" font-family=\"Times,serif\" font-size=\"14.00\" fill=\"#000000\">里程數 &lt;= 59000.0</text>\n<text text-anchor=\"middle\" x=\"1207\" y=\"-438.8\" font-family=\"Times,serif\" font-size=\"14.00\" fill=\"#000000\">mse = 181301146.384</text>\n<text text-anchor=\"middle\" x=\"1207\" y=\"-423.8\" font-family=\"Times,serif\" font-size=\"14.00\" fill=\"#000000\">samples = 126</text>\n<text text-anchor=\"middle\" x=\"1207\" y=\"-408.8\" font-family=\"Times,serif\" font-size=\"14.00\" fill=\"#000000\">value = 37611.111</text>\n</g>\n<!-- 0&#45;&gt;14 -->\n<g id=\"edge14\" class=\"edge\">\n<title>0&#45;&gt;14</title>\n<path fill=\"none\" stroke=\"#000000\" d=\"M1033.7445,-507.6555C1062.0569,-495.7826 1094.4602,-482.1941 1123.5258,-470.0053\"/>\n<polygon fill=\"#000000\" stroke=\"#000000\" points=\"1124.9675,-473.1961 1132.8359,-466.1011 1122.2604,-466.7407 1124.9675,-473.1961\"/>\n<text text-anchor=\"middle\" x=\"1123.3701\" y=\"-485.5397\" font-family=\"Times,serif\" font-size=\"14.00\" fill=\"#000000\">False</text>\n</g>\n<!-- 2 -->\n<g id=\"node3\" class=\"node\">\n<title>2</title>\n<polygon fill=\"#eca470\" stroke=\"#000000\" points=\"501,-365 353,-365 353,-297 501,-297 501,-365\"/>\n<text text-anchor=\"middle\" x=\"427\" y=\"-349.8\" font-family=\"Times,serif\" font-size=\"14.00\" fill=\"#000000\">里程數 &lt;= 1.5</text>\n<text text-anchor=\"middle\" x=\"427\" y=\"-334.8\" font-family=\"Times,serif\" font-size=\"14.00\" fill=\"#000000\">mse = 117380165.289</text>\n<text text-anchor=\"middle\" x=\"427\" y=\"-319.8\" font-family=\"Times,serif\" font-size=\"14.00\" fill=\"#000000\">samples = 44</text>\n<text text-anchor=\"middle\" x=\"427\" y=\"-304.8\" font-family=\"Times,serif\" font-size=\"14.00\" fill=\"#000000\">value = 58272.727</text>\n</g>\n<!-- 1&#45;&gt;2 -->\n<g id=\"edge2\" class=\"edge\">\n<title>1&#45;&gt;2</title>\n<path fill=\"none\" stroke=\"#000000\" d=\"M621.7825,-406.3062C587.3784,-393.005 546.3393,-377.1386 510.8224,-363.4072\"/>\n<polygon fill=\"#000000\" stroke=\"#000000\" points=\"512.0312,-360.1221 501.4418,-359.7805 509.5069,-366.6511 512.0312,-360.1221\"/>\n</g>\n<!-- 11 -->\n<g id=\"node12\" class=\"node\">\n<title>11</title>\n<polygon fill=\"#efb488\" stroke=\"#000000\" points=\"766.5,-365 625.5,-365 625.5,-297 766.5,-297 766.5,-365\"/>\n<text text-anchor=\"middle\" x=\"696\" y=\"-349.8\" font-family=\"Times,serif\" font-size=\"14.00\" fill=\"#000000\">里程數 &lt;= 8500.0</text>\n<text text-anchor=\"middle\" x=\"696\" y=\"-334.8\" font-family=\"Times,serif\" font-size=\"14.00\" fill=\"#000000\">mse = 61494897.959</text>\n<text text-anchor=\"middle\" x=\"696\" y=\"-319.8\" font-family=\"Times,serif\" font-size=\"14.00\" fill=\"#000000\">samples = 14</text>\n<text text-anchor=\"middle\" x=\"696\" y=\"-304.8\" font-family=\"Times,serif\" font-size=\"14.00\" fill=\"#000000\">value = 50928.571</text>\n</g>\n<!-- 1&#45;&gt;11 -->\n<g id=\"edge11\" class=\"edge\">\n<title>1&#45;&gt;11</title>\n<path fill=\"none\" stroke=\"#000000\" d=\"M696,-400.9465C696,-392.776 696,-383.9318 696,-375.3697\"/>\n<polygon fill=\"#000000\" stroke=\"#000000\" points=\"699.5001,-375.13 696,-365.13 692.5001,-375.13 699.5001,-375.13\"/>\n</g>\n<!-- 3 -->\n<g id=\"node4\" class=\"node\">\n<title>3</title>\n<polygon fill=\"#e58139\" stroke=\"#000000\" points=\"335,-253.5 223,-253.5 223,-200.5 335,-200.5 335,-253.5\"/>\n<text text-anchor=\"middle\" x=\"279\" y=\"-238.3\" font-family=\"Times,serif\" font-size=\"14.00\" fill=\"#000000\">mse = 0.0</text>\n<text text-anchor=\"middle\" x=\"279\" y=\"-223.3\" font-family=\"Times,serif\" font-size=\"14.00\" fill=\"#000000\">samples = 1</text>\n<text text-anchor=\"middle\" x=\"279\" y=\"-208.3\" font-family=\"Times,serif\" font-size=\"14.00\" fill=\"#000000\">value = 75000.0</text>\n</g>\n<!-- 2&#45;&gt;3 -->\n<g id=\"edge3\" class=\"edge\">\n<title>2&#45;&gt;3</title>\n<path fill=\"none\" stroke=\"#000000\" d=\"M378.5393,-296.9465C361.4535,-284.9403 342.2972,-271.4791 325.387,-259.5962\"/>\n<polygon fill=\"#000000\" stroke=\"#000000\" points=\"326.9658,-256.428 316.7715,-253.5422 322.9412,-262.1553 326.9658,-256.428\"/>\n</g>\n<!-- 4 -->\n<g id=\"node5\" class=\"node\">\n<title>4</title>\n<polygon fill=\"#eca571\" stroke=\"#000000\" points=\"501,-261 353,-261 353,-193 501,-193 501,-261\"/>\n<text text-anchor=\"middle\" x=\"427\" y=\"-245.8\" font-family=\"Times,serif\" font-size=\"14.00\" fill=\"#000000\">里程數 &lt;= 7.0</text>\n<text text-anchor=\"middle\" x=\"427\" y=\"-230.8\" font-family=\"Times,serif\" font-size=\"14.00\" fill=\"#000000\">mse = 113451595.457</text>\n<text text-anchor=\"middle\" x=\"427\" y=\"-215.8\" font-family=\"Times,serif\" font-size=\"14.00\" fill=\"#000000\">samples = 43</text>\n<text text-anchor=\"middle\" x=\"427\" y=\"-200.8\" font-family=\"Times,serif\" font-size=\"14.00\" fill=\"#000000\">value = 57883.721</text>\n</g>\n<!-- 2&#45;&gt;4 -->\n<g id=\"edge4\" class=\"edge\">\n<title>2&#45;&gt;4</title>\n<path fill=\"none\" stroke=\"#000000\" d=\"M427,-296.9465C427,-288.776 427,-279.9318 427,-271.3697\"/>\n<polygon fill=\"#000000\" stroke=\"#000000\" points=\"430.5001,-271.13 427,-261.13 423.5001,-271.13 430.5001,-271.13\"/>\n</g>\n<!-- 5 -->\n<g id=\"node6\" class=\"node\">\n<title>5</title>\n<polygon fill=\"#f0b68d\" stroke=\"#000000\" points=\"282.5,-157 133.5,-157 133.5,-89 282.5,-89 282.5,-157\"/>\n<text text-anchor=\"middle\" x=\"208\" y=\"-141.8\" font-family=\"Times,serif\" font-size=\"14.00\" fill=\"#000000\">里程數 &lt;= 2.5</text>\n<text text-anchor=\"middle\" x=\"208\" y=\"-126.8\" font-family=\"Times,serif\" font-size=\"14.00\" fill=\"#000000\">mse = 338888888.889</text>\n<text text-anchor=\"middle\" x=\"208\" y=\"-111.8\" font-family=\"Times,serif\" font-size=\"14.00\" fill=\"#000000\">samples = 3</text>\n<text text-anchor=\"middle\" x=\"208\" y=\"-96.8\" font-family=\"Times,serif\" font-size=\"14.00\" fill=\"#000000\">value = 49666.667</text>\n</g>\n<!-- 4&#45;&gt;5 -->\n<g id=\"edge5\" class=\"edge\">\n<title>4&#45;&gt;5</title>\n<path fill=\"none\" stroke=\"#000000\" d=\"M355.2912,-192.9465C334.1157,-182.8906 310.791,-171.814 289.0698,-161.4989\"/>\n<polygon fill=\"#000000\" stroke=\"#000000\" points=\"290.4045,-158.2582 279.8699,-157.13 287.4017,-164.5814 290.4045,-158.2582\"/>\n</g>\n<!-- 8 -->\n<g id=\"node9\" class=\"node\">\n<title>8</title>\n<polygon fill=\"#eca46f\" stroke=\"#000000\" points=\"489.5,-157 364.5,-157 364.5,-89 489.5,-89 489.5,-157\"/>\n<text text-anchor=\"middle\" x=\"427\" y=\"-141.8\" font-family=\"Times,serif\" font-size=\"14.00\" fill=\"#000000\">里程數 &lt;= 29.5</text>\n<text text-anchor=\"middle\" x=\"427\" y=\"-126.8\" font-family=\"Times,serif\" font-size=\"14.00\" fill=\"#000000\">mse = 91100000.0</text>\n<text text-anchor=\"middle\" x=\"427\" y=\"-111.8\" font-family=\"Times,serif\" font-size=\"14.00\" fill=\"#000000\">samples = 40</text>\n<text text-anchor=\"middle\" x=\"427\" y=\"-96.8\" font-family=\"Times,serif\" font-size=\"14.00\" fill=\"#000000\">value = 58500.0</text>\n</g>\n<!-- 4&#45;&gt;8 -->\n<g id=\"edge8\" class=\"edge\">\n<title>4&#45;&gt;8</title>\n<path fill=\"none\" stroke=\"#000000\" d=\"M427,-192.9465C427,-184.776 427,-175.9318 427,-167.3697\"/>\n<polygon fill=\"#000000\" stroke=\"#000000\" points=\"430.5001,-167.13 427,-157.13 423.5001,-167.13 430.5001,-167.13\"/>\n</g>\n<!-- 6 -->\n<g id=\"node7\" class=\"node\">\n<title>6</title>\n<polygon fill=\"#eb9f69\" stroke=\"#000000\" points=\"134,-53 0,-53 0,0 134,0 134,-53\"/>\n<text text-anchor=\"middle\" x=\"67\" y=\"-37.8\" font-family=\"Times,serif\" font-size=\"14.00\" fill=\"#000000\">mse = 156250000.0</text>\n<text text-anchor=\"middle\" x=\"67\" y=\"-22.8\" font-family=\"Times,serif\" font-size=\"14.00\" fill=\"#000000\">samples = 2</text>\n<text text-anchor=\"middle\" x=\"67\" y=\"-7.8\" font-family=\"Times,serif\" font-size=\"14.00\" fill=\"#000000\">value = 60500.0</text>\n</g>\n<!-- 5&#45;&gt;6 -->\n<g id=\"edge6\" class=\"edge\">\n<title>5&#45;&gt;6</title>\n<path fill=\"none\" stroke=\"#000000\" d=\"M158.2887,-88.9777C144.1063,-79.2713 128.6912,-68.7213 114.6358,-59.1018\"/>\n<polygon fill=\"#000000\" stroke=\"#000000\" points=\"116.3124,-56.0081 106.0833,-53.2485 112.3589,-61.7847 116.3124,-56.0081\"/>\n</g>\n<!-- 7 -->\n<g id=\"node8\" class=\"node\">\n<title>7</title>\n<polygon fill=\"#f9e4d4\" stroke=\"#000000\" points=\"264,-53 152,-53 152,0 264,0 264,-53\"/>\n<text text-anchor=\"middle\" x=\"208\" y=\"-37.8\" font-family=\"Times,serif\" font-size=\"14.00\" fill=\"#000000\">mse = 0.0</text>\n<text text-anchor=\"middle\" x=\"208\" y=\"-22.8\" font-family=\"Times,serif\" font-size=\"14.00\" fill=\"#000000\">samples = 1</text>\n<text text-anchor=\"middle\" x=\"208\" y=\"-7.8\" font-family=\"Times,serif\" font-size=\"14.00\" fill=\"#000000\">value = 28000.0</text>\n</g>\n<!-- 5&#45;&gt;7 -->\n<g id=\"edge7\" class=\"edge\">\n<title>5&#45;&gt;7</title>\n<path fill=\"none\" stroke=\"#000000\" d=\"M208,-88.9777C208,-80.7364 208,-71.887 208,-63.5153\"/>\n<polygon fill=\"#000000\" stroke=\"#000000\" points=\"211.5001,-63.2484 208,-53.2485 204.5001,-63.2485 211.5001,-63.2484\"/>\n</g>\n<!-- 9 -->\n<g id=\"node10\" class=\"node\">\n<title>9</title>\n<polygon fill=\"#e88f4f\" stroke=\"#000000\" points=\"401.5,-53 282.5,-53 282.5,0 401.5,0 401.5,-53\"/>\n<text text-anchor=\"middle\" x=\"342\" y=\"-37.8\" font-family=\"Times,serif\" font-size=\"14.00\" fill=\"#000000\">mse = 4640000.0</text>\n<text text-anchor=\"middle\" x=\"342\" y=\"-22.8\" font-family=\"Times,serif\" font-size=\"14.00\" fill=\"#000000\">samples = 5</text>\n<text text-anchor=\"middle\" x=\"342\" y=\"-7.8\" font-family=\"Times,serif\" font-size=\"14.00\" fill=\"#000000\">value = 68400.0</text>\n</g>\n<!-- 8&#45;&gt;9 -->\n<g id=\"edge9\" class=\"edge\">\n<title>8&#45;&gt;9</title>\n<path fill=\"none\" stroke=\"#000000\" d=\"M397.0322,-88.9777C389.0471,-79.9123 380.4138,-70.111 372.4056,-61.0192\"/>\n<polygon fill=\"#000000\" stroke=\"#000000\" points=\"374.7971,-58.4391 365.5608,-53.2485 369.5442,-63.066 374.7971,-58.4391\"/>\n</g>\n<!-- 10 -->\n<g id=\"node11\" class=\"node\">\n<title>10</title>\n<polygon fill=\"#eda774\" stroke=\"#000000\" points=\"560.5,-53 419.5,-53 419.5,0 560.5,0 560.5,-53\"/>\n<text text-anchor=\"middle\" x=\"490\" y=\"-37.8\" font-family=\"Times,serif\" font-size=\"14.00\" fill=\"#000000\">mse = 87449795.918</text>\n<text text-anchor=\"middle\" x=\"490\" y=\"-22.8\" font-family=\"Times,serif\" font-size=\"14.00\" fill=\"#000000\">samples = 35</text>\n<text text-anchor=\"middle\" x=\"490\" y=\"-7.8\" font-family=\"Times,serif\" font-size=\"14.00\" fill=\"#000000\">value = 57085.714</text>\n</g>\n<!-- 8&#45;&gt;10 -->\n<g id=\"edge10\" class=\"edge\">\n<title>8&#45;&gt;10</title>\n<path fill=\"none\" stroke=\"#000000\" d=\"M449.2114,-88.9777C454.9504,-80.187 461.1412,-70.7044 466.9233,-61.8477\"/>\n<polygon fill=\"#000000\" stroke=\"#000000\" points=\"470.0013,-63.5354 472.5373,-53.2485 464.1398,-59.7087 470.0013,-63.5354\"/>\n</g>\n<!-- 12 -->\n<g id=\"node13\" class=\"node\">\n<title>12</title>\n<polygon fill=\"#f0b78e\" stroke=\"#000000\" points=\"766.5,-253.5 625.5,-253.5 625.5,-200.5 766.5,-200.5 766.5,-253.5\"/>\n<text text-anchor=\"middle\" x=\"696\" y=\"-238.3\" font-family=\"Times,serif\" font-size=\"14.00\" fill=\"#000000\">mse = 23333333.333</text>\n<text text-anchor=\"middle\" x=\"696\" y=\"-223.3\" font-family=\"Times,serif\" font-size=\"14.00\" fill=\"#000000\">samples = 9</text>\n<text text-anchor=\"middle\" x=\"696\" y=\"-208.3\" font-family=\"Times,serif\" font-size=\"14.00\" fill=\"#000000\">value = 49333.333</text>\n</g>\n<!-- 11&#45;&gt;12 -->\n<g id=\"edge12\" class=\"edge\">\n<title>11&#45;&gt;12</title>\n<path fill=\"none\" stroke=\"#000000\" d=\"M696,-296.9465C696,-286.2621 696,-274.4254 696,-263.5742\"/>\n<polygon fill=\"#000000\" stroke=\"#000000\" points=\"699.5001,-263.5421 696,-253.5422 692.5001,-263.5422 699.5001,-263.5421\"/>\n</g>\n<!-- 13 -->\n<g id=\"node14\" class=\"node\">\n<title>13</title>\n<polygon fill=\"#eeae7f\" stroke=\"#000000\" points=\"917.5,-253.5 784.5,-253.5 784.5,-200.5 917.5,-200.5 917.5,-253.5\"/>\n<text text-anchor=\"middle\" x=\"851\" y=\"-238.3\" font-family=\"Times,serif\" font-size=\"14.00\" fill=\"#000000\">mse = 117360000.0</text>\n<text text-anchor=\"middle\" x=\"851\" y=\"-223.3\" font-family=\"Times,serif\" font-size=\"14.00\" fill=\"#000000\">samples = 5</text>\n<text text-anchor=\"middle\" x=\"851\" y=\"-208.3\" font-family=\"Times,serif\" font-size=\"14.00\" fill=\"#000000\">value = 53800.0</text>\n</g>\n<!-- 11&#45;&gt;13 -->\n<g id=\"edge13\" class=\"edge\">\n<title>11&#45;&gt;13</title>\n<path fill=\"none\" stroke=\"#000000\" d=\"M746.7528,-296.9465C764.8109,-284.8301 785.0773,-271.232 802.9059,-259.2696\"/>\n<polygon fill=\"#000000\" stroke=\"#000000\" points=\"805.0881,-262.0203 811.442,-253.5422 801.1879,-256.2075 805.0881,-262.0203\"/>\n</g>\n<!-- 15 -->\n<g id=\"node16\" class=\"node\">\n<title>15</title>\n<polygon fill=\"#f5ccaf\" stroke=\"#000000\" points=\"1281.5,-365 1132.5,-365 1132.5,-297 1281.5,-297 1281.5,-365\"/>\n<text text-anchor=\"middle\" x=\"1207\" y=\"-349.8\" font-family=\"Times,serif\" font-size=\"14.00\" fill=\"#000000\">里程數 &lt;= 13500.0</text>\n<text text-anchor=\"middle\" x=\"1207\" y=\"-334.8\" font-family=\"Times,serif\" font-size=\"14.00\" fill=\"#000000\">mse = 169626465.028</text>\n<text text-anchor=\"middle\" x=\"1207\" y=\"-319.8\" font-family=\"Times,serif\" font-size=\"14.00\" fill=\"#000000\">samples = 115</text>\n<text text-anchor=\"middle\" x=\"1207\" y=\"-304.8\" font-family=\"Times,serif\" font-size=\"14.00\" fill=\"#000000\">value = 39130.435</text>\n</g>\n<!-- 14&#45;&gt;15 -->\n<g id=\"edge15\" class=\"edge\">\n<title>14&#45;&gt;15</title>\n<path fill=\"none\" stroke=\"#000000\" d=\"M1207,-400.9465C1207,-392.776 1207,-383.9318 1207,-375.3697\"/>\n<polygon fill=\"#000000\" stroke=\"#000000\" points=\"1210.5001,-375.13 1207,-365.13 1203.5001,-375.13 1210.5001,-375.13\"/>\n</g>\n<!-- 30 -->\n<g id=\"node31\" class=\"node\">\n<title>30</title>\n<polygon fill=\"#fcf1e9\" stroke=\"#000000\" points=\"2057.5,-365 1916.5,-365 1916.5,-297 2057.5,-297 2057.5,-365\"/>\n<text text-anchor=\"middle\" x=\"1987\" y=\"-349.8\" font-family=\"Times,serif\" font-size=\"14.00\" fill=\"#000000\">里程數 &lt;= 69500.0</text>\n<text text-anchor=\"middle\" x=\"1987\" y=\"-334.8\" font-family=\"Times,serif\" font-size=\"14.00\" fill=\"#000000\">mse = 26925619.835</text>\n<text text-anchor=\"middle\" x=\"1987\" y=\"-319.8\" font-family=\"Times,serif\" font-size=\"14.00\" fill=\"#000000\">samples = 11</text>\n<text text-anchor=\"middle\" x=\"1987\" y=\"-304.8\" font-family=\"Times,serif\" font-size=\"14.00\" fill=\"#000000\">value = 21727.273</text>\n</g>\n<!-- 14&#45;&gt;30 -->\n<g id=\"edge30\" class=\"edge\">\n<title>14&#45;&gt;30</title>\n<path fill=\"none\" stroke=\"#000000\" d=\"M1281.0837,-425.1222C1427.7329,-405.569 1753.9444,-362.0741 1906.0291,-341.7961\"/>\n<polygon fill=\"#000000\" stroke=\"#000000\" points=\"1906.7827,-345.2267 1916.2324,-340.4357 1905.8575,-338.2881 1906.7827,-345.2267\"/>\n</g>\n<!-- 16 -->\n<g id=\"node17\" class=\"node\">\n<title>16</title>\n<polygon fill=\"#f3c5a4\" stroke=\"#000000\" points=\"1137,-261 989,-261 989,-193 1137,-193 1137,-261\"/>\n<text text-anchor=\"middle\" x=\"1063\" y=\"-245.8\" font-family=\"Times,serif\" font-size=\"14.00\" fill=\"#000000\">里程數 &lt;= 11500.0</text>\n<text text-anchor=\"middle\" x=\"1063\" y=\"-230.8\" font-family=\"Times,serif\" font-size=\"14.00\" fill=\"#000000\">mse = 114749452.155</text>\n<text text-anchor=\"middle\" x=\"1063\" y=\"-215.8\" font-family=\"Times,serif\" font-size=\"14.00\" fill=\"#000000\">samples = 37</text>\n<text text-anchor=\"middle\" x=\"1063\" y=\"-200.8\" font-family=\"Times,serif\" font-size=\"14.00\" fill=\"#000000\">value = 42702.703</text>\n</g>\n<!-- 15&#45;&gt;16 -->\n<g id=\"edge16\" class=\"edge\">\n<title>15&#45;&gt;16</title>\n<path fill=\"none\" stroke=\"#000000\" d=\"M1159.849,-296.9465C1146.6713,-287.4293 1132.2278,-276.9978 1118.6103,-267.163\"/>\n<polygon fill=\"#000000\" stroke=\"#000000\" points=\"1120.413,-264.1476 1110.2569,-261.13 1116.3145,-269.8223 1120.413,-264.1476\"/>\n</g>\n<!-- 23 -->\n<g id=\"node24\" class=\"node\">\n<title>23</title>\n<polygon fill=\"#f5d0b5\" stroke=\"#000000\" points=\"1426.5,-261 1277.5,-261 1277.5,-193 1426.5,-193 1426.5,-261\"/>\n<text text-anchor=\"middle\" x=\"1352\" y=\"-245.8\" font-family=\"Times,serif\" font-size=\"14.00\" fill=\"#000000\">里程數 &lt;= 19500.0</text>\n<text text-anchor=\"middle\" x=\"1352\" y=\"-230.8\" font-family=\"Times,serif\" font-size=\"14.00\" fill=\"#000000\">mse = 186733070.348</text>\n<text text-anchor=\"middle\" x=\"1352\" y=\"-215.8\" font-family=\"Times,serif\" font-size=\"14.00\" fill=\"#000000\">samples = 78</text>\n<text text-anchor=\"middle\" x=\"1352\" y=\"-200.8\" font-family=\"Times,serif\" font-size=\"14.00\" fill=\"#000000\">value = 37435.897</text>\n</g>\n<!-- 15&#45;&gt;23 -->\n<g id=\"edge23\" class=\"edge\">\n<title>15&#45;&gt;23</title>\n<path fill=\"none\" stroke=\"#000000\" d=\"M1254.4784,-296.9465C1267.7477,-287.4293 1282.2915,-276.9978 1296.0035,-267.163\"/>\n<polygon fill=\"#000000\" stroke=\"#000000\" points=\"1298.3288,-269.8024 1304.4149,-261.13 1294.249,-264.1142 1298.3288,-269.8024\"/>\n</g>\n<!-- 17 -->\n<g id=\"node18\" class=\"node\">\n<title>17</title>\n<polygon fill=\"#f4c8a9\" stroke=\"#000000\" points=\"878.5,-157 737.5,-157 737.5,-89 878.5,-89 878.5,-157\"/>\n<text text-anchor=\"middle\" x=\"808\" y=\"-141.8\" font-family=\"Times,serif\" font-size=\"14.00\" fill=\"#000000\">里程數 &lt;= 10500.0</text>\n<text text-anchor=\"middle\" x=\"808\" y=\"-126.8\" font-family=\"Times,serif\" font-size=\"14.00\" fill=\"#000000\">mse = 79698216.735</text>\n<text text-anchor=\"middle\" x=\"808\" y=\"-111.8\" font-family=\"Times,serif\" font-size=\"14.00\" fill=\"#000000\">samples = 27</text>\n<text text-anchor=\"middle\" x=\"808\" y=\"-96.8\" font-family=\"Times,serif\" font-size=\"14.00\" fill=\"#000000\">value = 41074.074</text>\n</g>\n<!-- 16&#45;&gt;17 -->\n<g id=\"edge17\" class=\"edge\">\n<title>16&#45;&gt;17</title>\n<path fill=\"none\" stroke=\"#000000\" d=\"M988.9009,-196.7792C957.3151,-183.8971 920.3926,-168.8385 888.1702,-155.6969\"/>\n<polygon fill=\"#000000\" stroke=\"#000000\" points=\"889.3563,-152.4008 878.7751,-151.8651 886.7128,-158.8824 889.3563,-152.4008\"/>\n</g>\n<!-- 20 -->\n<g id=\"node21\" class=\"node\">\n<title>20</title>\n<polygon fill=\"#f1bc95\" stroke=\"#000000\" points=\"1130,-157 996,-157 996,-89 1130,-89 1130,-157\"/>\n<text text-anchor=\"middle\" x=\"1063\" y=\"-141.8\" font-family=\"Times,serif\" font-size=\"14.00\" fill=\"#000000\">里程數 &lt;= 12500.0</text>\n<text text-anchor=\"middle\" x=\"1063\" y=\"-126.8\" font-family=\"Times,serif\" font-size=\"14.00\" fill=\"#000000\">mse = 182890000.0</text>\n<text text-anchor=\"middle\" x=\"1063\" y=\"-111.8\" font-family=\"Times,serif\" font-size=\"14.00\" fill=\"#000000\">samples = 10</text>\n<text text-anchor=\"middle\" x=\"1063\" y=\"-96.8\" font-family=\"Times,serif\" font-size=\"14.00\" fill=\"#000000\">value = 47100.0</text>\n</g>\n<!-- 16&#45;&gt;20 -->\n<g id=\"edge20\" class=\"edge\">\n<title>16&#45;&gt;20</title>\n<path fill=\"none\" stroke=\"#000000\" d=\"M1063,-192.9465C1063,-184.776 1063,-175.9318 1063,-167.3697\"/>\n<polygon fill=\"#000000\" stroke=\"#000000\" points=\"1066.5001,-167.13 1063,-157.13 1059.5001,-167.13 1066.5001,-167.13\"/>\n</g>\n<!-- 18 -->\n<g id=\"node19\" class=\"node\">\n<title>18</title>\n<polygon fill=\"#f4c9aa\" stroke=\"#000000\" points=\"719.5,-53 578.5,-53 578.5,0 719.5,0 719.5,-53\"/>\n<text text-anchor=\"middle\" x=\"649\" y=\"-37.8\" font-family=\"Times,serif\" font-size=\"14.00\" fill=\"#000000\">mse = 54023668.639</text>\n<text text-anchor=\"middle\" x=\"649\" y=\"-22.8\" font-family=\"Times,serif\" font-size=\"14.00\" fill=\"#000000\">samples = 13</text>\n<text text-anchor=\"middle\" x=\"649\" y=\"-7.8\" font-family=\"Times,serif\" font-size=\"14.00\" fill=\"#000000\">value = 40769.231</text>\n</g>\n<!-- 17&#45;&gt;18 -->\n<g id=\"edge18\" class=\"edge\">\n<title>17&#45;&gt;18</title>\n<path fill=\"none\" stroke=\"#000000\" d=\"M751.9425,-88.9777C735.5724,-79.0424 717.746,-68.2232 701.5982,-58.4228\"/>\n<polygon fill=\"#000000\" stroke=\"#000000\" points=\"703.1845,-55.2914 692.8198,-53.095 699.5526,-61.2755 703.1845,-55.2914\"/>\n</g>\n<!-- 19 -->\n<g id=\"node20\" class=\"node\">\n<title>19</title>\n<polygon fill=\"#f4c8a8\" stroke=\"#000000\" points=\"878.5,-53 737.5,-53 737.5,0 878.5,0 878.5,-53\"/>\n<text text-anchor=\"middle\" x=\"808\" y=\"-37.8\" font-family=\"Times,serif\" font-size=\"14.00\" fill=\"#000000\">mse = 103372448.98</text>\n<text text-anchor=\"middle\" x=\"808\" y=\"-22.8\" font-family=\"Times,serif\" font-size=\"14.00\" fill=\"#000000\">samples = 14</text>\n<text text-anchor=\"middle\" x=\"808\" y=\"-7.8\" font-family=\"Times,serif\" font-size=\"14.00\" fill=\"#000000\">value = 41357.143</text>\n</g>\n<!-- 17&#45;&gt;19 -->\n<g id=\"edge19\" class=\"edge\">\n<title>17&#45;&gt;19</title>\n<path fill=\"none\" stroke=\"#000000\" d=\"M808,-88.9777C808,-80.7364 808,-71.887 808,-63.5153\"/>\n<polygon fill=\"#000000\" stroke=\"#000000\" points=\"811.5001,-63.2484 808,-53.2485 804.5001,-63.2485 811.5001,-63.2484\"/>\n</g>\n<!-- 21 -->\n<g id=\"node22\" class=\"node\">\n<title>21</title>\n<polygon fill=\"#eead7e\" stroke=\"#000000\" points=\"1023,-53 897,-53 897,0 1023,0 1023,-53\"/>\n<text text-anchor=\"middle\" x=\"960\" y=\"-37.8\" font-family=\"Times,serif\" font-size=\"14.00\" fill=\"#000000\">mse = 30000000.0</text>\n<text text-anchor=\"middle\" x=\"960\" y=\"-22.8\" font-family=\"Times,serif\" font-size=\"14.00\" fill=\"#000000\">samples = 4</text>\n<text text-anchor=\"middle\" x=\"960\" y=\"-7.8\" font-family=\"Times,serif\" font-size=\"14.00\" fill=\"#000000\">value = 54000.0</text>\n</g>\n<!-- 20&#45;&gt;21 -->\n<g id=\"edge21\" class=\"edge\">\n<title>20&#45;&gt;21</title>\n<path fill=\"none\" stroke=\"#000000\" d=\"M1026.6861,-88.9777C1016.7168,-79.6376 1005.9138,-69.5163 995.9643,-60.1947\"/>\n<polygon fill=\"#000000\" stroke=\"#000000\" points=\"998.2408,-57.5314 988.5502,-53.2485 993.4548,-62.6397 998.2408,-57.5314\"/>\n</g>\n<!-- 22 -->\n<g id=\"node23\" class=\"node\">\n<title>22</title>\n<polygon fill=\"#f3c5a4\" stroke=\"#000000\" points=\"1190.5,-53 1041.5,-53 1041.5,0 1190.5,0 1190.5,-53\"/>\n<text text-anchor=\"middle\" x=\"1116\" y=\"-37.8\" font-family=\"Times,serif\" font-size=\"14.00\" fill=\"#000000\">mse = 231916666.667</text>\n<text text-anchor=\"middle\" x=\"1116\" y=\"-22.8\" font-family=\"Times,serif\" font-size=\"14.00\" fill=\"#000000\">samples = 6</text>\n<text text-anchor=\"middle\" x=\"1116\" y=\"-7.8\" font-family=\"Times,serif\" font-size=\"14.00\" fill=\"#000000\">value = 42500.0</text>\n</g>\n<!-- 20&#45;&gt;22 -->\n<g id=\"edge22\" class=\"edge\">\n<title>20&#45;&gt;22</title>\n<path fill=\"none\" stroke=\"#000000\" d=\"M1081.6858,-88.9777C1086.4636,-80.2786 1091.6135,-70.9018 1096.4341,-62.1247\"/>\n<polygon fill=\"#000000\" stroke=\"#000000\" points=\"1099.5629,-63.6984 1101.3091,-53.2485 1093.4274,-60.3286 1099.5629,-63.6984\"/>\n</g>\n<!-- 24 -->\n<g id=\"node25\" class=\"node\">\n<title>24</title>\n<polygon fill=\"#f5cdb0\" stroke=\"#000000\" points=\"1426.5,-157 1277.5,-157 1277.5,-89 1426.5,-89 1426.5,-157\"/>\n<text text-anchor=\"middle\" x=\"1352\" y=\"-141.8\" font-family=\"Times,serif\" font-size=\"14.00\" fill=\"#000000\">里程數 &lt;= 18500.0</text>\n<text text-anchor=\"middle\" x=\"1352\" y=\"-126.8\" font-family=\"Times,serif\" font-size=\"14.00\" fill=\"#000000\">mse = 162833333.333</text>\n<text text-anchor=\"middle\" x=\"1352\" y=\"-111.8\" font-family=\"Times,serif\" font-size=\"14.00\" fill=\"#000000\">samples = 36</text>\n<text text-anchor=\"middle\" x=\"1352\" y=\"-96.8\" font-family=\"Times,serif\" font-size=\"14.00\" fill=\"#000000\">value = 39000.0</text>\n</g>\n<!-- 23&#45;&gt;24 -->\n<g id=\"edge24\" class=\"edge\">\n<title>23&#45;&gt;24</title>\n<path fill=\"none\" stroke=\"#000000\" d=\"M1352,-192.9465C1352,-184.776 1352,-175.9318 1352,-167.3697\"/>\n<polygon fill=\"#000000\" stroke=\"#000000\" points=\"1355.5001,-167.13 1352,-157.13 1348.5001,-167.13 1355.5001,-167.13\"/>\n</g>\n<!-- 27 -->\n<g id=\"node28\" class=\"node\">\n<title>27</title>\n<polygon fill=\"#f6d3b9\" stroke=\"#000000\" points=\"1661.5,-157 1512.5,-157 1512.5,-89 1661.5,-89 1661.5,-157\"/>\n<text text-anchor=\"middle\" x=\"1587\" y=\"-141.8\" font-family=\"Times,serif\" font-size=\"14.00\" fill=\"#000000\">里程數 &lt;= 22500.0</text>\n<text text-anchor=\"middle\" x=\"1587\" y=\"-126.8\" font-family=\"Times,serif\" font-size=\"14.00\" fill=\"#000000\">mse = 203324263.039</text>\n<text text-anchor=\"middle\" x=\"1587\" y=\"-111.8\" font-family=\"Times,serif\" font-size=\"14.00\" fill=\"#000000\">samples = 42</text>\n<text text-anchor=\"middle\" x=\"1587\" y=\"-96.8\" font-family=\"Times,serif\" font-size=\"14.00\" fill=\"#000000\">value = 36095.238</text>\n</g>\n<!-- 23&#45;&gt;27 -->\n<g id=\"edge27\" class=\"edge\">\n<title>23&#45;&gt;27</title>\n<path fill=\"none\" stroke=\"#000000\" d=\"M1426.6784,-193.9509C1450.8704,-183.2446 1477.868,-171.2967 1502.7084,-160.3035\"/>\n<polygon fill=\"#000000\" stroke=\"#000000\" points=\"1504.3846,-163.3892 1512.1127,-156.1416 1501.5517,-156.988 1504.3846,-163.3892\"/>\n</g>\n<!-- 25 -->\n<g id=\"node26\" class=\"node\">\n<title>25</title>\n<polygon fill=\"#f5cfb3\" stroke=\"#000000\" points=\"1357.5,-53 1208.5,-53 1208.5,0 1357.5,0 1357.5,-53\"/>\n<text text-anchor=\"middle\" x=\"1283\" y=\"-37.8\" font-family=\"Times,serif\" font-size=\"14.00\" fill=\"#000000\">mse = 154352941.176</text>\n<text text-anchor=\"middle\" x=\"1283\" y=\"-22.8\" font-family=\"Times,serif\" font-size=\"14.00\" fill=\"#000000\">samples = 34</text>\n<text text-anchor=\"middle\" x=\"1283\" y=\"-7.8\" font-family=\"Times,serif\" font-size=\"14.00\" fill=\"#000000\">value = 38000.0</text>\n</g>\n<!-- 24&#45;&gt;25 -->\n<g id=\"edge25\" class=\"edge\">\n<title>24&#45;&gt;25</title>\n<path fill=\"none\" stroke=\"#000000\" d=\"M1327.6732,-88.9777C1321.3221,-80.0954 1314.466,-70.5067 1308.0768,-61.5711\"/>\n<polygon fill=\"#000000\" stroke=\"#000000\" points=\"1310.7893,-59.3472 1302.1259,-53.2485 1305.0952,-63.4187 1310.7893,-59.3472\"/>\n</g>\n<!-- 26 -->\n<g id=\"node27\" class=\"node\">\n<title>26</title>\n<polygon fill=\"#eda978\" stroke=\"#000000\" points=\"1494.5,-53 1375.5,-53 1375.5,0 1494.5,0 1494.5,-53\"/>\n<text text-anchor=\"middle\" x=\"1435\" y=\"-37.8\" font-family=\"Times,serif\" font-size=\"14.00\" fill=\"#000000\">mse = 1000000.0</text>\n<text text-anchor=\"middle\" x=\"1435\" y=\"-22.8\" font-family=\"Times,serif\" font-size=\"14.00\" fill=\"#000000\">samples = 2</text>\n<text text-anchor=\"middle\" x=\"1435\" y=\"-7.8\" font-family=\"Times,serif\" font-size=\"14.00\" fill=\"#000000\">value = 56000.0</text>\n</g>\n<!-- 24&#45;&gt;26 -->\n<g id=\"edge26\" class=\"edge\">\n<title>24&#45;&gt;26</title>\n<path fill=\"none\" stroke=\"#000000\" d=\"M1381.2627,-88.9777C1389.0599,-79.9123 1397.49,-70.111 1405.3099,-61.0192\"/>\n<polygon fill=\"#000000\" stroke=\"#000000\" points=\"1408.1262,-63.1123 1411.9935,-53.2485 1402.8191,-58.5477 1408.1262,-63.1123\"/>\n</g>\n<!-- 28 -->\n<g id=\"node29\" class=\"node\">\n<title>28</title>\n<polygon fill=\"#f8ddca\" stroke=\"#000000\" points=\"1661.5,-53 1512.5,-53 1512.5,0 1661.5,0 1661.5,-53\"/>\n<text text-anchor=\"middle\" x=\"1587\" y=\"-37.8\" font-family=\"Times,serif\" font-size=\"14.00\" fill=\"#000000\">mse = 105409722.222</text>\n<text text-anchor=\"middle\" x=\"1587\" y=\"-22.8\" font-family=\"Times,serif\" font-size=\"14.00\" fill=\"#000000\">samples = 12</text>\n<text text-anchor=\"middle\" x=\"1587\" y=\"-7.8\" font-family=\"Times,serif\" font-size=\"14.00\" fill=\"#000000\">value = 31083.333</text>\n</g>\n<!-- 27&#45;&gt;28 -->\n<g id=\"edge28\" class=\"edge\">\n<title>27&#45;&gt;28</title>\n<path fill=\"none\" stroke=\"#000000\" d=\"M1587,-88.9777C1587,-80.7364 1587,-71.887 1587,-63.5153\"/>\n<polygon fill=\"#000000\" stroke=\"#000000\" points=\"1590.5001,-63.2484 1587,-53.2485 1583.5001,-63.2485 1590.5001,-63.2484\"/>\n</g>\n<!-- 29 -->\n<g id=\"node30\" class=\"node\">\n<title>29</title>\n<polygon fill=\"#f5ceb3\" stroke=\"#000000\" points=\"1828.5,-53 1679.5,-53 1679.5,0 1828.5,0 1828.5,-53\"/>\n<text text-anchor=\"middle\" x=\"1754\" y=\"-37.8\" font-family=\"Times,serif\" font-size=\"14.00\" fill=\"#000000\">mse = 228423333.333</text>\n<text text-anchor=\"middle\" x=\"1754\" y=\"-22.8\" font-family=\"Times,serif\" font-size=\"14.00\" fill=\"#000000\">samples = 30</text>\n<text text-anchor=\"middle\" x=\"1754\" y=\"-7.8\" font-family=\"Times,serif\" font-size=\"14.00\" fill=\"#000000\">value = 38100.0</text>\n</g>\n<!-- 27&#45;&gt;29 -->\n<g id=\"edge29\" class=\"edge\">\n<title>27&#45;&gt;29</title>\n<path fill=\"none\" stroke=\"#000000\" d=\"M1645.878,-88.9777C1663.2309,-78.9504 1682.142,-68.0228 1699.226,-58.1508\"/>\n<polygon fill=\"#000000\" stroke=\"#000000\" points=\"1701.0682,-61.1287 1707.9754,-53.095 1697.5659,-55.0678 1701.0682,-61.1287\"/>\n</g>\n<!-- 31 -->\n<g id=\"node32\" class=\"node\">\n<title>31</title>\n<polygon fill=\"#fbece1\" stroke=\"#000000\" points=\"2057.5,-261 1916.5,-261 1916.5,-193 2057.5,-193 2057.5,-261\"/>\n<text text-anchor=\"middle\" x=\"1987\" y=\"-245.8\" font-family=\"Times,serif\" font-size=\"14.00\" fill=\"#000000\">里程數 &lt;= 67500.0</text>\n<text text-anchor=\"middle\" x=\"1987\" y=\"-230.8\" font-family=\"Times,serif\" font-size=\"14.00\" fill=\"#000000\">mse = 24408163.265</text>\n<text text-anchor=\"middle\" x=\"1987\" y=\"-215.8\" font-family=\"Times,serif\" font-size=\"14.00\" fill=\"#000000\">samples = 7</text>\n<text text-anchor=\"middle\" x=\"1987\" y=\"-200.8\" font-family=\"Times,serif\" font-size=\"14.00\" fill=\"#000000\">value = 24142.857</text>\n</g>\n<!-- 30&#45;&gt;31 -->\n<g id=\"edge31\" class=\"edge\">\n<title>30&#45;&gt;31</title>\n<path fill=\"none\" stroke=\"#000000\" d=\"M1987,-296.9465C1987,-288.776 1987,-279.9318 1987,-271.3697\"/>\n<polygon fill=\"#000000\" stroke=\"#000000\" points=\"1990.5001,-271.13 1987,-261.13 1983.5001,-271.13 1990.5001,-271.13\"/>\n</g>\n<!-- 36 -->\n<g id=\"node37\" class=\"node\">\n<title>36</title>\n<polygon fill=\"#fefaf7\" stroke=\"#000000\" points=\"2328,-261 2196,-261 2196,-193 2328,-193 2328,-261\"/>\n<text text-anchor=\"middle\" x=\"2262\" y=\"-245.8\" font-family=\"Times,serif\" font-size=\"14.00\" fill=\"#000000\">里程數 &lt;= 84000.0</text>\n<text text-anchor=\"middle\" x=\"2262\" y=\"-230.8\" font-family=\"Times,serif\" font-size=\"14.00\" fill=\"#000000\">mse = 3250000.0</text>\n<text text-anchor=\"middle\" x=\"2262\" y=\"-215.8\" font-family=\"Times,serif\" font-size=\"14.00\" fill=\"#000000\">samples = 4</text>\n<text text-anchor=\"middle\" x=\"2262\" y=\"-200.8\" font-family=\"Times,serif\" font-size=\"14.00\" fill=\"#000000\">value = 17500.0</text>\n</g>\n<!-- 30&#45;&gt;36 -->\n<g id=\"edge36\" class=\"edge\">\n<title>30&#45;&gt;36</title>\n<path fill=\"none\" stroke=\"#000000\" d=\"M2057.8193,-304.2174C2097.1565,-289.3408 2146.1011,-270.8309 2186.2079,-255.6632\"/>\n<polygon fill=\"#000000\" stroke=\"#000000\" points=\"2187.5586,-258.8944 2195.674,-252.0833 2185.0824,-252.347 2187.5586,-258.8944\"/>\n</g>\n<!-- 32 -->\n<g id=\"node33\" class=\"node\">\n<title>32</title>\n<polygon fill=\"#fceee5\" stroke=\"#000000\" points=\"1988.5,-157 1847.5,-157 1847.5,-89 1988.5,-89 1988.5,-157\"/>\n<text text-anchor=\"middle\" x=\"1918\" y=\"-141.8\" font-family=\"Times,serif\" font-size=\"14.00\" fill=\"#000000\">里程數 &lt;= 61500.0</text>\n<text text-anchor=\"middle\" x=\"1918\" y=\"-126.8\" font-family=\"Times,serif\" font-size=\"14.00\" fill=\"#000000\">mse = 19333333.333</text>\n<text text-anchor=\"middle\" x=\"1918\" y=\"-111.8\" font-family=\"Times,serif\" font-size=\"14.00\" fill=\"#000000\">samples = 6</text>\n<text text-anchor=\"middle\" x=\"1918\" y=\"-96.8\" font-family=\"Times,serif\" font-size=\"14.00\" fill=\"#000000\">value = 23000.0</text>\n</g>\n<!-- 31&#45;&gt;32 -->\n<g id=\"edge32\" class=\"edge\">\n<title>31&#45;&gt;32</title>\n<path fill=\"none\" stroke=\"#000000\" d=\"M1964.4068,-192.9465C1958.6286,-184.2373 1952.3425,-174.7626 1946.3166,-165.6801\"/>\n<polygon fill=\"#000000\" stroke=\"#000000\" points=\"1949.089,-163.5278 1940.6439,-157.13 1943.256,-167.3978 1949.089,-163.5278\"/>\n</g>\n<!-- 35 -->\n<g id=\"node36\" class=\"node\">\n<title>35</title>\n<polygon fill=\"#f8ddca\" stroke=\"#000000\" points=\"2119,-149.5 2007,-149.5 2007,-96.5 2119,-96.5 2119,-149.5\"/>\n<text text-anchor=\"middle\" x=\"2063\" y=\"-134.3\" font-family=\"Times,serif\" font-size=\"14.00\" fill=\"#000000\">mse = 0.0</text>\n<text text-anchor=\"middle\" x=\"2063\" y=\"-119.3\" font-family=\"Times,serif\" font-size=\"14.00\" fill=\"#000000\">samples = 1</text>\n<text text-anchor=\"middle\" x=\"2063\" y=\"-104.3\" font-family=\"Times,serif\" font-size=\"14.00\" fill=\"#000000\">value = 31000.0</text>\n</g>\n<!-- 31&#45;&gt;35 -->\n<g id=\"edge35\" class=\"edge\">\n<title>31&#45;&gt;35</title>\n<path fill=\"none\" stroke=\"#000000\" d=\"M2011.8852,-192.9465C2020.0956,-181.7113 2029.2369,-169.2021 2037.493,-157.9043\"/>\n<polygon fill=\"#000000\" stroke=\"#000000\" points=\"2040.5295,-159.6812 2043.6038,-149.5422 2034.8777,-155.551 2040.5295,-159.6812\"/>\n</g>\n<!-- 33 -->\n<g id=\"node34\" class=\"node\">\n<title>33</title>\n<polygon fill=\"#fae7d9\" stroke=\"#000000\" points=\"1981,-53 1847,-53 1847,0 1981,0 1981,-53\"/>\n<text text-anchor=\"middle\" x=\"1914\" y=\"-37.8\" font-family=\"Times,serif\" font-size=\"14.00\" fill=\"#000000\">mse = 5555555.556</text>\n<text text-anchor=\"middle\" x=\"1914\" y=\"-22.8\" font-family=\"Times,serif\" font-size=\"14.00\" fill=\"#000000\">samples = 3</text>\n<text text-anchor=\"middle\" x=\"1914\" y=\"-7.8\" font-family=\"Times,serif\" font-size=\"14.00\" fill=\"#000000\">value = 26666.667</text>\n</g>\n<!-- 32&#45;&gt;33 -->\n<g id=\"edge33\" class=\"edge\">\n<title>32&#45;&gt;33</title>\n<path fill=\"none\" stroke=\"#000000\" d=\"M1916.5897,-88.9777C1916.2481,-80.7364 1915.8813,-71.887 1915.5343,-63.5153\"/>\n<polygon fill=\"#000000\" stroke=\"#000000\" points=\"1919.02,-63.0949 1915.1087,-53.2485 1912.026,-63.3849 1919.02,-63.0949\"/>\n</g>\n<!-- 34 -->\n<g id=\"node35\" class=\"node\">\n<title>34</title>\n<polygon fill=\"#fdf6f1\" stroke=\"#000000\" points=\"2133,-53 1999,-53 1999,0 2133,0 2133,-53\"/>\n<text text-anchor=\"middle\" x=\"2066\" y=\"-37.8\" font-family=\"Times,serif\" font-size=\"14.00\" fill=\"#000000\">mse = 6222222.222</text>\n<text text-anchor=\"middle\" x=\"2066\" y=\"-22.8\" font-family=\"Times,serif\" font-size=\"14.00\" fill=\"#000000\">samples = 3</text>\n<text text-anchor=\"middle\" x=\"2066\" y=\"-7.8\" font-family=\"Times,serif\" font-size=\"14.00\" fill=\"#000000\">value = 19333.333</text>\n</g>\n<!-- 32&#45;&gt;34 -->\n<g id=\"edge34\" class=\"edge\">\n<title>32&#45;&gt;34</title>\n<path fill=\"none\" stroke=\"#000000\" d=\"M1970.1793,-88.9777C1985.2062,-79.1798 2001.5515,-68.5222 2016.4164,-58.8298\"/>\n<polygon fill=\"#000000\" stroke=\"#000000\" points=\"2018.5114,-61.6422 2024.9764,-53.2485 2014.6881,-55.7785 2018.5114,-61.6422\"/>\n</g>\n<!-- 37 -->\n<g id=\"node38\" class=\"node\">\n<title>37</title>\n<polygon fill=\"#fdf7f2\" stroke=\"#000000\" points=\"2328,-157 2196,-157 2196,-89 2328,-89 2328,-157\"/>\n<text text-anchor=\"middle\" x=\"2262\" y=\"-141.8\" font-family=\"Times,serif\" font-size=\"14.00\" fill=\"#000000\">里程數 &lt;= 76000.0</text>\n<text text-anchor=\"middle\" x=\"2262\" y=\"-126.8\" font-family=\"Times,serif\" font-size=\"14.00\" fill=\"#000000\">mse = 1000000.0</text>\n<text text-anchor=\"middle\" x=\"2262\" y=\"-111.8\" font-family=\"Times,serif\" font-size=\"14.00\" fill=\"#000000\">samples = 2</text>\n<text text-anchor=\"middle\" x=\"2262\" y=\"-96.8\" font-family=\"Times,serif\" font-size=\"14.00\" fill=\"#000000\">value = 19000.0</text>\n</g>\n<!-- 36&#45;&gt;37 -->\n<g id=\"edge37\" class=\"edge\">\n<title>36&#45;&gt;37</title>\n<path fill=\"none\" stroke=\"#000000\" d=\"M2262,-192.9465C2262,-184.776 2262,-175.9318 2262,-167.3697\"/>\n<polygon fill=\"#000000\" stroke=\"#000000\" points=\"2265.5001,-167.13 2262,-157.13 2258.5001,-167.13 2265.5001,-167.13\"/>\n</g>\n<!-- 40 -->\n<g id=\"node41\" class=\"node\">\n<title>40</title>\n<polygon fill=\"#fffdfc\" stroke=\"#000000\" points=\"2533,-157 2401,-157 2401,-89 2533,-89 2533,-157\"/>\n<text text-anchor=\"middle\" x=\"2467\" y=\"-141.8\" font-family=\"Times,serif\" font-size=\"14.00\" fill=\"#000000\">里程數 &lt;= 93500.0</text>\n<text text-anchor=\"middle\" x=\"2467\" y=\"-126.8\" font-family=\"Times,serif\" font-size=\"14.00\" fill=\"#000000\">mse = 1000000.0</text>\n<text text-anchor=\"middle\" x=\"2467\" y=\"-111.8\" font-family=\"Times,serif\" font-size=\"14.00\" fill=\"#000000\">samples = 2</text>\n<text text-anchor=\"middle\" x=\"2467\" y=\"-96.8\" font-family=\"Times,serif\" font-size=\"14.00\" fill=\"#000000\">value = 16000.0</text>\n</g>\n<!-- 36&#45;&gt;40 -->\n<g id=\"edge40\" class=\"edge\">\n<title>36&#45;&gt;40</title>\n<path fill=\"none\" stroke=\"#000000\" d=\"M2328.2745,-193.3778C2348.5527,-183.0903 2371.0018,-171.7015 2391.8272,-161.1364\"/>\n<polygon fill=\"#000000\" stroke=\"#000000\" points=\"2393.6191,-164.1521 2400.9536,-156.5064 2390.4521,-157.9095 2393.6191,-164.1521\"/>\n</g>\n<!-- 38 -->\n<g id=\"node39\" class=\"node\">\n<title>38</title>\n<polygon fill=\"#fef9f5\" stroke=\"#000000\" points=\"2263,-53 2151,-53 2151,0 2263,0 2263,-53\"/>\n<text text-anchor=\"middle\" x=\"2207\" y=\"-37.8\" font-family=\"Times,serif\" font-size=\"14.00\" fill=\"#000000\">mse = 0.0</text>\n<text text-anchor=\"middle\" x=\"2207\" y=\"-22.8\" font-family=\"Times,serif\" font-size=\"14.00\" fill=\"#000000\">samples = 1</text>\n<text text-anchor=\"middle\" x=\"2207\" y=\"-7.8\" font-family=\"Times,serif\" font-size=\"14.00\" fill=\"#000000\">value = 18000.0</text>\n</g>\n<!-- 37&#45;&gt;38 -->\n<g id=\"edge38\" class=\"edge\">\n<title>37&#45;&gt;38</title>\n<path fill=\"none\" stroke=\"#000000\" d=\"M2242.6091,-88.9777C2237.651,-80.2786 2232.3067,-70.9018 2227.3042,-62.1247\"/>\n<polygon fill=\"#000000\" stroke=\"#000000\" points=\"2230.2378,-60.2033 2222.2452,-53.2485 2224.1562,-63.6696 2230.2378,-60.2033\"/>\n</g>\n<!-- 39 -->\n<g id=\"node40\" class=\"node\">\n<title>39</title>\n<polygon fill=\"#fdf4ee\" stroke=\"#000000\" points=\"2393,-53 2281,-53 2281,0 2393,0 2393,-53\"/>\n<text text-anchor=\"middle\" x=\"2337\" y=\"-37.8\" font-family=\"Times,serif\" font-size=\"14.00\" fill=\"#000000\">mse = 0.0</text>\n<text text-anchor=\"middle\" x=\"2337\" y=\"-22.8\" font-family=\"Times,serif\" font-size=\"14.00\" fill=\"#000000\">samples = 1</text>\n<text text-anchor=\"middle\" x=\"2337\" y=\"-7.8\" font-family=\"Times,serif\" font-size=\"14.00\" fill=\"#000000\">value = 20000.0</text>\n</g>\n<!-- 37&#45;&gt;39 -->\n<g id=\"edge39\" class=\"edge\">\n<title>37&#45;&gt;39</title>\n<path fill=\"none\" stroke=\"#000000\" d=\"M2288.4422,-88.9777C2295.4167,-80.0039 2302.9516,-70.3089 2309.9573,-61.295\"/>\n<polygon fill=\"#000000\" stroke=\"#000000\" points=\"2312.8379,-63.292 2316.211,-53.2485 2307.3109,-58.9964 2312.8379,-63.292\"/>\n</g>\n<!-- 41 -->\n<g id=\"node42\" class=\"node\">\n<title>41</title>\n<polygon fill=\"#fefbf8\" stroke=\"#000000\" points=\"2523,-53 2411,-53 2411,0 2523,0 2523,-53\"/>\n<text text-anchor=\"middle\" x=\"2467\" y=\"-37.8\" font-family=\"Times,serif\" font-size=\"14.00\" fill=\"#000000\">mse = 0.0</text>\n<text text-anchor=\"middle\" x=\"2467\" y=\"-22.8\" font-family=\"Times,serif\" font-size=\"14.00\" fill=\"#000000\">samples = 1</text>\n<text text-anchor=\"middle\" x=\"2467\" y=\"-7.8\" font-family=\"Times,serif\" font-size=\"14.00\" fill=\"#000000\">value = 17000.0</text>\n</g>\n<!-- 40&#45;&gt;41 -->\n<g id=\"edge41\" class=\"edge\">\n<title>40&#45;&gt;41</title>\n<path fill=\"none\" stroke=\"#000000\" d=\"M2467,-88.9777C2467,-80.7364 2467,-71.887 2467,-63.5153\"/>\n<polygon fill=\"#000000\" stroke=\"#000000\" points=\"2470.5001,-63.2484 2467,-53.2485 2463.5001,-63.2485 2470.5001,-63.2484\"/>\n</g>\n<!-- 42 -->\n<g id=\"node43\" class=\"node\">\n<title>42</title>\n<polygon fill=\"#ffffff\" stroke=\"#000000\" points=\"2653,-53 2541,-53 2541,0 2653,0 2653,-53\"/>\n<text text-anchor=\"middle\" x=\"2597\" y=\"-37.8\" font-family=\"Times,serif\" font-size=\"14.00\" fill=\"#000000\">mse = 0.0</text>\n<text text-anchor=\"middle\" x=\"2597\" y=\"-22.8\" font-family=\"Times,serif\" font-size=\"14.00\" fill=\"#000000\">samples = 1</text>\n<text text-anchor=\"middle\" x=\"2597\" y=\"-7.8\" font-family=\"Times,serif\" font-size=\"14.00\" fill=\"#000000\">value = 15000.0</text>\n</g>\n<!-- 40&#45;&gt;42 -->\n<g id=\"edge42\" class=\"edge\">\n<title>40&#45;&gt;42</title>\n<path fill=\"none\" stroke=\"#000000\" d=\"M2512.8331,-88.9777C2525.7857,-79.3629 2539.8535,-68.9203 2552.7133,-59.3743\"/>\n<polygon fill=\"#000000\" stroke=\"#000000\" points=\"2555.0224,-62.0193 2560.9658,-53.2485 2550.8501,-56.3986 2555.0224,-62.0193\"/>\n</g>\n</g>\n</svg>\n"
          },
          "metadata": {},
          "execution_count": 378
        }
      ]
    },
    {
      "cell_type": "code",
      "metadata": {
        "colab": {
          "base_uri": "https://localhost:8080/"
        },
        "id": "feolA2c0BtrJ",
        "outputId": "f377b003-495c-4831-9e17-80c3f2b74218"
      },
      "source": [
        "pre = reg.predict(x_test.to_frame())\n",
        "# pre\n",
        "print(\"預測結果：\", list(pre))\n",
        "print(\"實際結果：\", list(y_test))\n",
        "from sklearn.metrics import r2_score\n",
        "# https://scikit-learn.org/stable/modules/generated/sklearn.metrics.r2_score.html\n",
        "print(\"r2 score：\", r2_score(y_test, pre))"
      ],
      "execution_count": 379,
      "outputs": [
        {
          "output_type": "stream",
          "name": "stdout",
          "text": [
            "預測結果： [38000.0, 57085.71428571428, 38000.0, 17000.0, 57085.71428571428, 31083.333333333332, 54000.0, 38100.0, 38100.0, 38000.0, 57085.71428571428, 19333.333333333332, 38100.0, 40769.230769230766, 38100.0, 57085.71428571428, 42500.0, 38100.0, 56000.0, 31083.333333333332, 40769.230769230766]\n",
            "實際結果： [51000.0, 68000.0, 25000.0, 16000.0, 68000.0, 26000.0, 34000.0, 35000.0, 55000.0, 43000.0, 49000.0, 25000.0, 55000.0, 33000.0, 52000.0, 65000.0, 50000.0, 25000.0, 49000.0, 23000.0, 55000.0]\n",
            "r2 score： 0.4933196184857853\n"
          ]
        }
      ]
    }
  ]
}