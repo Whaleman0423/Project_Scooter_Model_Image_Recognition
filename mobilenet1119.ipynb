{
  "nbformat": 4,
  "nbformat_minor": 0,
  "metadata": {
    "colab": {
      "name": "mobilenet1119",
      "provenance": [],
      "collapsed_sections": [],
      "authorship_tag": "ABX9TyPYw/uEMFVane2tdzYDhT9G",
      "include_colab_link": true
    },
    "kernelspec": {
      "name": "python3",
      "display_name": "Python 3"
    },
    "language_info": {
      "name": "python"
    },
    "accelerator": "GPU"
  },
  "cells": [
    {
      "cell_type": "markdown",
      "metadata": {
        "id": "view-in-github",
        "colab_type": "text"
      },
      "source": [
        "<a href=\"https://colab.research.google.com/github/Whaleman0423/class_no.4_paper/blob/main/mobilenet1119.ipynb\" target=\"_parent\"><img src=\"https://colab.research.google.com/assets/colab-badge.svg\" alt=\"Open In Colab\"/></a>"
      ]
    },
    {
      "cell_type": "code",
      "metadata": {
        "colab": {
          "base_uri": "https://localhost:8080/"
        },
        "id": "u9M6J7jhkJdo",
        "outputId": "73a63bb1-e6ba-473d-8c81-63c69ecb53db"
      },
      "source": [
        "from google.colab import drive\n",
        "drive.mount('/content/drive')"
      ],
      "execution_count": null,
      "outputs": [
        {
          "output_type": "stream",
          "name": "stdout",
          "text": [
            "Mounted at /content/drive\n"
          ]
        }
      ]
    },
    {
      "cell_type": "code",
      "metadata": {
        "id": "7frDt6Nyh-YN"
      },
      "source": [
        "from tensorflow.keras.applications.mobilenet import MobileNet\n",
        "from tensorflow.keras import datasets, models, layers, utils, activations, losses, optimizers, metrics\n",
        "import numpy as np\n",
        "import matplotlib.pyplot as plt\n",
        "import os\n",
        "import tensorflow\n",
        "import glob \n",
        "from tqdm import tqdm \n",
        "from sklearn.model_selection import train_test_split\n",
        "import pandas as pd\n",
        "import cv2\n",
        "from PIL import Image\n",
        "from tensorflow.keras.applications.mobilenet import preprocess_input \n",
        "from tensorflow.keras.models import Sequential\n",
        "from tensorflow.keras.layers import GlobalAveragePooling2D, Dense, BatchNormalization, Dropout"
      ],
      "execution_count": null,
      "outputs": []
    },
    {
      "cell_type": "code",
      "metadata": {
        "id": "YZF8_LQUlPSJ"
      },
      "source": [
        "os.chdir(\"/content/drive/MyDrive/Tebame_第四組_機車辨識\")"
      ],
      "execution_count": null,
      "outputs": []
    },
    {
      "cell_type": "code",
      "metadata": {
        "id": "s8hRwrY_lazm"
      },
      "source": [
        "trans = [\"s2\", \"gp\", \"krv\", \"fiddle\", \"sr\", \"vivo\", \"famous\", \"drg\", \"duke\", \"limi\", \"gryphus6\", \"force\", \"viva\", \"s3\", \"like\", \"many\", \"bws\", \"sl\", \"axiz\", \"jog\"]\n",
        "s2 = glob.glob(\"/content/drive/MyDrive/Tebame_第四組_機車辨識/嚴選資料集/GOGORO_S2_裁/*.jpg\") + glob.glob(\"/content/drive/MyDrive/Tebame_第四組_機車辨識/嚴選資料集/GOGORO_S2_裁/*.JPG\") \n",
        "\n",
        "gp = glob.glob(\"/content/drive/MyDrive/Tebame_第四組_機車辨識/嚴選資料集/KYMCO_GP_125_裁/*\") \n",
        "\n",
        "krv = glob.glob(\"/content/drive/MyDrive/Tebame_第四組_機車辨識/嚴選資料集/KYMCO_KRV_裁/*\")\n",
        "\n",
        "fiddle = glob.glob(\"/content/drive/MyDrive/Tebame_第四組_機車辨識/嚴選資料集/SYM_FIDDLE_125_裁/*\") \n",
        "\n",
        "sr = glob.glob(\"/content/drive/MyDrive/Tebame_第四組_機車辨識/嚴選資料集/SYM_JET_SR_125_裁/*\")\n",
        "\n",
        "vivo = glob.glob(\"/content/drive/MyDrive/Tebame_第四組_機車辨識/嚴選資料集/SYM_活力_125_裁/*\")\n",
        "\n",
        "famous = glob.glob(\"/content/drive/MyDrive/Tebame_第四組_機車辨識/嚴選資料集/KYMCO_新名流125_裁/*\")\n",
        "\n",
        "drg = glob.glob(\"/content/drive/MyDrive/Tebame_第四組_機車辨識/嚴選資料集/SYM_DRG_裁/*\") \n",
        "\n",
        "duke = glob.glob(\"/content/drive/MyDrive/Tebame_第四組_機車辨識/嚴選資料集/SYM_新迪爵_125 _裁/*\")\n",
        "\n",
        "limi = glob.glob(\"/content/drive/MyDrive/Tebame_第四組_機車辨識/嚴選資料集/YAMAHA_LIMI_125_已裁減/*\")\n",
        "\n",
        "gryphus6 = glob.glob(\"/content/drive/MyDrive/Tebame_第四組_機車辨識/嚴選資料集/YAMAHA_六代勁戰_125_裁/*\")\n",
        "\n",
        "\n",
        "\n",
        "force = glob.glob(\"/content/drive/MyDrive/Tebame_第四組_機車辨識/嚴選資料集/YAMAHA_FORCE_裁/*\")\n",
        "\n",
        "viva = glob.glob(\"/content/drive/MyDrive/Tebame_第四組_機車辨識/嚴選資料集/GOGORO_VIVA_MIX_裁/*\")\n",
        "\n",
        "s3 = glob.glob(\"/content/drive/MyDrive/Tebame_第四組_機車辨識/嚴選資料集/GOGORO_S3_裁/*\")\n",
        "\n",
        "like = glob.glob(\"/content/drive/MyDrive/Tebame_第四組_機車辨識/嚴選資料集/KYMCO_LIKE_125_裁/*\")\n",
        "\n",
        "many = glob.glob(\"/content/drive/MyDrive/Tebame_第四組_機車辨識/嚴選資料集/KYMCO_MANY_125_裁/*\")\n",
        "\n",
        "bws = glob.glob(\"/content/drive/MyDrive/Tebame_第四組_機車辨識/嚴選資料集/YAMAHA_BWS_125_裁/*\")\n",
        "\n",
        "sl = glob.glob(\"/content/drive/MyDrive/Tebame_第四組_機車辨識/嚴選資料集/SYM_JET_SL_125_裁/*\")\n",
        "\n",
        "axiz = glob.glob(\"/content/drive/MyDrive/Tebame_第四組_機車辨識/嚴選資料集/YAMAHA_勁豪_125_裁/*\")\n",
        "\n",
        "jog = glob.glob(\"/content/drive/MyDrive/Tebame_第四組_機車辨識/嚴選資料集/YAMAHA_JOG_125_裁/*\")"
      ],
      "execution_count": null,
      "outputs": []
    },
    {
      "cell_type": "code",
      "metadata": {
        "colab": {
          "base_uri": "https://localhost:8080/"
        },
        "id": "xvW8Lwdusn_2",
        "outputId": "9c0df568-2134-4cf8-c075-56e8f61d1526"
      },
      "source": [
        "print(len(trans))"
      ],
      "execution_count": null,
      "outputs": [
        {
          "output_type": "stream",
          "name": "stdout",
          "text": [
            "20\n"
          ]
        }
      ]
    },
    {
      "cell_type": "code",
      "metadata": {
        "colab": {
          "base_uri": "https://localhost:8080/",
          "height": 424
        },
        "id": "3z1mpw3UorOs",
        "outputId": "575ce936-e7d8-426c-ba5d-e984d6416116"
      },
      "source": [
        "import pandas as pd\n",
        "df = pd.DataFrame({\n",
        "    \"path\": s2 + gp + krv + fiddle + sr + vivo + famous + drg + duke + limi + gryphus6 + force + viva + s3 + like + many + bws + sl + axiz + jog,\n",
        "    \"ans\": [0] * len(s2) + [1] * len(gp) + [2] * len(krv) + [3] * len(fiddle) + [4] * len(sr) + [5] * len(vivo) + [6] * len(famous)\n",
        "    + [7] * len(drg) + [8] * len(duke) + [9] * len(limi) + [10] * len(gryphus6) + [11] * len(force) + [12] * len(viva) + [13] * len(s3)\n",
        "     + [14] * len(like) + [15] * len(many) + [16] * len(bws) + [17] * len(sl) + [18] * len(axiz) + [19] * len(jog)\n",
        "})\n",
        "df\n",
        "#trans = [\"s2\", \"gp\", \"krv\", \"fiddle\", \"sr\", \"vivo\", \"famous\", \"drg\", \"duke\", \"limi\", \"gryphus6\", \"force\", \"viva\", \"s3\", \"like\", \"many\", \"bws\", \"sl\", \"axiz\", \"jog\"]\n"
      ],
      "execution_count": null,
      "outputs": [
        {
          "output_type": "execute_result",
          "data": {
            "text/html": [
              "<div>\n",
              "<style scoped>\n",
              "    .dataframe tbody tr th:only-of-type {\n",
              "        vertical-align: middle;\n",
              "    }\n",
              "\n",
              "    .dataframe tbody tr th {\n",
              "        vertical-align: top;\n",
              "    }\n",
              "\n",
              "    .dataframe thead th {\n",
              "        text-align: right;\n",
              "    }\n",
              "</style>\n",
              "<table border=\"1\" class=\"dataframe\">\n",
              "  <thead>\n",
              "    <tr style=\"text-align: right;\">\n",
              "      <th></th>\n",
              "      <th>path</th>\n",
              "      <th>ans</th>\n",
              "    </tr>\n",
              "  </thead>\n",
              "  <tbody>\n",
              "    <tr>\n",
              "      <th>0</th>\n",
              "      <td>/content/drive/MyDrive/Tebame_第四組_機車辨識/嚴選資料集/G...</td>\n",
              "      <td>0</td>\n",
              "    </tr>\n",
              "    <tr>\n",
              "      <th>1</th>\n",
              "      <td>/content/drive/MyDrive/Tebame_第四組_機車辨識/嚴選資料集/G...</td>\n",
              "      <td>0</td>\n",
              "    </tr>\n",
              "    <tr>\n",
              "      <th>2</th>\n",
              "      <td>/content/drive/MyDrive/Tebame_第四組_機車辨識/嚴選資料集/G...</td>\n",
              "      <td>0</td>\n",
              "    </tr>\n",
              "    <tr>\n",
              "      <th>3</th>\n",
              "      <td>/content/drive/MyDrive/Tebame_第四組_機車辨識/嚴選資料集/G...</td>\n",
              "      <td>0</td>\n",
              "    </tr>\n",
              "    <tr>\n",
              "      <th>4</th>\n",
              "      <td>/content/drive/MyDrive/Tebame_第四組_機車辨識/嚴選資料集/G...</td>\n",
              "      <td>0</td>\n",
              "    </tr>\n",
              "    <tr>\n",
              "      <th>...</th>\n",
              "      <td>...</td>\n",
              "      <td>...</td>\n",
              "    </tr>\n",
              "    <tr>\n",
              "      <th>7974</th>\n",
              "      <td>/content/drive/MyDrive/Tebame_第四組_機車辨識/嚴選資料集/Y...</td>\n",
              "      <td>19</td>\n",
              "    </tr>\n",
              "    <tr>\n",
              "      <th>7975</th>\n",
              "      <td>/content/drive/MyDrive/Tebame_第四組_機車辨識/嚴選資料集/Y...</td>\n",
              "      <td>19</td>\n",
              "    </tr>\n",
              "    <tr>\n",
              "      <th>7976</th>\n",
              "      <td>/content/drive/MyDrive/Tebame_第四組_機車辨識/嚴選資料集/Y...</td>\n",
              "      <td>19</td>\n",
              "    </tr>\n",
              "    <tr>\n",
              "      <th>7977</th>\n",
              "      <td>/content/drive/MyDrive/Tebame_第四組_機車辨識/嚴選資料集/Y...</td>\n",
              "      <td>19</td>\n",
              "    </tr>\n",
              "    <tr>\n",
              "      <th>7978</th>\n",
              "      <td>/content/drive/MyDrive/Tebame_第四組_機車辨識/嚴選資料集/Y...</td>\n",
              "      <td>19</td>\n",
              "    </tr>\n",
              "  </tbody>\n",
              "</table>\n",
              "<p>7979 rows × 2 columns</p>\n",
              "</div>"
            ],
            "text/plain": [
              "                                                   path  ans\n",
              "0     /content/drive/MyDrive/Tebame_第四組_機車辨識/嚴選資料集/G...    0\n",
              "1     /content/drive/MyDrive/Tebame_第四組_機車辨識/嚴選資料集/G...    0\n",
              "2     /content/drive/MyDrive/Tebame_第四組_機車辨識/嚴選資料集/G...    0\n",
              "3     /content/drive/MyDrive/Tebame_第四組_機車辨識/嚴選資料集/G...    0\n",
              "4     /content/drive/MyDrive/Tebame_第四組_機車辨識/嚴選資料集/G...    0\n",
              "...                                                 ...  ...\n",
              "7974  /content/drive/MyDrive/Tebame_第四組_機車辨識/嚴選資料集/Y...   19\n",
              "7975  /content/drive/MyDrive/Tebame_第四組_機車辨識/嚴選資料集/Y...   19\n",
              "7976  /content/drive/MyDrive/Tebame_第四組_機車辨識/嚴選資料集/Y...   19\n",
              "7977  /content/drive/MyDrive/Tebame_第四組_機車辨識/嚴選資料集/Y...   19\n",
              "7978  /content/drive/MyDrive/Tebame_第四組_機車辨識/嚴選資料集/Y...   19\n",
              "\n",
              "[7979 rows x 2 columns]"
            ]
          },
          "metadata": {},
          "execution_count": 6
        }
      ]
    },
    {
      "cell_type": "code",
      "metadata": {
        "colab": {
          "base_uri": "https://localhost:8080/",
          "height": 317
        },
        "id": "k1DZ1FJttdfH",
        "outputId": "af95e4ea-259b-47d8-934b-0da545a27951"
      },
      "source": [
        "list_ = [i for n, i in enumerate(df[\"ans\"])]\n",
        "cls, count = np.unique(list_, return_counts=True)\n",
        "plt.bar(cls, count)\n",
        "print(cls, count, sep=\"\\n\")\n",
        "# trans = [\"s2\", \"gp\", \"krv\", \"fiddle\", \"sr\", \"vivo\", \"famous\", \"drg\", \"duke\", \"limi\", \"gryphus6\", \"force\", \"viva\", \"s3\", \"like\", \"many\", \"bws\", \"sl\", \"axiz\", \"jog\"]\n"
      ],
      "execution_count": null,
      "outputs": [
        {
          "output_type": "stream",
          "name": "stdout",
          "text": [
            "[ 0  1  2  3  4  5  6  7  8  9 10 11 12 13 14 15 16 17 18 19]\n",
            "[321 574 336 790 316 477 618 377 506 315 788 358 182 314 276 354 142 212\n",
            " 511 212]\n"
          ]
        },
        {
          "output_type": "display_data",
          "data": {
            "image/png": "[encoded data removed]",
            "text/plain": [
              "<Figure size 432x288 with 1 Axes>"
            ]
          },
          "metadata": {
            "needs_background": "light"
          }
        }
      ]
    },
    {
      "cell_type": "code",
      "metadata": {
        "colab": {
          "base_uri": "https://localhost:8080/",
          "height": 1000
        },
        "id": "v-gi_lI-wMMg",
        "outputId": "8d8203aa-e4b3-4711-9865-86e2dd0b957b"
      },
      "source": [
        "p = df[\"path\"]\n",
        "\n",
        "idx = np.random.randint(0, len(p), size=1)[0]  # 隨機取一張圖\n",
        "# idx\n",
        "path = p[idx]\n",
        "# print(path.shape)\n",
        "\n",
        "# img = cv2.imread(path)\n",
        "# plt.imshow(img[:, :, ::-1])\n",
        "\n",
        "img = Image.open(path).resize((224, 224)).convert(\"RGB\")\n",
        "img_np = np.array(img)\n",
        "print(path)\n",
        "img_np_pre = preprocess_input(img_np)\n",
        "print(img_np_pre)\n",
        "plt.imshow(img)\n",
        "# print(img)"
      ],
      "execution_count": null,
      "outputs": [
        {
          "output_type": "stream",
          "name": "stdout",
          "text": [
            "/content/drive/MyDrive/Tebame_第四組_機車辨識/嚴選資料集/YAMAHA_FORCE_裁/IMG_2430.JPG\n",
            "[[[-0.60784316 -0.5921569  -0.6313726 ]\n",
            "  [-0.5137255  -0.4823529  -0.5686275 ]\n",
            "  [-0.38039213 -0.3098039  -0.4823529 ]\n",
            "  ...\n",
            "  [ 0.15294123  0.12941182 -0.01960784]\n",
            "  [ 0.11372554  0.10588241 -0.04313725]\n",
            "  [ 0.12156868  0.10588241 -0.05098039]]\n",
            "\n",
            " [[-0.5294118  -0.4980392  -0.56078434]\n",
            "  [-0.54509807 -0.5058824  -0.5921569 ]\n",
            "  [-0.4823529  -0.41176468 -0.56078434]\n",
            "  ...\n",
            "  [ 0.17647064  0.13725495 -0.01960784]\n",
            "  [ 0.13725495  0.10588241 -0.04313725]\n",
            "  [ 0.1686275   0.12941182 -0.02745098]]\n",
            "\n",
            " [[-0.24705881 -0.09019607 -0.3960784 ]\n",
            "  [-0.34117645 -0.23921567 -0.42745095]\n",
            "  [-0.19215685 -0.1607843  -0.30196077]\n",
            "  ...\n",
            "  [ 0.19215691  0.15294123 -0.00392157]\n",
            "  [ 0.16078436  0.12156868 -0.02745098]\n",
            "  [ 0.15294123  0.10588241 -0.05098039]]\n",
            "\n",
            " ...\n",
            "\n",
            " [[-0.9137255  -0.85882354 -0.90588236]\n",
            "  [-0.9137255  -0.85882354 -0.90588236]\n",
            "  [-0.8039216  -0.70980394 -0.8039216 ]\n",
            "  ...\n",
            "  [ 0.5529412   0.7176471   0.78039217]\n",
            "  [ 0.5921569   0.77254903  0.827451  ]\n",
            "  [ 0.58431375  0.75686276  0.81960785]]\n",
            "\n",
            " [[-0.9529412  -0.92941177 -0.9607843 ]\n",
            "  [-0.96862745 -0.94509804 -0.9607843 ]\n",
            "  [-0.88235295 -0.79607844 -0.8745098 ]\n",
            "  ...\n",
            "  [ 0.5058824   0.6627451   0.73333335]\n",
            "  [ 0.5529412   0.7019608   0.7647059 ]\n",
            "  [ 0.56078434  0.7176471   0.78039217]]\n",
            "\n",
            " [[-0.8980392  -0.8117647  -0.92156863]\n",
            "  [-0.9372549  -0.8352941  -0.94509804]\n",
            "  [-0.94509804 -0.8039216  -0.9372549 ]\n",
            "  ...\n",
            "  [ 0.6         0.7882353   0.84313726]\n",
            "  [ 0.5529412   0.7254902   0.78039217]\n",
            "  [ 0.5372549   0.7019608   0.7647059 ]]]\n"
          ]
        },
        {
          "output_type": "execute_result",
          "data": {
            "text/plain": [
              "<matplotlib.image.AxesImage at 0x7f1bd29eabd0>"
            ]
          },
          "metadata": {},
          "execution_count": 8
        },
        {
          "output_type": "display_data",
          "data": {
            "image/png": "[encoded data removed]",
            "text/plain": [
              "<Figure size 432x288 with 1 Axes>"
            ]
          },
          "metadata": {
            "needs_background": "light"
          }
        }
      ]
    },
    {
      "cell_type": "code",
      "metadata": {
        "id": "IMlb0F7yvlKK"
      },
      "source": [
        "# clear graph\n",
        "tensorflow.keras.backend.clear_session() "
      ],
      "execution_count": null,
      "outputs": []
    },
    {
      "cell_type": "code",
      "metadata": {
        "colab": {
          "base_uri": "https://localhost:8080/"
        },
        "id": "AUvJf4O0yyX_",
        "outputId": "1fb70513-6c34-4240-b768-29f20b8ae166"
      },
      "source": [
        "base_model = MobileNet(\n",
        "    include_top=False, weights='imagenet', input_shape=(224, 224, 3)\n",
        ")\n",
        "x = base_model.output\n",
        "x = layers.GlobalAveragePooling2D()(x)\n",
        "x = layers.Dropout(0.2)(x)\n",
        "x = layers.Dense(256, activation=\"relu\")(x)\n",
        "predictions = layers.Dense(20, activation='softmax')(x)\n",
        "\n",
        "# Freeze layers 凍結層 把遷移來的卷積的參數固定\n",
        "for l in base_model.layers:\n",
        "  l.trainable = False\n",
        "\n",
        "# 把卷積和後面的分類層合在一起\n",
        "model = models.Model(base_model.input, predictions)\n",
        "model.summary()\n",
        "# base_model.summary()"
      ],
      "execution_count": null,
      "outputs": [
        {
          "output_type": "stream",
          "name": "stdout",
          "text": [
            "Downloading data from https://storage.googleapis.com/tensorflow/keras-applications/mobilenet/mobilenet_1_0_224_tf_no_top.h5\n",
            "17227776/17225924 [==============================] - 0s 0us/step\n",
            "17235968/17225924 [==============================] - 0s 0us/step\n",
            "Model: \"model\"\n",
            "_________________________________________________________________\n",
            " Layer (type)                Output Shape              Param #   \n",
            "=================================================================\n",
            " input_1 (InputLayer)        [(None, 224, 224, 3)]     0         \n",
            "                                                                 \n",
            " conv1 (Conv2D)              (None, 112, 112, 32)      864       \n",
            "                                                                 \n",
            " conv1_bn (BatchNormalizatio  (None, 112, 112, 32)     128       \n",
            " n)                                                              \n",
            "                                                                 \n",
            " conv1_relu (ReLU)           (None, 112, 112, 32)      0         \n",
            "                                                                 \n",
            " conv_dw_1 (DepthwiseConv2D)  (None, 112, 112, 32)     288       \n",
            "                                                                 \n",
            " conv_dw_1_bn (BatchNormaliz  (None, 112, 112, 32)     128       \n",
            " ation)                                                          \n",
            "                                                                 \n",
            " conv_dw_1_relu (ReLU)       (None, 112, 112, 32)      0         \n",
            "                                                                 \n",
            " conv_pw_1 (Conv2D)          (None, 112, 112, 64)      2048      \n",
            "                                                                 \n",
            " conv_pw_1_bn (BatchNormaliz  (None, 112, 112, 64)     256       \n",
            " ation)                                                          \n",
            "                                                                 \n",
            " conv_pw_1_relu (ReLU)       (None, 112, 112, 64)      0         \n",
            "                                                                 \n",
            " conv_pad_2 (ZeroPadding2D)  (None, 113, 113, 64)      0         \n",
            "                                                                 \n",
            " conv_dw_2 (DepthwiseConv2D)  (None, 56, 56, 64)       576       \n",
            "                                                                 \n",
            " conv_dw_2_bn (BatchNormaliz  (None, 56, 56, 64)       256       \n",
            " ation)                                                          \n",
            "                                                                 \n",
            " conv_dw_2_relu (ReLU)       (None, 56, 56, 64)        0         \n",
            "                                                                 \n",
            " conv_pw_2 (Conv2D)          (None, 56, 56, 128)       8192      \n",
            "                                                                 \n",
            " conv_pw_2_bn (BatchNormaliz  (None, 56, 56, 128)      512       \n",
            " ation)                                                          \n",
            "                                                                 \n",
            " conv_pw_2_relu (ReLU)       (None, 56, 56, 128)       0         \n",
            "                                                                 \n",
            " conv_dw_3 (DepthwiseConv2D)  (None, 56, 56, 128)      1152      \n",
            "                                                                 \n",
            " conv_dw_3_bn (BatchNormaliz  (None, 56, 56, 128)      512       \n",
            " ation)                                                          \n",
            "                                                                 \n",
            " conv_dw_3_relu (ReLU)       (None, 56, 56, 128)       0         \n",
            "                                                                 \n",
            " conv_pw_3 (Conv2D)          (None, 56, 56, 128)       16384     \n",
            "                                                                 \n",
            " conv_pw_3_bn (BatchNormaliz  (None, 56, 56, 128)      512       \n",
            " ation)                                                          \n",
            "                                                                 \n",
            " conv_pw_3_relu (ReLU)       (None, 56, 56, 128)       0         \n",
            "                                                                 \n",
            " conv_pad_4 (ZeroPadding2D)  (None, 57, 57, 128)       0         \n",
            "                                                                 \n",
            " conv_dw_4 (DepthwiseConv2D)  (None, 28, 28, 128)      1152      \n",
            "                                                                 \n",
            " conv_dw_4_bn (BatchNormaliz  (None, 28, 28, 128)      512       \n",
            " ation)                                                          \n",
            "                                                                 \n",
            " conv_dw_4_relu (ReLU)       (None, 28, 28, 128)       0         \n",
            "                                                                 \n",
            " conv_pw_4 (Conv2D)          (None, 28, 28, 256)       32768     \n",
            "                                                                 \n",
            " conv_pw_4_bn (BatchNormaliz  (None, 28, 28, 256)      1024      \n",
            " ation)                                                          \n",
            "                                                                 \n",
            " conv_pw_4_relu (ReLU)       (None, 28, 28, 256)       0         \n",
            "                                                                 \n",
            " conv_dw_5 (DepthwiseConv2D)  (None, 28, 28, 256)      2304      \n",
            "                                                                 \n",
            " conv_dw_5_bn (BatchNormaliz  (None, 28, 28, 256)      1024      \n",
            " ation)                                                          \n",
            "                                                                 \n",
            " conv_dw_5_relu (ReLU)       (None, 28, 28, 256)       0         \n",
            "                                                                 \n",
            " conv_pw_5 (Conv2D)          (None, 28, 28, 256)       65536     \n",
            "                                                                 \n",
            " conv_pw_5_bn (BatchNormaliz  (None, 28, 28, 256)      1024      \n",
            " ation)                                                          \n",
            "                                                                 \n",
            " conv_pw_5_relu (ReLU)       (None, 28, 28, 256)       0         \n",
            "                                                                 \n",
            " conv_pad_6 (ZeroPadding2D)  (None, 29, 29, 256)       0         \n",
            "                                                                 \n",
            " conv_dw_6 (DepthwiseConv2D)  (None, 14, 14, 256)      2304      \n",
            "                                                                 \n",
            " conv_dw_6_bn (BatchNormaliz  (None, 14, 14, 256)      1024      \n",
            " ation)                                                          \n",
            "                                                                 \n",
            " conv_dw_6_relu (ReLU)       (None, 14, 14, 256)       0         \n",
            "                                                                 \n",
            " conv_pw_6 (Conv2D)          (None, 14, 14, 512)       131072    \n",
            "                                                                 \n",
            " conv_pw_6_bn (BatchNormaliz  (None, 14, 14, 512)      2048      \n",
            " ation)                                                          \n",
            "                                                                 \n",
            " conv_pw_6_relu (ReLU)       (None, 14, 14, 512)       0         \n",
            "                                                                 \n",
            " conv_dw_7 (DepthwiseConv2D)  (None, 14, 14, 512)      4608      \n",
            "                                                                 \n",
            " conv_dw_7_bn (BatchNormaliz  (None, 14, 14, 512)      2048      \n",
            " ation)                                                          \n",
            "                                                                 \n",
            " conv_dw_7_relu (ReLU)       (None, 14, 14, 512)       0         \n",
            "                                                                 \n",
            " conv_pw_7 (Conv2D)          (None, 14, 14, 512)       262144    \n",
            "                                                                 \n",
            " conv_pw_7_bn (BatchNormaliz  (None, 14, 14, 512)      2048      \n",
            " ation)                                                          \n",
            "                                                                 \n",
            " conv_pw_7_relu (ReLU)       (None, 14, 14, 512)       0         \n",
            "                                                                 \n",
            " conv_dw_8 (DepthwiseConv2D)  (None, 14, 14, 512)      4608      \n",
            "                                                                 \n",
            " conv_dw_8_bn (BatchNormaliz  (None, 14, 14, 512)      2048      \n",
            " ation)                                                          \n",
            "                                                                 \n",
            " conv_dw_8_relu (ReLU)       (None, 14, 14, 512)       0         \n",
            "                                                                 \n",
            " conv_pw_8 (Conv2D)          (None, 14, 14, 512)       262144    \n",
            "                                                                 \n",
            " conv_pw_8_bn (BatchNormaliz  (None, 14, 14, 512)      2048      \n",
            " ation)                                                          \n",
            "                                                                 \n",
            " conv_pw_8_relu (ReLU)       (None, 14, 14, 512)       0         \n",
            "                                                                 \n",
            " conv_dw_9 (DepthwiseConv2D)  (None, 14, 14, 512)      4608      \n",
            "                                                                 \n",
            " conv_dw_9_bn (BatchNormaliz  (None, 14, 14, 512)      2048      \n",
            " ation)                                                          \n",
            "                                                                 \n",
            " conv_dw_9_relu (ReLU)       (None, 14, 14, 512)       0         \n",
            "                                                                 \n",
            " conv_pw_9 (Conv2D)          (None, 14, 14, 512)       262144    \n",
            "                                                                 \n",
            " conv_pw_9_bn (BatchNormaliz  (None, 14, 14, 512)      2048      \n",
            " ation)                                                          \n",
            "                                                                 \n",
            " conv_pw_9_relu (ReLU)       (None, 14, 14, 512)       0         \n",
            "                                                                 \n",
            " conv_dw_10 (DepthwiseConv2D  (None, 14, 14, 512)      4608      \n",
            " )                                                               \n",
            "                                                                 \n",
            " conv_dw_10_bn (BatchNormali  (None, 14, 14, 512)      2048      \n",
            " zation)                                                         \n",
            "                                                                 \n",
            " conv_dw_10_relu (ReLU)      (None, 14, 14, 512)       0         \n",
            "                                                                 \n",
            " conv_pw_10 (Conv2D)         (None, 14, 14, 512)       262144    \n",
            "                                                                 \n",
            " conv_pw_10_bn (BatchNormali  (None, 14, 14, 512)      2048      \n",
            " zation)                                                         \n",
            "                                                                 \n",
            " conv_pw_10_relu (ReLU)      (None, 14, 14, 512)       0         \n",
            "                                                                 \n",
            " conv_dw_11 (DepthwiseConv2D  (None, 14, 14, 512)      4608      \n",
            " )                                                               \n",
            "                                                                 \n",
            " conv_dw_11_bn (BatchNormali  (None, 14, 14, 512)      2048      \n",
            " zation)                                                         \n",
            "                                                                 \n",
            " conv_dw_11_relu (ReLU)      (None, 14, 14, 512)       0         \n",
            "                                                                 \n",
            " conv_pw_11 (Conv2D)         (None, 14, 14, 512)       262144    \n",
            "                                                                 \n",
            " conv_pw_11_bn (BatchNormali  (None, 14, 14, 512)      2048      \n",
            " zation)                                                         \n",
            "                                                                 \n",
            " conv_pw_11_relu (ReLU)      (None, 14, 14, 512)       0         \n",
            "                                                                 \n",
            " conv_pad_12 (ZeroPadding2D)  (None, 15, 15, 512)      0         \n",
            "                                                                 \n",
            " conv_dw_12 (DepthwiseConv2D  (None, 7, 7, 512)        4608      \n",
            " )                                                               \n",
            "                                                                 \n",
            " conv_dw_12_bn (BatchNormali  (None, 7, 7, 512)        2048      \n",
            " zation)                                                         \n",
            "                                                                 \n",
            " conv_dw_12_relu (ReLU)      (None, 7, 7, 512)         0         \n",
            "                                                                 \n",
            " conv_pw_12 (Conv2D)         (None, 7, 7, 1024)        524288    \n",
            "                                                                 \n",
            " conv_pw_12_bn (BatchNormali  (None, 7, 7, 1024)       4096      \n",
            " zation)                                                         \n",
            "                                                                 \n",
            " conv_pw_12_relu (ReLU)      (None, 7, 7, 1024)        0         \n",
            "                                                                 \n",
            " conv_dw_13 (DepthwiseConv2D  (None, 7, 7, 1024)       9216      \n",
            " )                                                               \n",
            "                                                                 \n",
            " conv_dw_13_bn (BatchNormali  (None, 7, 7, 1024)       4096      \n",
            " zation)                                                         \n",
            "                                                                 \n",
            " conv_dw_13_relu (ReLU)      (None, 7, 7, 1024)        0         \n",
            "                                                                 \n",
            " conv_pw_13 (Conv2D)         (None, 7, 7, 1024)        1048576   \n",
            "                                                                 \n",
            " conv_pw_13_bn (BatchNormali  (None, 7, 7, 1024)       4096      \n",
            " zation)                                                         \n",
            "                                                                 \n",
            " conv_pw_13_relu (ReLU)      (None, 7, 7, 1024)        0         \n",
            "                                                                 \n",
            " global_average_pooling2d (G  (None, 1024)             0         \n",
            " lobalAveragePooling2D)                                          \n",
            "                                                                 \n",
            " dropout (Dropout)           (None, 1024)              0         \n",
            "                                                                 \n",
            " dense (Dense)               (None, 256)               262400    \n",
            "                                                                 \n",
            " dense_1 (Dense)             (None, 20)                5140      \n",
            "                                                                 \n",
            "=================================================================\n",
            "Total params: 3,496,404\n",
            "Trainable params: 267,540\n",
            "Non-trainable params: 3,228,864\n",
            "_________________________________________________________________\n"
          ]
        }
      ]
    },
    {
      "cell_type": "code",
      "metadata": {
        "id": "klgKL_Ot7YQA"
      },
      "source": [
        "from tensorflow.keras.losses import SparseCategoricalCrossentropy\n",
        "model.compile(\n",
        "        loss=SparseCategoricalCrossentropy(),\n",
        "        optimizer=\"adam\",\n",
        "        metrics=[\"acc\"]\n",
        ")"
      ],
      "execution_count": null,
      "outputs": []
    },
    {
      "cell_type": "code",
      "metadata": {
        "id": "2vph6jvr5cBB"
      },
      "source": [
        "x = np.array(df[\"path\"])\n",
        "y = np.array(df[\"ans\"])"
      ],
      "execution_count": null,
      "outputs": []
    },
    {
      "cell_type": "code",
      "metadata": {
        "colab": {
          "base_uri": "https://localhost:8080/"
        },
        "id": "afkJQdml1IIp",
        "outputId": "489a1a60-b038-4561-9087-475e961effa7"
      },
      "source": [
        "def data_generator(x, y, batch_size=20):\n",
        "  while True:\n",
        "    idx = np.random.randint(0, len(x), size=batch_size)\n",
        "    x_batch, y_batch = x[idx], y[idx]\n",
        "    x_final = []\n",
        "    for path in x_batch:\n",
        "      img = Image.open(path).resize((224, 224)).convert(\"RGB\")    #  開啟路徑圖檔並改大小、轉成RGB\n",
        "      img_pre = preprocess_input(np.array(img))              # 轉成陣列再預處理\n",
        "      x_final.append(img_pre)            \n",
        "    x_final = np.array(x_final)\n",
        "    y_batch = np.array(y_batch)\n",
        "    yield (x_final, y_batch)\n",
        "gen = data_generator(x, y)\n",
        "x_gen, y_gen = gen.__next__()\n",
        "# print(x_gen.shape)\n",
        "# print(y_gen.shape)\n",
        "print(x_gen)\n",
        "# print(y_gen)\n"
      ],
      "execution_count": null,
      "outputs": [
        {
          "output_type": "stream",
          "name": "stdout",
          "text": [
            "[[[[ 1.          1.          1.        ]\n",
            "   [ 0.88235295  0.88235295  0.7176471 ]\n",
            "   [ 0.81960785  0.81960785  0.45098042]\n",
            "   ...\n",
            "   [ 0.85882354  0.8352941   0.16078436]\n",
            "   [ 0.84313726  0.8117647   0.5921569 ]\n",
            "   [ 0.5764706   0.5058824   0.21568632]]\n",
            "\n",
            "  [[ 1.          1.          1.        ]\n",
            "   [ 0.8039216   0.79607844  0.62352943]\n",
            "   [ 0.5921569   0.58431375  0.1686275 ]\n",
            "   ...\n",
            "   [ 0.7647059   0.75686276  0.10588241]\n",
            "   [ 0.7647059   0.69411767  0.30196083]\n",
            "   [ 0.58431375  0.4431373   0.15294123]]\n",
            "\n",
            "  [[ 1.          1.          1.        ]\n",
            "   [ 0.8980392   0.8980392   0.8117647 ]\n",
            "   [ 0.6784314   0.654902    0.4431373 ]\n",
            "   ...\n",
            "   [ 0.8352941   0.7647059   0.23921573]\n",
            "   [ 0.8352941   0.78039217  0.45098042]\n",
            "   [ 0.7411765   0.6313726   0.3803922 ]]\n",
            "\n",
            "  ...\n",
            "\n",
            "  [[ 0.32549024  0.28627455  0.23921573]\n",
            "   [ 0.34901965  0.30980396  0.26274514]\n",
            "   [ 0.41176474  0.38823533  0.34901965]\n",
            "   ...\n",
            "   [ 0.5764706   0.54509807  0.52156866]\n",
            "   [ 0.5294118   0.5058824   0.47450984]\n",
            "   [ 0.5294118   0.49803925  0.4901961 ]]\n",
            "\n",
            "  [[ 0.37254906  0.33333337  0.2941177 ]\n",
            "   [ 0.4039216   0.37254906  0.33333337]\n",
            "   [ 0.43529415  0.41176474  0.37254906]\n",
            "   ...\n",
            "   [ 0.58431375  0.5529412   0.54509807]\n",
            "   [ 0.5686275   0.5294118   0.52156866]\n",
            "   [ 0.52156866  0.48235297  0.47450984]]\n",
            "\n",
            "  [[ 0.37254906  0.33333337  0.30196083]\n",
            "   [ 0.41960788  0.38823533  0.35686278]\n",
            "   [ 0.41176474  0.38823533  0.34901965]\n",
            "   ...\n",
            "   [ 0.5529412   0.52156866  0.5137255 ]\n",
            "   [ 0.56078434  0.52156866  0.52156866]\n",
            "   [ 0.5372549   0.4901961   0.4901961 ]]]\n",
            "\n",
            "\n",
            " [[[-0.23137254 -0.32549018 -0.38039213]\n",
            "   [-0.23921567 -0.32549018 -0.38823527]\n",
            "   [-0.26274508 -0.32549018 -0.3960784 ]\n",
            "   ...\n",
            "   [ 0.81960785  0.81960785  0.9137255 ]\n",
            "   [ 0.8980392   0.8980392   0.99215686]\n",
            "   [ 0.5372549   0.4901961   0.4901961 ]]\n",
            "\n",
            "  [[-0.1372549  -0.17647058 -0.2235294 ]\n",
            "   [-0.14509803 -0.18431371 -0.23137254]\n",
            "   [-0.14509803 -0.18431371 -0.23137254]\n",
            "   ...\n",
            "   [ 0.8117647   0.8117647   0.90588236]\n",
            "   [ 0.8980392   0.8980392   0.99215686]\n",
            "   [ 0.47450984  0.41960788  0.41960788]]\n",
            "\n",
            "  [[-0.372549   -0.41176468 -0.44313723]\n",
            "   [-0.372549   -0.41960782 -0.44313723]\n",
            "   [-0.36470586 -0.4352941  -0.45098037]\n",
            "   ...\n",
            "   [ 0.81960785  0.81960785  0.9137255 ]\n",
            "   [ 0.90588236  0.8901961   0.99215686]\n",
            "   [ 0.427451    0.35686278  0.35686278]]\n",
            "\n",
            "  ...\n",
            "\n",
            "  [[ 0.56078434  0.4901961   0.43529415]\n",
            "   [ 0.5686275   0.49803925  0.4431373 ]\n",
            "   [ 0.5372549   0.4666667   0.41176474]\n",
            "   ...\n",
            "   [ 0.15294123  0.13725495  0.12941182]\n",
            "   [ 0.14509809  0.12941182  0.12941182]\n",
            "   [ 0.22352946  0.20784318  0.21568632]]\n",
            "\n",
            "  [[ 0.60784316  0.5529412   0.47450984]\n",
            "   [ 0.5686275   0.5058824   0.43529415]\n",
            "   [ 0.48235297  0.41176474  0.35686278]\n",
            "   ...\n",
            "   [ 0.12941182  0.09019613  0.06666672]\n",
            "   [ 0.05098045  0.03529418  0.0196079 ]\n",
            "   [ 0.10588241  0.12156868  0.10588241]]\n",
            "\n",
            "  [[ 0.5686275   0.5137255   0.427451  ]\n",
            "   [ 0.5529412   0.49803925  0.427451  ]\n",
            "   [ 0.5686275   0.49803925  0.4431373 ]\n",
            "   ...\n",
            "   [ 0.02745104 -0.00392157  0.00392163]\n",
            "   [-0.09803921 -0.10588235 -0.09019607]\n",
            "   [-0.01960784 -0.01960784 -0.01176471]]]\n",
            "\n",
            "\n",
            " [[[ 0.18431377  0.3803922   0.4039216 ]\n",
            "   [ 0.082353    0.35686278  0.41176474]\n",
            "   [ 0.082353    0.34901965  0.41960788]\n",
            "   ...\n",
            "   [ 0.02745104  0.49803925  0.20000005]\n",
            "   [ 0.02745104  0.49803925  0.20000005]\n",
            "   [ 0.02745104  0.49803925  0.19215691]]\n",
            "\n",
            "  [[ 0.22352946  0.3803922   0.39607847]\n",
            "   [ 0.12156868  0.36470592  0.41176474]\n",
            "   [ 0.03529418  0.26274514  0.32549024]\n",
            "   ...\n",
            "   [ 0.04313731  0.5058824   0.20784318]\n",
            "   [ 0.03529418  0.5058824   0.20784318]\n",
            "   [ 0.04313731  0.5137255   0.21568632]]\n",
            "\n",
            "  [[ 0.12156868  0.3176471   0.32549024]\n",
            "   [ 0.01176476  0.254902    0.27058828]\n",
            "   [ 0.00392163  0.1686275   0.21568632]\n",
            "   ...\n",
            "   [ 0.05098045  0.5058824   0.20784318]\n",
            "   [ 0.04313731  0.5058824   0.20784318]\n",
            "   [ 0.04313731  0.5137255   0.21568632]]\n",
            "\n",
            "  ...\n",
            "\n",
            "  [[-0.04313725  0.21568632 -0.42745095]\n",
            "   [-0.02745098  0.2313726  -0.3960784 ]\n",
            "   [-0.01176471  0.24705887 -0.38823527]\n",
            "   ...\n",
            "   [ 0.56078434  0.5372549   0.48235297]\n",
            "   [ 0.5529412   0.5137255   0.4431373 ]\n",
            "   [ 0.49803925  0.427451    0.37254906]]\n",
            "\n",
            "  [[-0.02745098  0.2313726  -0.41176468]\n",
            "   [-0.01176471  0.24705887 -0.372549  ]\n",
            "   [-0.00392157  0.254902   -0.372549  ]\n",
            "   ...\n",
            "   [ 0.5764706   0.5529412   0.49803925]\n",
            "   [ 0.54509807  0.5137255   0.45882356]\n",
            "   [ 0.5058824   0.47450984  0.427451  ]]\n",
            "\n",
            "  [[-0.01176471  0.23921573 -0.38039213]\n",
            "   [-0.01176471  0.24705887 -0.36470586]\n",
            "   [-0.01176471  0.24705887 -0.372549  ]\n",
            "   ...\n",
            "   [ 0.58431375  0.56078434  0.5058824 ]\n",
            "   [ 0.5058824   0.48235297  0.427451  ]\n",
            "   [ 0.5294118   0.5058824   0.45098042]]]\n",
            "\n",
            "\n",
            " ...\n",
            "\n",
            "\n",
            " [[[ 1.          1.          1.        ]\n",
            "   [ 1.          1.          1.        ]\n",
            "   [ 1.          1.          1.        ]\n",
            "   ...\n",
            "   [ 0.38823533  0.41960788  0.37254906]\n",
            "   [ 0.45882356  0.5294118   0.54509807]\n",
            "   [ 0.49803925  0.5686275   0.5921569 ]]\n",
            "\n",
            "  [[ 1.          1.          1.        ]\n",
            "   [ 1.          1.          1.        ]\n",
            "   [ 1.          1.          1.        ]\n",
            "   ...\n",
            "   [ 0.41960788  0.41176474  0.39607847]\n",
            "   [ 0.56078434  0.5921569   0.6156863 ]\n",
            "   [ 0.52156866  0.5529412   0.58431375]]\n",
            "\n",
            "  [[ 1.          1.          1.        ]\n",
            "   [ 1.          1.          1.        ]\n",
            "   [ 1.          1.          1.        ]\n",
            "   ...\n",
            "   [ 0.58431375  0.47450984  0.4901961 ]\n",
            "   [ 0.6         0.62352943  0.6627451 ]\n",
            "   [ 0.4901961   0.52156866  0.54509807]]\n",
            "\n",
            "  ...\n",
            "\n",
            "  [[-0.4980392  -0.5294118  -0.5529412 ]\n",
            "   [-0.5529412  -0.58431375 -0.60784316]\n",
            "   [-0.6156863  -0.64705884 -0.64705884]\n",
            "   ...\n",
            "   [-0.67058825 -0.67058825 -0.654902  ]\n",
            "   [-0.6784314  -0.67058825 -0.64705884]\n",
            "   [-0.6784314  -0.6627451  -0.6627451 ]]\n",
            "\n",
            "  [[-0.45098037 -0.49019605 -0.5137255 ]\n",
            "   [-0.44313723 -0.4823529  -0.5058824 ]\n",
            "   [-0.4588235  -0.49019605 -0.5294118 ]\n",
            "   ...\n",
            "   [-0.6627451  -0.6627451  -0.64705884]\n",
            "   [-0.67058825 -0.6627451  -0.6392157 ]\n",
            "   [-0.67058825 -0.654902   -0.654902  ]]\n",
            "\n",
            "  [[-0.45098037 -0.49019605 -0.5137255 ]\n",
            "   [-0.45098037 -0.49019605 -0.52156866]\n",
            "   [-0.45098037 -0.49019605 -0.52156866]\n",
            "   ...\n",
            "   [-0.6627451  -0.6627451  -0.64705884]\n",
            "   [-0.67058825 -0.6627451  -0.6392157 ]\n",
            "   [-0.67058825 -0.654902   -0.654902  ]]]\n",
            "\n",
            "\n",
            " [[[ 0.99215686  1.          0.8745098 ]\n",
            "   [ 0.99215686  1.          0.8745098 ]\n",
            "   [ 0.99215686  1.          0.8745098 ]\n",
            "   ...\n",
            "   [ 0.84313726  0.8039216   0.6       ]\n",
            "   [ 0.9607843   0.9372549   0.7882353 ]\n",
            "   [ 0.94509804  0.94509804  0.78039217]]\n",
            "\n",
            "  [[ 0.99215686  1.          0.8745098 ]\n",
            "   [ 0.99215686  1.          0.8745098 ]\n",
            "   [ 0.99215686  1.          0.8745098 ]\n",
            "   ...\n",
            "   [ 0.827451    0.827451    0.67058825]\n",
            "   [ 0.8745098   0.8509804   0.69411767]\n",
            "   [ 0.8980392   0.8745098   0.7019608 ]]\n",
            "\n",
            "  [[ 0.99215686  1.          0.8745098 ]\n",
            "   [ 0.99215686  1.          0.8745098 ]\n",
            "   [ 0.99215686  1.          0.8745098 ]\n",
            "   ...\n",
            "   [ 0.7647059   0.7490196   0.5529412 ]\n",
            "   [ 0.70980394  0.69411767  0.4666667 ]\n",
            "   [ 0.8666667   0.84313726  0.62352943]]\n",
            "\n",
            "  ...\n",
            "\n",
            "  [[-0.5921569  -0.5529412  -0.47450978]\n",
            "   [-0.62352943 -0.58431375 -0.5137255 ]\n",
            "   [-0.5058824  -0.5058824  -0.49019605]\n",
            "   ...\n",
            "   [ 0.254902    0.20000005  0.13725495]\n",
            "   [ 0.3411765   0.28627455  0.2313726 ]\n",
            "   [ 0.32549024  0.27058828  0.18431377]]\n",
            "\n",
            "  [[-0.41960782 -0.41176468 -0.3960784 ]\n",
            "   [-0.40392154 -0.41176468 -0.41176468]\n",
            "   [-0.2862745  -0.3333333  -0.38039213]\n",
            "   ...\n",
            "   [ 0.254902    0.20000005  0.12941182]\n",
            "   [ 0.23921573  0.20000005  0.14509809]\n",
            "   [ 0.2941177   0.254902    0.20000005]]\n",
            "\n",
            "  [[-0.54509807 -0.5372549  -0.5372549 ]\n",
            "   [-0.4588235  -0.4823529  -0.5058824 ]\n",
            "   [-0.21568626 -0.27843136 -0.34117645]\n",
            "   ...\n",
            "   [ 0.2941177   0.21568632  0.14509809]\n",
            "   [ 0.17647064  0.13725495  0.082353  ]\n",
            "   [ 0.20784318  0.1686275   0.12156868]]]\n",
            "\n",
            "\n",
            " [[[-0.29411763 -0.19999999 -0.3098039 ]\n",
            "   [-0.2235294  -0.12941176 -0.2235294 ]\n",
            "   [-0.27843136 -0.16862744 -0.27058822]\n",
            "   ...\n",
            "   [ 0.92156863  0.92941177  0.9137255 ]\n",
            "   [ 0.6         0.58431375  0.5529412 ]\n",
            "   [ 0.18431377  0.19215691  0.23921573]]\n",
            "\n",
            "  [[-0.19999999 -0.09803921 -0.26274508]\n",
            "   [-0.2235294  -0.12156862 -0.25490195]\n",
            "   [-0.25490195 -0.14509803 -0.24705881]\n",
            "   ...\n",
            "   [ 0.9843137   0.9843137   0.96862745]\n",
            "   [ 0.5294118   0.5137255   0.48235297]\n",
            "   [ 0.254902    0.27058828  0.3176471 ]]\n",
            "\n",
            "  [[-0.15294117 -0.04313725 -0.18431371]\n",
            "   [-0.21568626 -0.12941176 -0.24705881]\n",
            "   [-0.3098039  -0.19215685 -0.30196077]\n",
            "   ...\n",
            "   [ 0.9764706   0.9764706   0.9529412 ]\n",
            "   [ 0.43529415  0.41176474  0.38823533]\n",
            "   [ 0.18431377  0.20000005  0.26274514]]\n",
            "\n",
            "  ...\n",
            "\n",
            "  [[-0.00392157 -0.11372548 -0.21568626]\n",
            "   [-0.00392157 -0.11372548 -0.21568626]\n",
            "   [-0.27058822 -0.372549   -0.44313723]\n",
            "   ...\n",
            "   [ 0.22352946  0.1686275   0.09019613]\n",
            "   [ 0.22352946  0.1686275   0.09019613]\n",
            "   [ 0.22352946  0.1686275   0.09019613]]\n",
            "\n",
            "  [[ 0.0196079  -0.11372548 -0.2235294 ]\n",
            "   [-0.2235294  -0.32549018 -0.41176468]\n",
            "   [-0.26274508 -0.34117645 -0.40392154]\n",
            "   ...\n",
            "   [ 0.24705887  0.19215691  0.11372554]\n",
            "   [ 0.24705887  0.19215691  0.11372554]\n",
            "   [ 0.254902    0.20000005  0.12156868]]\n",
            "\n",
            "  [[-0.18431371 -0.29411763 -0.38039213]\n",
            "   [-0.27058822 -0.35686272 -0.42745095]\n",
            "   [-0.26274508 -0.34117645 -0.41176468]\n",
            "   ...\n",
            "   [ 0.26274514  0.20784318  0.12941182]\n",
            "   [ 0.26274514  0.20784318  0.12941182]\n",
            "   [ 0.23921573  0.18431377  0.10588241]]]]\n"
          ]
        }
      ]
    },
    {
      "cell_type": "code",
      "metadata": {
        "colab": {
          "base_uri": "https://localhost:8080/"
        },
        "id": "8nOysyKa59BA",
        "outputId": "8221570d-c9ba-4d02-ca4a-334743c8dd80"
      },
      "source": [
        "from sklearn.model_selection import train_test_split\n",
        "import numpy as np\n",
        "\n",
        "x_train, x_test, y_train, y_test = train_test_split(x, y, test_size=0.1)\n",
        "print(x_train.shape)\n",
        "print(x_test.shape)\n",
        "print(y_train.shape)\n",
        "print(y_test.shape)"
      ],
      "execution_count": null,
      "outputs": [
        {
          "output_type": "stream",
          "name": "stdout",
          "text": [
            "(7181,)\n",
            "(798,)\n",
            "(7181,)\n",
            "(798,)\n"
          ]
        }
      ]
    },
    {
      "cell_type": "code",
      "metadata": {
        "id": "92dCQgR66zrU"
      },
      "source": [
        "train_generator = data_generator(x_train, y_train)\n",
        "test_generator = data_generator(x_test, y_test)"
      ],
      "execution_count": null,
      "outputs": []
    },
    {
      "cell_type": "code",
      "metadata": {
        "colab": {
          "base_uri": "https://localhost:8080/"
        },
        "id": "deMn9RL966OI",
        "outputId": "746fa51e-5eb0-40a5-e95f-b8bf72c63b4d"
      },
      "source": [
        "from tensorflow.keras.callbacks import EarlyStopping, ModelCheckpoint, LearningRateScheduler\n",
        "import keras\n",
        "def scheduler(epoch, lr):\n",
        "    if epoch < 10:\n",
        "        return lr\n",
        "    else:\n",
        "        return lr * 0.99\n",
        "keras.callbacks.LearningRateScheduler(scheduler)\n",
        "\n",
        "\n",
        "callbacks = [\n",
        "             EarlyStopping(patience=12, restore_best_weights=True),\n",
        "             ModelCheckpoint(\"/content/1118_mobilenet_all.h5\", save_best_only=True),\n",
        "             LearningRateScheduler(scheduler)\n",
        "]\n",
        "\n",
        "model.fit(\n",
        "    train_generator,\n",
        "    steps_per_epoch=20,\n",
        "    epochs=500,\n",
        "    validation_data=test_generator,\n",
        "    validation_steps=3, \n",
        "    callbacks=callbacks\n",
        "                    )"
      ],
      "execution_count": null,
      "outputs": [
        {
          "output_type": "stream",
          "name": "stdout",
          "text": [
            "Epoch 1/500\n",
            "20/20 [==============================] - 186s 8s/step - loss: 3.2236 - acc: 0.1525 - val_loss: 2.9391 - val_acc: 0.1667 - lr: 0.0010\n",
            "Epoch 2/500\n",
            "20/20 [==============================] - 159s 8s/step - loss: 2.6270 - acc: 0.2375 - val_loss: 2.4248 - val_acc: 0.2833 - lr: 0.0010\n",
            "Epoch 3/500\n",
            "20/20 [==============================] - 153s 8s/step - loss: 2.3041 - acc: 0.3125 - val_loss: 2.0721 - val_acc: 0.3667 - lr: 0.0010\n",
            "Epoch 4/500\n",
            "20/20 [==============================] - 148s 8s/step - loss: 2.0062 - acc: 0.3975 - val_loss: 2.2808 - val_acc: 0.3833 - lr: 0.0010\n",
            "Epoch 5/500\n",
            "20/20 [==============================] - 141s 7s/step - loss: 1.8799 - acc: 0.4575 - val_loss: 1.9254 - val_acc: 0.4167 - lr: 0.0010\n",
            "Epoch 6/500\n",
            "20/20 [==============================] - 132s 7s/step - loss: 1.6913 - acc: 0.4925 - val_loss: 1.6644 - val_acc: 0.5167 - lr: 0.0010\n",
            "Epoch 7/500\n",
            "20/20 [==============================] - 132s 7s/step - loss: 1.5969 - acc: 0.5275 - val_loss: 1.4643 - val_acc: 0.5333 - lr: 0.0010\n",
            "Epoch 8/500\n",
            "20/20 [==============================] - 127s 7s/step - loss: 1.4670 - acc: 0.5700 - val_loss: 1.1787 - val_acc: 0.6000 - lr: 0.0010\n",
            "Epoch 9/500\n",
            "20/20 [==============================] - 121s 6s/step - loss: 1.4509 - acc: 0.5425 - val_loss: 1.2157 - val_acc: 0.6333 - lr: 0.0010\n",
            "Epoch 10/500\n",
            "20/20 [==============================] - 119s 6s/step - loss: 1.1584 - acc: 0.6350 - val_loss: 1.4729 - val_acc: 0.5333 - lr: 0.0010\n",
            "Epoch 11/500\n",
            "20/20 [==============================] - 109s 6s/step - loss: 1.1894 - acc: 0.6475 - val_loss: 1.2423 - val_acc: 0.6500 - lr: 9.9000e-04\n",
            "Epoch 12/500\n",
            "20/20 [==============================] - 111s 6s/step - loss: 1.1280 - acc: 0.6750 - val_loss: 1.1720 - val_acc: 0.6500 - lr: 9.8010e-04\n",
            "Epoch 13/500\n",
            "20/20 [==============================] - 105s 6s/step - loss: 1.1350 - acc: 0.6100 - val_loss: 1.2136 - val_acc: 0.5833 - lr: 9.7030e-04\n",
            "Epoch 14/500\n",
            "20/20 [==============================] - 101s 5s/step - loss: 1.1326 - acc: 0.6850 - val_loss: 0.9344 - val_acc: 0.7167 - lr: 9.6060e-04\n",
            "Epoch 15/500\n",
            "20/20 [==============================] - 101s 5s/step - loss: 1.0249 - acc: 0.6675 - val_loss: 0.8891 - val_acc: 0.8000 - lr: 9.5099e-04\n",
            "Epoch 16/500\n",
            "20/20 [==============================] - 94s 5s/step - loss: 1.0269 - acc: 0.6750 - val_loss: 1.0877 - val_acc: 0.6500 - lr: 9.4148e-04\n",
            "Epoch 17/500\n",
            "20/20 [==============================] - 98s 5s/step - loss: 0.8408 - acc: 0.7625 - val_loss: 1.1547 - val_acc: 0.6667 - lr: 9.3207e-04\n",
            "Epoch 18/500\n",
            "20/20 [==============================] - 94s 5s/step - loss: 0.9013 - acc: 0.7025 - val_loss: 1.3278 - val_acc: 0.6000 - lr: 9.2274e-04\n",
            "Epoch 19/500\n",
            "20/20 [==============================] - 88s 5s/step - loss: 0.8288 - acc: 0.7575 - val_loss: 0.8725 - val_acc: 0.7333 - lr: 9.1352e-04\n",
            "Epoch 20/500\n",
            "20/20 [==============================] - 84s 4s/step - loss: 0.9242 - acc: 0.7050 - val_loss: 1.1579 - val_acc: 0.6500 - lr: 9.0438e-04\n",
            "Epoch 21/500\n",
            "20/20 [==============================] - 89s 5s/step - loss: 0.9361 - acc: 0.7125 - val_loss: 0.9944 - val_acc: 0.7000 - lr: 8.9534e-04\n",
            "Epoch 22/500\n",
            "20/20 [==============================] - 78s 4s/step - loss: 0.7347 - acc: 0.7725 - val_loss: 1.1078 - val_acc: 0.6500 - lr: 8.8638e-04\n",
            "Epoch 23/500\n",
            "20/20 [==============================] - 84s 4s/step - loss: 0.8724 - acc: 0.7300 - val_loss: 0.7201 - val_acc: 0.8167 - lr: 8.7752e-04\n",
            "Epoch 24/500\n",
            "20/20 [==============================] - 76s 4s/step - loss: 0.7081 - acc: 0.7875 - val_loss: 0.7503 - val_acc: 0.7667 - lr: 8.6875e-04\n",
            "Epoch 25/500\n",
            "20/20 [==============================] - 77s 4s/step - loss: 0.6636 - acc: 0.8075 - val_loss: 0.9073 - val_acc: 0.7167 - lr: 8.6006e-04\n",
            "Epoch 26/500\n",
            "20/20 [==============================] - 82s 4s/step - loss: 0.6665 - acc: 0.7975 - val_loss: 0.6871 - val_acc: 0.7333 - lr: 8.5146e-04\n",
            "Epoch 27/500\n",
            "20/20 [==============================] - 79s 4s/step - loss: 0.7658 - acc: 0.7575 - val_loss: 0.7166 - val_acc: 0.7833 - lr: 8.4294e-04\n",
            "Epoch 28/500\n",
            "20/20 [==============================] - 72s 4s/step - loss: 0.7447 - acc: 0.7750 - val_loss: 0.6691 - val_acc: 0.8000 - lr: 8.3451e-04\n",
            "Epoch 29/500\n",
            "20/20 [==============================] - 78s 4s/step - loss: 0.7763 - acc: 0.7600 - val_loss: 0.5809 - val_acc: 0.8500 - lr: 8.2617e-04\n",
            "Epoch 30/500\n",
            "20/20 [==============================] - 68s 4s/step - loss: 0.8284 - acc: 0.7550 - val_loss: 0.6439 - val_acc: 0.8167 - lr: 8.1791e-04\n",
            "Epoch 31/500\n",
            "20/20 [==============================] - 70s 4s/step - loss: 0.6271 - acc: 0.8200 - val_loss: 0.5576 - val_acc: 0.8667 - lr: 8.0973e-04\n",
            "Epoch 32/500\n",
            "20/20 [==============================] - 64s 3s/step - loss: 0.7062 - acc: 0.7750 - val_loss: 0.8025 - val_acc: 0.7833 - lr: 8.0163e-04\n",
            "Epoch 33/500\n",
            "20/20 [==============================] - 64s 3s/step - loss: 0.6682 - acc: 0.7800 - val_loss: 0.7232 - val_acc: 0.7667 - lr: 7.9361e-04\n",
            "Epoch 34/500\n",
            "20/20 [==============================] - 71s 4s/step - loss: 0.7354 - acc: 0.7975 - val_loss: 0.7926 - val_acc: 0.7833 - lr: 7.8568e-04\n",
            "Epoch 35/500\n",
            "20/20 [==============================] - 61s 3s/step - loss: 0.6568 - acc: 0.7875 - val_loss: 0.6745 - val_acc: 0.8000 - lr: 7.7782e-04\n",
            "Epoch 36/500\n",
            "20/20 [==============================] - 65s 3s/step - loss: 0.6822 - acc: 0.7900 - val_loss: 0.7483 - val_acc: 0.8333 - lr: 7.7004e-04\n",
            "Epoch 37/500\n",
            "20/20 [==============================] - 62s 3s/step - loss: 0.6814 - acc: 0.7725 - val_loss: 0.7231 - val_acc: 0.8333 - lr: 7.6234e-04\n",
            "Epoch 38/500\n",
            "20/20 [==============================] - 65s 3s/step - loss: 0.7007 - acc: 0.7825 - val_loss: 0.8879 - val_acc: 0.7333 - lr: 7.5472e-04\n",
            "Epoch 39/500\n",
            "20/20 [==============================] - 60s 3s/step - loss: 0.6319 - acc: 0.7875 - val_loss: 0.6581 - val_acc: 0.8167 - lr: 7.4717e-04\n",
            "Epoch 40/500\n",
            "20/20 [==============================] - 62s 3s/step - loss: 0.5316 - acc: 0.8400 - val_loss: 0.4635 - val_acc: 0.8500 - lr: 7.3970e-04\n",
            "Epoch 41/500\n",
            "20/20 [==============================] - 61s 3s/step - loss: 0.6103 - acc: 0.8125 - val_loss: 1.0471 - val_acc: 0.7000 - lr: 7.3230e-04\n",
            "Epoch 42/500\n",
            "20/20 [==============================] - 65s 3s/step - loss: 0.6326 - acc: 0.7950 - val_loss: 0.6910 - val_acc: 0.8167 - lr: 7.2498e-04\n",
            "Epoch 43/500\n",
            "20/20 [==============================] - 58s 3s/step - loss: 0.6146 - acc: 0.8100 - val_loss: 0.5141 - val_acc: 0.8667 - lr: 7.1773e-04\n",
            "Epoch 44/500\n",
            "20/20 [==============================] - 59s 3s/step - loss: 0.6086 - acc: 0.8275 - val_loss: 0.6162 - val_acc: 0.8167 - lr: 7.1055e-04\n",
            "Epoch 45/500\n",
            "20/20 [==============================] - 57s 3s/step - loss: 0.6527 - acc: 0.7825 - val_loss: 0.6827 - val_acc: 0.8000 - lr: 7.0345e-04\n",
            "Epoch 46/500\n",
            "20/20 [==============================] - 56s 3s/step - loss: 0.7002 - acc: 0.7725 - val_loss: 0.6702 - val_acc: 0.8000 - lr: 6.9641e-04\n",
            "Epoch 47/500\n",
            "20/20 [==============================] - 58s 3s/step - loss: 0.6518 - acc: 0.7950 - val_loss: 0.6555 - val_acc: 0.8167 - lr: 6.8945e-04\n",
            "Epoch 48/500\n",
            "20/20 [==============================] - 60s 3s/step - loss: 0.6095 - acc: 0.8025 - val_loss: 0.5758 - val_acc: 0.8500 - lr: 6.8255e-04\n",
            "Epoch 49/500\n",
            "20/20 [==============================] - 55s 3s/step - loss: 0.5578 - acc: 0.8100 - val_loss: 0.5127 - val_acc: 0.8500 - lr: 6.7573e-04\n",
            "Epoch 50/500\n",
            "20/20 [==============================] - 53s 3s/step - loss: 0.4507 - acc: 0.8600 - val_loss: 0.5556 - val_acc: 0.8500 - lr: 6.6897e-04\n",
            "Epoch 51/500\n",
            "20/20 [==============================] - 55s 3s/step - loss: 0.5239 - acc: 0.8200 - val_loss: 0.8440 - val_acc: 0.7833 - lr: 6.6228e-04\n",
            "Epoch 52/500\n",
            "20/20 [==============================] - 55s 3s/step - loss: 0.5890 - acc: 0.8150 - val_loss: 0.5668 - val_acc: 0.8500 - lr: 6.5566e-04\n"
          ]
        },
        {
          "output_type": "execute_result",
          "data": {
            "text/plain": [
              "<keras.callbacks.History at 0x7f1b58264410>"
            ]
          },
          "metadata": {},
          "execution_count": 17
        }
      ]
    },
    {
      "cell_type": "code",
      "metadata": {
        "id": "0vSFB_3Rdbqs"
      },
      "source": [
        "# 驗證測試集\n",
        "s2 = glob.glob(\"/content/drive/MyDrive/Tebame_第四組_機車辨識/1118晚上 無車群/GOGORO_S2_裁/*\") \n",
        "\n",
        "gp = glob.glob(\"/content/drive/MyDrive/Tebame_第四組_機車辨識/1118晚上 無車群/KYMCO_GP_125_裁/*\") \n",
        "\n",
        "#krv = glob.glob(\"/content/drive/MyDrive/Tebame_第四組_機車辨識/1118晚上 含車群/KYMCO_KRV_裁/*\")\n",
        "\n",
        "#fiddle = glob.glob(\"/content/drive/MyDrive/Tebame_第四組_機車辨識/1118晚上 含車群/SYM_FIDDLE_125_裁/*\") \n",
        "\n",
        "sr = glob.glob(\"/content/drive/MyDrive/Tebame_第四組_機車辨識/1118晚上 無車群/SYM_JET_SR_125_裁/*\")\n",
        "\n",
        "vivo = glob.glob(\"/content/drive/MyDrive/Tebame_第四組_機車辨識/1118晚上 無車群/SYM_活力_125_裁/*\")\n",
        "\n",
        "famous = glob.glob(\"/content/drive/MyDrive/Tebame_第四組_機車辨識/1118晚上 無車群/KYMCO_新名流125_裁/*\")\n",
        "\n",
        "drg = glob.glob(\"/content/drive/MyDrive/Tebame_第四組_機車辨識/1118晚上 無車群/SYM_DRG_裁/*\") \n",
        "\n",
        "duke = glob.glob(\"/content/drive/MyDrive/Tebame_第四組_機車辨識/1118晚上 無車群/SYM_新迪爵_125 _裁/*\")\n",
        "\n",
        "#limi = glob.glob(\"/content/drive/MyDrive/Tebame_第四組_機車辨識/1118晚上 含車群/YAMAHA_LIMI_125_已裁減/*\")\n",
        "\n",
        "gryphus6 = glob.glob(\"/content/drive/MyDrive/Tebame_第四組_機車辨識/1118晚上 無車群/YAMAHA_六代勁戰_125_裁/*\")\n",
        "\n",
        "\n",
        "\n",
        "force = glob.glob(\"/content/drive/MyDrive/Tebame_第四組_機車辨識/1118晚上 無車群/YAMAHA_FORCE_裁/*\")\n",
        "\n",
        "#viva = glob.glob(\"/content/drive/MyDrive/Tebame_第四組_機車辨識/1118晚上 含車群/GOGORO_VIVA_MIX_裁/*\")\n",
        "\n",
        "s3 = glob.glob(\"/content/drive/MyDrive/Tebame_第四組_機車辨識/1118晚上 無車群/GOGORO_S3_裁/*\")\n",
        "\n",
        "#like = glob.glob(\"/content/drive/MyDrive/Tebame_第四組_機車辨識/1118晚上 無車群/KYMCO_LIKE_125_裁/*\")\n",
        "\n",
        "many = glob.glob(\"/content/drive/MyDrive/Tebame_第四組_機車辨識/1118晚上 無車群/KYMCO_MANY_125_裁/*\")\n",
        "\n",
        "#bws = glob.glob(\"/content/drive/MyDrive/Tebame_第四組_機車辨識/1118晚上 含車群/YAMAHA_BWS_125_裁/*\")\n",
        "\n",
        "sl = glob.glob(\"/content/drive/MyDrive/Tebame_第四組_機車辨識/1118晚上 無車群/SYM_JET_SL_125_裁/*\")\n",
        "\n",
        "axiz = glob.glob(\"/content/drive/MyDrive/Tebame_第四組_機車辨識/1118晚上 無車群/YAMAHA_勁豪_125_裁/*\")\n",
        "\n",
        "#jog = glob.glob(\"/content/drive/MyDrive/Tebame_第四組_機車辨識/1118晚上 含車群/YAMAHA_JOG_125_裁/*\")"
      ],
      "execution_count": null,
      "outputs": []
    },
    {
      "cell_type": "code",
      "metadata": {
        "id": "4AdwiX7NvGcy"
      },
      "source": [
        "# clear graph\n",
        "tensorflow.keras.backend.clear_session() "
      ],
      "execution_count": null,
      "outputs": []
    },
    {
      "cell_type": "code",
      "metadata": {
        "id": "b6tahF13vHf7"
      },
      "source": [
        "from tensorflow.keras.models import load_model\n",
        "\n",
        "model = load_model(\"/content/1118_mobilenet_all.h5\")"
      ],
      "execution_count": null,
      "outputs": []
    },
    {
      "cell_type": "code",
      "metadata": {
        "id": "Wq0_kE8EiZnL",
        "colab": {
          "base_uri": "https://localhost:8080/",
          "height": 424
        },
        "outputId": "0f9c5cae-3458-45ff-e7e3-824162a7f7f8"
      },
      "source": [
        "import pandas as pd\n",
        "df2 = pd.DataFrame({\n",
        "    \"path\": s2 + gp + sr + vivo + famous + drg + duke + gryphus6 + force + s3 + many + sl + axiz,\n",
        "    \"ans\": [0] * len(s2) + [1] * len(gp) + [4] * len(sr) + [5] * len(vivo) + [6] * len(famous)\n",
        "    + [7] * len(drg) + [8] * len(duke) + [10] * len(gryphus6) + [11] * len(force) + [13] * len(s3)\n",
        "      + [15] * len(many) + [17] * len(sl) + [18] * len(axiz)\n",
        "})\n",
        "df1"
      ],
      "execution_count": null,
      "outputs": [
        {
          "output_type": "execute_result",
          "data": {
            "text/html": [
              "<div>\n",
              "<style scoped>\n",
              "    .dataframe tbody tr th:only-of-type {\n",
              "        vertical-align: middle;\n",
              "    }\n",
              "\n",
              "    .dataframe tbody tr th {\n",
              "        vertical-align: top;\n",
              "    }\n",
              "\n",
              "    .dataframe thead th {\n",
              "        text-align: right;\n",
              "    }\n",
              "</style>\n",
              "<table border=\"1\" class=\"dataframe\">\n",
              "  <thead>\n",
              "    <tr style=\"text-align: right;\">\n",
              "      <th></th>\n",
              "      <th>path</th>\n",
              "      <th>ans</th>\n",
              "    </tr>\n",
              "  </thead>\n",
              "  <tbody>\n",
              "    <tr>\n",
              "      <th>0</th>\n",
              "      <td>/content/drive/MyDrive/Tebame_第四組_機車辨識/1118晚上 ...</td>\n",
              "      <td>0</td>\n",
              "    </tr>\n",
              "    <tr>\n",
              "      <th>1</th>\n",
              "      <td>/content/drive/MyDrive/Tebame_第四組_機車辨識/1118晚上 ...</td>\n",
              "      <td>0</td>\n",
              "    </tr>\n",
              "    <tr>\n",
              "      <th>2</th>\n",
              "      <td>/content/drive/MyDrive/Tebame_第四組_機車辨識/1118晚上 ...</td>\n",
              "      <td>0</td>\n",
              "    </tr>\n",
              "    <tr>\n",
              "      <th>3</th>\n",
              "      <td>/content/drive/MyDrive/Tebame_第四組_機車辨識/1118晚上 ...</td>\n",
              "      <td>0</td>\n",
              "    </tr>\n",
              "    <tr>\n",
              "      <th>4</th>\n",
              "      <td>/content/drive/MyDrive/Tebame_第四組_機車辨識/1118晚上 ...</td>\n",
              "      <td>0</td>\n",
              "    </tr>\n",
              "    <tr>\n",
              "      <th>...</th>\n",
              "      <td>...</td>\n",
              "      <td>...</td>\n",
              "    </tr>\n",
              "    <tr>\n",
              "      <th>677</th>\n",
              "      <td>/content/drive/MyDrive/Tebame_第四組_機車辨識/1118晚上 ...</td>\n",
              "      <td>18</td>\n",
              "    </tr>\n",
              "    <tr>\n",
              "      <th>678</th>\n",
              "      <td>/content/drive/MyDrive/Tebame_第四組_機車辨識/1118晚上 ...</td>\n",
              "      <td>18</td>\n",
              "    </tr>\n",
              "    <tr>\n",
              "      <th>679</th>\n",
              "      <td>/content/drive/MyDrive/Tebame_第四組_機車辨識/1118晚上 ...</td>\n",
              "      <td>18</td>\n",
              "    </tr>\n",
              "    <tr>\n",
              "      <th>680</th>\n",
              "      <td>/content/drive/MyDrive/Tebame_第四組_機車辨識/1118晚上 ...</td>\n",
              "      <td>18</td>\n",
              "    </tr>\n",
              "    <tr>\n",
              "      <th>681</th>\n",
              "      <td>/content/drive/MyDrive/Tebame_第四組_機車辨識/1118晚上 ...</td>\n",
              "      <td>18</td>\n",
              "    </tr>\n",
              "  </tbody>\n",
              "</table>\n",
              "<p>682 rows × 2 columns</p>\n",
              "</div>"
            ],
            "text/plain": [
              "                                                  path  ans\n",
              "0    /content/drive/MyDrive/Tebame_第四組_機車辨識/1118晚上 ...    0\n",
              "1    /content/drive/MyDrive/Tebame_第四組_機車辨識/1118晚上 ...    0\n",
              "2    /content/drive/MyDrive/Tebame_第四組_機車辨識/1118晚上 ...    0\n",
              "3    /content/drive/MyDrive/Tebame_第四組_機車辨識/1118晚上 ...    0\n",
              "4    /content/drive/MyDrive/Tebame_第四組_機車辨識/1118晚上 ...    0\n",
              "..                                                 ...  ...\n",
              "677  /content/drive/MyDrive/Tebame_第四組_機車辨識/1118晚上 ...   18\n",
              "678  /content/drive/MyDrive/Tebame_第四組_機車辨識/1118晚上 ...   18\n",
              "679  /content/drive/MyDrive/Tebame_第四組_機車辨識/1118晚上 ...   18\n",
              "680  /content/drive/MyDrive/Tebame_第四組_機車辨識/1118晚上 ...   18\n",
              "681  /content/drive/MyDrive/Tebame_第四組_機車辨識/1118晚上 ...   18\n",
              "\n",
              "[682 rows x 2 columns]"
            ]
          },
          "metadata": {},
          "execution_count": 47
        }
      ]
    },
    {
      "cell_type": "code",
      "metadata": {
        "id": "0EQMHDWgv_3G",
        "colab": {
          "base_uri": "https://localhost:8080/",
          "height": 35
        },
        "outputId": "f011581c-8da3-4d06-c069-597c6f0bac6a"
      },
      "source": [
        "df1[\"path\"][0]"
      ],
      "execution_count": null,
      "outputs": [
        {
          "output_type": "execute_result",
          "data": {
            "application/vnd.google.colaboratory.intrinsic+json": {
              "type": "string"
            },
            "text/plain": [
              "'/content/drive/MyDrive/Tebame_第四組_機車辨識/1118晚上 無車群/GOGORO_S2_裁/134896.jpg'"
            ]
          },
          "metadata": {},
          "execution_count": 48
        }
      ]
    },
    {
      "cell_type": "code",
      "metadata": {
        "id": "ezdsLo-hi0rB"
      },
      "source": [
        "x = np.array(df1[\"path\"])\n",
        "y = np.array(df1[\"ans\"])"
      ],
      "execution_count": null,
      "outputs": []
    },
    {
      "cell_type": "code",
      "metadata": {
        "id": "6nCP_HwgwWsf",
        "colab": {
          "base_uri": "https://localhost:8080/",
          "height": 35
        },
        "outputId": "5a80482f-c78c-4dcc-c6eb-fdb6411836e2"
      },
      "source": [
        "x[1569]"
      ],
      "execution_count": null,
      "outputs": [
        {
          "output_type": "execute_result",
          "data": {
            "application/vnd.google.colaboratory.intrinsic+json": {
              "type": "string"
            },
            "text/plain": [
              "'/content/drive/MyDrive/Tebame_第四組_機車辨識/1118晚上 含車群/YAMAHA_勁豪_125_裁/133520.jpg'"
            ]
          },
          "metadata": {},
          "execution_count": 30
        }
      ]
    },
    {
      "cell_type": "code",
      "metadata": {
        "id": "C-_KkhQZk7x5"
      },
      "source": [
        "def data_generator(x, y, batch_size=20):\n",
        "  while True:\n",
        "    idx = np.random.randint(0, len(x), size=batch_size)\n",
        "    x_batch, y_batch = x[idx], y[idx]\n",
        "    x_final = []\n",
        "    for path in x_batch:\n",
        "      img = Image.open(path).resize((224, 224)).convert(\"RGB\")    #  開啟路徑圖檔並改大小、轉成RGB\n",
        "      img_pre = preprocess_input(np.array(img))              # 轉成陣列再預處理\n",
        "      x_final.append(img_pre)            \n",
        "    x_final = np.array(x_final)\n",
        "    y_batch = np.array(y_batch)\n",
        "    yield (x_final, y_batch)\n",
        "gen = data_generator(x, y)\n",
        "x_gen, y_gen = gen.__next__()\n",
        "# print(x_gen.shape)\n",
        "# print(y_gen.shape)\n",
        "print(x_gen)\n",
        "# print(y_gen)\n",
        "\n"
      ],
      "execution_count": null,
      "outputs": []
    },
    {
      "cell_type": "code",
      "metadata": {
        "id": "psaq_bWRnc9a"
      },
      "source": [
        "test_generator = data_generator(x, y)"
      ],
      "execution_count": null,
      "outputs": []
    },
    {
      "cell_type": "code",
      "metadata": {
        "id": "WUUmJJHJnmdS",
        "colab": {
          "base_uri": "https://localhost:8080/"
        },
        "outputId": "5f5bb54c-2932-4ef3-8713-6a5caf40c537"
      },
      "source": [
        "model.evaluate(test_generator, steps=35)"
      ],
      "execution_count": null,
      "outputs": [
        {
          "output_type": "stream",
          "name": "stdout",
          "text": [
            "35/35 [==============================] - 186s 5s/step - loss: 1.8719 - acc: 0.4643\n"
          ]
        },
        {
          "output_type": "execute_result",
          "data": {
            "text/plain": [
              "[1.8719068765640259, 0.4642857015132904]"
            ]
          },
          "metadata": {},
          "execution_count": 52
        }
      ]
    },
    {
      "cell_type": "markdown",
      "metadata": {
        "id": "lfM1LcIVIVNC"
      },
      "source": [
        "# Grad-CAM"
      ]
    },
    {
      "cell_type": "code",
      "metadata": {
        "id": "voAu38BDIk5Z"
      },
      "source": [
        "import tensorflow as tf\n",
        "import tensorflow.keras.backend as K\n",
        "from tensorflow.keras.applications.mobilenet_v2 import MobileNetV2\n",
        "from tensorflow.keras.preprocessing import image\n",
        "from tensorflow.keras.applications.mobilenet_v2 import preprocess_input, decode_predictions\n",
        "import numpy as np\n",
        "import os\n",
        "import matplotlib.pyplot as plt\n",
        "import cv2\n",
        "from google.colab.patches import cv2_imshow\n",
        "from tensorflow.keras.models import load_model"
      ],
      "execution_count": null,
      "outputs": []
    },
    {
      "cell_type": "code",
      "metadata": {
        "id": "2RErnUE8Kd1k"
      },
      "source": [
        "# clear graph\n",
        "tensorflow.keras.backend.clear_session() "
      ],
      "execution_count": null,
      "outputs": []
    },
    {
      "cell_type": "code",
      "metadata": {
        "colab": {
          "base_uri": "https://localhost:8080/",
          "height": 325
        },
        "id": "GT3reSU6J3iQ",
        "outputId": "fcd5ffeb-3af6-4ee8-8a6c-2a3ec54dd017"
      },
      "source": [
        "model = load_model(\"/content/1106all.h5\")\n",
        "model.summary()"
      ],
      "execution_count": null,
      "outputs": [
        {
          "output_type": "error",
          "ename": "OSError",
          "evalue": "ignored",
          "traceback": [
            "\u001b[0;31m---------------------------------------------------------------------------\u001b[0m",
            "\u001b[0;31mOSError\u001b[0m                                   Traceback (most recent call last)",
            "\u001b[0;32m<ipython-input-39-601e4eb91fa5>\u001b[0m in \u001b[0;36m<module>\u001b[0;34m()\u001b[0m\n\u001b[0;32m----> 1\u001b[0;31m \u001b[0mmodel\u001b[0m \u001b[0;34m=\u001b[0m \u001b[0mload_model\u001b[0m\u001b[0;34m(\u001b[0m\u001b[0;34m\"/content/1106all.h5\"\u001b[0m\u001b[0;34m)\u001b[0m\u001b[0;34m\u001b[0m\u001b[0;34m\u001b[0m\u001b[0m\n\u001b[0m\u001b[1;32m      2\u001b[0m \u001b[0mmodel\u001b[0m\u001b[0;34m.\u001b[0m\u001b[0msummary\u001b[0m\u001b[0;34m(\u001b[0m\u001b[0;34m)\u001b[0m\u001b[0;34m\u001b[0m\u001b[0;34m\u001b[0m\u001b[0m\n",
            "\u001b[0;32m/usr/local/lib/python3.7/dist-packages/keras/utils/traceback_utils.py\u001b[0m in \u001b[0;36merror_handler\u001b[0;34m(*args, **kwargs)\u001b[0m\n\u001b[1;32m     65\u001b[0m     \u001b[0;32mexcept\u001b[0m \u001b[0mException\u001b[0m \u001b[0;32mas\u001b[0m \u001b[0me\u001b[0m\u001b[0;34m:\u001b[0m  \u001b[0;31m# pylint: disable=broad-except\u001b[0m\u001b[0;34m\u001b[0m\u001b[0;34m\u001b[0m\u001b[0m\n\u001b[1;32m     66\u001b[0m       \u001b[0mfiltered_tb\u001b[0m \u001b[0;34m=\u001b[0m \u001b[0m_process_traceback_frames\u001b[0m\u001b[0;34m(\u001b[0m\u001b[0me\u001b[0m\u001b[0;34m.\u001b[0m\u001b[0m__traceback__\u001b[0m\u001b[0;34m)\u001b[0m\u001b[0;34m\u001b[0m\u001b[0;34m\u001b[0m\u001b[0m\n\u001b[0;32m---> 67\u001b[0;31m       \u001b[0;32mraise\u001b[0m \u001b[0me\u001b[0m\u001b[0;34m.\u001b[0m\u001b[0mwith_traceback\u001b[0m\u001b[0;34m(\u001b[0m\u001b[0mfiltered_tb\u001b[0m\u001b[0;34m)\u001b[0m \u001b[0;32mfrom\u001b[0m \u001b[0;32mNone\u001b[0m\u001b[0;34m\u001b[0m\u001b[0;34m\u001b[0m\u001b[0m\n\u001b[0m\u001b[1;32m     68\u001b[0m     \u001b[0;32mfinally\u001b[0m\u001b[0;34m:\u001b[0m\u001b[0;34m\u001b[0m\u001b[0;34m\u001b[0m\u001b[0m\n\u001b[1;32m     69\u001b[0m       \u001b[0;32mdel\u001b[0m \u001b[0mfiltered_tb\u001b[0m\u001b[0;34m\u001b[0m\u001b[0;34m\u001b[0m\u001b[0m\n",
            "\u001b[0;32m/usr/local/lib/python3.7/dist-packages/keras/saving/save.py\u001b[0m in \u001b[0;36mload_model\u001b[0;34m(filepath, custom_objects, compile, options)\u001b[0m\n\u001b[1;32m    207\u001b[0m         \u001b[0;32mif\u001b[0m \u001b[0misinstance\u001b[0m\u001b[0;34m(\u001b[0m\u001b[0mfilepath\u001b[0m\u001b[0;34m,\u001b[0m \u001b[0mstr\u001b[0m\u001b[0;34m)\u001b[0m\u001b[0;34m:\u001b[0m\u001b[0;34m\u001b[0m\u001b[0;34m\u001b[0m\u001b[0m\n\u001b[1;32m    208\u001b[0m           \u001b[0;32mif\u001b[0m \u001b[0;32mnot\u001b[0m \u001b[0mtf\u001b[0m\u001b[0;34m.\u001b[0m\u001b[0mio\u001b[0m\u001b[0;34m.\u001b[0m\u001b[0mgfile\u001b[0m\u001b[0;34m.\u001b[0m\u001b[0mexists\u001b[0m\u001b[0;34m(\u001b[0m\u001b[0mfilepath\u001b[0m\u001b[0;34m)\u001b[0m\u001b[0;34m:\u001b[0m\u001b[0;34m\u001b[0m\u001b[0;34m\u001b[0m\u001b[0m\n\u001b[0;32m--> 209\u001b[0;31m             \u001b[0;32mraise\u001b[0m \u001b[0mIOError\u001b[0m\u001b[0;34m(\u001b[0m\u001b[0;34mf'No file or directory found at {filepath}'\u001b[0m\u001b[0;34m)\u001b[0m\u001b[0;34m\u001b[0m\u001b[0;34m\u001b[0m\u001b[0m\n\u001b[0m\u001b[1;32m    210\u001b[0m           \u001b[0;32mif\u001b[0m \u001b[0msaving_utils\u001b[0m\u001b[0;34m.\u001b[0m\u001b[0mis_hdf5_filepath\u001b[0m\u001b[0;34m(\u001b[0m\u001b[0mfilepath\u001b[0m\u001b[0;34m)\u001b[0m \u001b[0;32mand\u001b[0m \u001b[0mh5py\u001b[0m \u001b[0;32mis\u001b[0m \u001b[0;32mNone\u001b[0m\u001b[0;34m:\u001b[0m\u001b[0;34m\u001b[0m\u001b[0;34m\u001b[0m\u001b[0m\n\u001b[1;32m    211\u001b[0m             raise ImportError(\n",
            "\u001b[0;31mOSError\u001b[0m: No file or directory found at /content/1106all.h5"
          ]
        }
      ]
    },
    {
      "cell_type": "code",
      "metadata": {
        "id": "V2tIEXWPKfDb"
      },
      "source": [
        "p = df[\"path\"]\n",
        "idx = np.random.randint(0, len(p), size=1)[0]  # 隨機取一張圖\n",
        "path = p[idx]\n",
        "\n",
        "img = image.load_img(path, target_size=(224,224))\n",
        "cv2_imshow(cv2.resize(cv2.imread(path), (300,300)))"
      ],
      "execution_count": null,
      "outputs": []
    },
    {
      "cell_type": "code",
      "metadata": {
        "id": "WIRSiD4CMQ09"
      },
      "source": [
        "x = image.img_to_array(img)\n",
        "x = np.expand_dims(x, axis=0)\n",
        "x = preprocess_input(x)\n",
        "\n",
        "preds = model.predict(x)\n",
        "# print(decode_predictions(preds))"
      ],
      "execution_count": null,
      "outputs": []
    },
    {
      "cell_type": "code",
      "metadata": {
        "id": "o11NcneBNJNV"
      },
      "source": [
        "with tf.GradientTape() as tape:\n",
        "  last_conv_layer = model.get_layer(\"Conv_1_bn\")\n",
        "  iterate = tf.keras.models.Model([model.inputs], [model.output, last_conv_layer.output])\n",
        "  model_out, last_conv_layer = iterate(x)\n",
        "  class_out = model_out[:, np.argmax(model_out[0])]\n",
        "  grads = tape.gradient(class_out, last_conv_layer)\n",
        "  pooled_grads = K.mean(grads, axis=(0, 1, 2))\n",
        "\n",
        "heatmap = tf.reduce_mean(tf.multiply(pooled_grads, last_conv_layer), axis=-1) \n"
      ],
      "execution_count": null,
      "outputs": []
    },
    {
      "cell_type": "code",
      "metadata": {
        "id": "CJCQdreJPmE4"
      },
      "source": [
        "heatmap = np.maximum(heatmap, 0)\n",
        "heatmap /= np.max(heatmap)\n",
        "heatmap = heatmap.reshape((7, 7))\n",
        "plt.matshow(heatmap)\n",
        "plt.show()"
      ],
      "execution_count": null,
      "outputs": []
    },
    {
      "cell_type": "code",
      "metadata": {
        "id": "5iTN2msjQKNG"
      },
      "source": [
        "img = cv2.imread(path)"
      ],
      "execution_count": null,
      "outputs": []
    },
    {
      "cell_type": "code",
      "metadata": {
        "id": "dZUtVzslQaJq"
      },
      "source": [
        "INTENSITY = 0.5\n",
        "\n",
        "heatmap = cv2.resize(heatmap, (img.shape[1], img.shape[0]))\n",
        "\n",
        "heatmap = cv2.applyColorMap(np.uint8(255*heatmap), cv2.COLORMAP_JET)\n",
        "\n",
        "img = heatmap * INTENSITY +img"
      ],
      "execution_count": null,
      "outputs": []
    },
    {
      "cell_type": "code",
      "metadata": {
        "id": "DxTNzpiqQ_Ak"
      },
      "source": [
        "cv2_imshow(cv2.resize(cv2.imread(path), (320,320)))\n",
        "cv2_imshow(cv2.resize(img, (320,320)))"
      ],
      "execution_count": null,
      "outputs": []
    },
    {
      "cell_type": "code",
      "metadata": {
        "id": "rnLx7bengx2t"
      },
      "source": [
        "ori_imgs = []\n",
        "for p in x_test:\n",
        "    img = Image.open(p).resize((224, 224)).convert(\"RGB\")\n",
        "    ori_imgs.append(np.array(img))\n",
        "ori_imgs = np.array(ori_imgs)\n",
        "preprocess_imgs = preprocess_input(ori_imgs)\n",
        "\n",
        "pre = model.predict(preprocess_imgs)\n",
        "\n",
        "pre = pre.argmax(axis=1)"
      ],
      "execution_count": null,
      "outputs": []
    },
    {
      "cell_type": "code",
      "metadata": {
        "id": "GudWHT13hAm6"
      },
      "source": [
        "import pandas as pd\n",
        "from sklearn.metrics import confusion_matrix\n",
        "mat = confusion_matrix(y_test, pre)\n",
        "pd.DataFrame(\n",
        "        mat,\n",
        "        index=[\"{}(正確)\".format(trans[i]) for i in range(20)],\n",
        "        columns=[\"{}(預測)\".format(trans[i]) for i in range(20)])"
      ],
      "execution_count": null,
      "outputs": []
    },
    {
      "cell_type": "code",
      "metadata": {
        "id": "nUlQFWJchDbL"
      },
      "source": [
        "\n",
        "import requests\n",
        "from tensorflow.keras.models import load_model\n",
        "url = input(\"Enter:\")\n",
        "response = requests.get(url, stream=True, verify=False)\n",
        "img = Image.open(response.raw).resize((224, 224)).convert(\"RGB\")\n",
        "img_np = preprocess_input(np.array(img).reshape(1, 224, 224, 3))\n",
        "# model = load_model('/content/1105.h5').\n",
        "proba = model.predict(img_np)\n",
        "ans = proba.argmax(axis=1)\n",
        "print(\"預測:\", trans[ans[0]])\n",
        "print(\"機率:\", proba[0])\n",
        "plt.imshow(img)"
      ],
      "execution_count": null,
      "outputs": []
    }
  ]
}