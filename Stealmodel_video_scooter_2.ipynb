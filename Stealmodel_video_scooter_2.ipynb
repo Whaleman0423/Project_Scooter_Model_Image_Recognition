{
  "nbformat": 4,
  "nbformat_minor": 0,
  "metadata": {
    "colab": {
      "name": "Stealmodel_video_scooter_2.ipynb",
      "provenance": [],
      "collapsed_sections": [],
      "authorship_tag": "ABX9TyOWtnc53ziqODvspDbZ6tuo",
      "include_colab_link": true
    },
    "kernelspec": {
      "name": "python3",
      "display_name": "Python 3"
    },
    "language_info": {
      "name": "python"
    },
    "accelerator": "GPU"
  },
  "cells": [
    {
      "cell_type": "markdown",
      "metadata": {
        "id": "view-in-github",
        "colab_type": "text"
      },
      "source": [
        "<a href=\"https://colab.research.google.com/github/Whaleman0423/class_no.4_paper/blob/main/Stealmodel_video_scooter_2.ipynb\" target=\"_parent\"><img src=\"https://colab.research.google.com/assets/colab-badge.svg\" alt=\"Open In Colab\"/></a>"
      ]
    },
    {
      "cell_type": "markdown",
      "metadata": {
        "id": "wleU8Tmr6fsd"
      },
      "source": [
        "### 遷移學習 VGG16 套用已裁切後的 競戰六代和 gogoro S2"
      ]
    },
    {
      "cell_type": "code",
      "metadata": {
        "colab": {
          "base_uri": "https://localhost:8080/"
        },
        "id": "0qgaBjCm_KxF",
        "outputId": "b0ddc566-46c4-47ce-d877-a522705046f4"
      },
      "source": [
        "##### 載入雲端硬碟\n",
        "from google.colab import drive\n",
        "drive.mount('/content/drive')"
      ],
      "execution_count": 1,
      "outputs": [
        {
          "output_type": "stream",
          "name": "stdout",
          "text": [
            "Mounted at /content/drive\n"
          ]
        }
      ]
    },
    {
      "cell_type": "code",
      "metadata": {
        "colab": {
          "base_uri": "https://localhost:8080/"
        },
        "id": "xuzRL1xy6NEa",
        "outputId": "f9805119-3600-4da1-9e54-db99d1f40971"
      },
      "source": [
        "from tensorflow.keras.applications.vgg16 import VGG16\n",
        "vgg = VGG16(include_top=False, input_shape=(224, 224, 3))\n",
        "#, weights='imagenet'\n",
        "vgg.summary()"
      ],
      "execution_count": 2,
      "outputs": [
        {
          "output_type": "stream",
          "name": "stdout",
          "text": [
            "Downloading data from https://storage.googleapis.com/tensorflow/keras-applications/vgg16/vgg16_weights_tf_dim_ordering_tf_kernels_notop.h5\n",
            "58892288/58889256 [==============================] - 1s 0us/step\n",
            "58900480/58889256 [==============================] - 1s 0us/step\n",
            "Model: \"vgg16\"\n",
            "_________________________________________________________________\n",
            "Layer (type)                 Output Shape              Param #   \n",
            "=================================================================\n",
            "input_1 (InputLayer)         [(None, 224, 224, 3)]     0         \n",
            "_________________________________________________________________\n",
            "block1_conv1 (Conv2D)        (None, 224, 224, 64)      1792      \n",
            "_________________________________________________________________\n",
            "block1_conv2 (Conv2D)        (None, 224, 224, 64)      36928     \n",
            "_________________________________________________________________\n",
            "block1_pool (MaxPooling2D)   (None, 112, 112, 64)      0         \n",
            "_________________________________________________________________\n",
            "block2_conv1 (Conv2D)        (None, 112, 112, 128)     73856     \n",
            "_________________________________________________________________\n",
            "block2_conv2 (Conv2D)        (None, 112, 112, 128)     147584    \n",
            "_________________________________________________________________\n",
            "block2_pool (MaxPooling2D)   (None, 56, 56, 128)       0         \n",
            "_________________________________________________________________\n",
            "block3_conv1 (Conv2D)        (None, 56, 56, 256)       295168    \n",
            "_________________________________________________________________\n",
            "block3_conv2 (Conv2D)        (None, 56, 56, 256)       590080    \n",
            "_________________________________________________________________\n",
            "block3_conv3 (Conv2D)        (None, 56, 56, 256)       590080    \n",
            "_________________________________________________________________\n",
            "block3_pool (MaxPooling2D)   (None, 28, 28, 256)       0         \n",
            "_________________________________________________________________\n",
            "block4_conv1 (Conv2D)        (None, 28, 28, 512)       1180160   \n",
            "_________________________________________________________________\n",
            "block4_conv2 (Conv2D)        (None, 28, 28, 512)       2359808   \n",
            "_________________________________________________________________\n",
            "block4_conv3 (Conv2D)        (None, 28, 28, 512)       2359808   \n",
            "_________________________________________________________________\n",
            "block4_pool (MaxPooling2D)   (None, 14, 14, 512)       0         \n",
            "_________________________________________________________________\n",
            "block5_conv1 (Conv2D)        (None, 14, 14, 512)       2359808   \n",
            "_________________________________________________________________\n",
            "block5_conv2 (Conv2D)        (None, 14, 14, 512)       2359808   \n",
            "_________________________________________________________________\n",
            "block5_conv3 (Conv2D)        (None, 14, 14, 512)       2359808   \n",
            "_________________________________________________________________\n",
            "block5_pool (MaxPooling2D)   (None, 7, 7, 512)         0         \n",
            "=================================================================\n",
            "Total params: 14,714,688\n",
            "Trainable params: 14,714,688\n",
            "Non-trainable params: 0\n",
            "_________________________________________________________________\n"
          ]
        }
      ]
    },
    {
      "cell_type": "code",
      "metadata": {
        "colab": {
          "base_uri": "https://localhost:8080/",
          "height": 422
        },
        "id": "gPn7HVL8AWDF",
        "outputId": "fb7af2d1-d953-4552-c074-c2bc9e696755"
      },
      "source": [
        "import glob\n",
        "import pandas as pd\n",
        "df = pd.DataFrame(columns=[\"path\", \"target\"])\n",
        "for p in glob.glob(\"/content/drive/MyDrive/Tebame_第四組_機車辨識/裁剪後_全款大集合_未去背_未套背/GOGORO_S2_已裁減/*.jpg\"):\n",
        "  s = pd.Series([p, 1], index=[\"path\", \"target\"])\n",
        "  df = df.append(s, ignore_index=True)\n",
        "for p in glob.glob(\"/content/drive/MyDrive/Tebame_第四組_機車辨識/裁剪後_全款大集合_未去背_未套背/YAMAHA_六代競戰_125_已裁減/*.jpg\"):\n",
        "  s = pd.Series([p, 0], index=[\"path\", \"target\"])\n",
        "  df = df.append(s, ignore_index=True)\n",
        "df"
      ],
      "execution_count": 3,
      "outputs": [
        {
          "output_type": "execute_result",
          "data": {
            "text/html": [
              "<div>\n",
              "<style scoped>\n",
              "    .dataframe tbody tr th:only-of-type {\n",
              "        vertical-align: middle;\n",
              "    }\n",
              "\n",
              "    .dataframe tbody tr th {\n",
              "        vertical-align: top;\n",
              "    }\n",
              "\n",
              "    .dataframe thead th {\n",
              "        text-align: right;\n",
              "    }\n",
              "</style>\n",
              "<table border=\"1\" class=\"dataframe\">\n",
              "  <thead>\n",
              "    <tr style=\"text-align: right;\">\n",
              "      <th></th>\n",
              "      <th>path</th>\n",
              "      <th>target</th>\n",
              "    </tr>\n",
              "  </thead>\n",
              "  <tbody>\n",
              "    <tr>\n",
              "      <th>0</th>\n",
              "      <td>/content/drive/MyDrive/Tebame_第四組_機車辨識/裁剪後_全款大...</td>\n",
              "      <td>1</td>\n",
              "    </tr>\n",
              "    <tr>\n",
              "      <th>1</th>\n",
              "      <td>/content/drive/MyDrive/Tebame_第四組_機車辨識/裁剪後_全款大...</td>\n",
              "      <td>1</td>\n",
              "    </tr>\n",
              "    <tr>\n",
              "      <th>2</th>\n",
              "      <td>/content/drive/MyDrive/Tebame_第四組_機車辨識/裁剪後_全款大...</td>\n",
              "      <td>1</td>\n",
              "    </tr>\n",
              "    <tr>\n",
              "      <th>3</th>\n",
              "      <td>/content/drive/MyDrive/Tebame_第四組_機車辨識/裁剪後_全款大...</td>\n",
              "      <td>1</td>\n",
              "    </tr>\n",
              "    <tr>\n",
              "      <th>4</th>\n",
              "      <td>/content/drive/MyDrive/Tebame_第四組_機車辨識/裁剪後_全款大...</td>\n",
              "      <td>1</td>\n",
              "    </tr>\n",
              "    <tr>\n",
              "      <th>...</th>\n",
              "      <td>...</td>\n",
              "      <td>...</td>\n",
              "    </tr>\n",
              "    <tr>\n",
              "      <th>625</th>\n",
              "      <td>/content/drive/MyDrive/Tebame_第四組_機車辨識/裁剪後_全款大...</td>\n",
              "      <td>0</td>\n",
              "    </tr>\n",
              "    <tr>\n",
              "      <th>626</th>\n",
              "      <td>/content/drive/MyDrive/Tebame_第四組_機車辨識/裁剪後_全款大...</td>\n",
              "      <td>0</td>\n",
              "    </tr>\n",
              "    <tr>\n",
              "      <th>627</th>\n",
              "      <td>/content/drive/MyDrive/Tebame_第四組_機車辨識/裁剪後_全款大...</td>\n",
              "      <td>0</td>\n",
              "    </tr>\n",
              "    <tr>\n",
              "      <th>628</th>\n",
              "      <td>/content/drive/MyDrive/Tebame_第四組_機車辨識/裁剪後_全款大...</td>\n",
              "      <td>0</td>\n",
              "    </tr>\n",
              "    <tr>\n",
              "      <th>629</th>\n",
              "      <td>/content/drive/MyDrive/Tebame_第四組_機車辨識/裁剪後_全款大...</td>\n",
              "      <td>0</td>\n",
              "    </tr>\n",
              "  </tbody>\n",
              "</table>\n",
              "<p>630 rows × 2 columns</p>\n",
              "</div>"
            ],
            "text/plain": [
              "                                                  path target\n",
              "0    /content/drive/MyDrive/Tebame_第四組_機車辨識/裁剪後_全款大...      1\n",
              "1    /content/drive/MyDrive/Tebame_第四組_機車辨識/裁剪後_全款大...      1\n",
              "2    /content/drive/MyDrive/Tebame_第四組_機車辨識/裁剪後_全款大...      1\n",
              "3    /content/drive/MyDrive/Tebame_第四組_機車辨識/裁剪後_全款大...      1\n",
              "4    /content/drive/MyDrive/Tebame_第四組_機車辨識/裁剪後_全款大...      1\n",
              "..                                                 ...    ...\n",
              "625  /content/drive/MyDrive/Tebame_第四組_機車辨識/裁剪後_全款大...      0\n",
              "626  /content/drive/MyDrive/Tebame_第四組_機車辨識/裁剪後_全款大...      0\n",
              "627  /content/drive/MyDrive/Tebame_第四組_機車辨識/裁剪後_全款大...      0\n",
              "628  /content/drive/MyDrive/Tebame_第四組_機車辨識/裁剪後_全款大...      0\n",
              "629  /content/drive/MyDrive/Tebame_第四組_機車辨識/裁剪後_全款大...      0\n",
              "\n",
              "[630 rows x 2 columns]"
            ]
          },
          "metadata": {},
          "execution_count": 3
        }
      ]
    },
    {
      "cell_type": "code",
      "metadata": {
        "id": "e4bNrtu4Cp5c"
      },
      "source": [
        "from tensorflow.keras.preprocessing.image import load_img\n",
        "import random\n",
        "c = random.randint(0, 629)\n",
        "# print(df[\"path\"][c])\n",
        "# img = load_img(df[\"path\"][c], target_size=(224, 224))\n",
        "# print(img.size)\n",
        "# img"
      ],
      "execution_count": 4,
      "outputs": []
    },
    {
      "cell_type": "code",
      "metadata": {
        "colab": {
          "base_uri": "https://localhost:8080/"
        },
        "id": "Lu7d0u_nET9-",
        "outputId": "4afb1ac1-cff1-4f62-fe7f-c0fd958175cd"
      },
      "source": [
        "from tensorflow.keras.models import Model\n",
        "from tensorflow.keras.layers import Flatten, Dense, BatchNormalization\n",
        "\n",
        "for l in vgg.layers:  \n",
        "  l.trainable = False\n",
        "x = BatchNormalization()(vgg.output)\n",
        "x = Flatten()(x)\n",
        "x = Dense(units=2048, activation=\"selu\")(x)\n",
        "x = Dense(units=512, activation=\"selu\")(x)\n",
        "x = Dense(units=64, activation=\"selu\")(x)\n",
        "x = Dense(units=2, activation=\"softmax\")(x)\n",
        "cnn = Model(inputs=vgg.input, outputs=x)\n",
        "cnn.summary()"
      ],
      "execution_count": 5,
      "outputs": [
        {
          "output_type": "stream",
          "name": "stdout",
          "text": [
            "Model: \"model\"\n",
            "_________________________________________________________________\n",
            "Layer (type)                 Output Shape              Param #   \n",
            "=================================================================\n",
            "input_1 (InputLayer)         [(None, 224, 224, 3)]     0         \n",
            "_________________________________________________________________\n",
            "block1_conv1 (Conv2D)        (None, 224, 224, 64)      1792      \n",
            "_________________________________________________________________\n",
            "block1_conv2 (Conv2D)        (None, 224, 224, 64)      36928     \n",
            "_________________________________________________________________\n",
            "block1_pool (MaxPooling2D)   (None, 112, 112, 64)      0         \n",
            "_________________________________________________________________\n",
            "block2_conv1 (Conv2D)        (None, 112, 112, 128)     73856     \n",
            "_________________________________________________________________\n",
            "block2_conv2 (Conv2D)        (None, 112, 112, 128)     147584    \n",
            "_________________________________________________________________\n",
            "block2_pool (MaxPooling2D)   (None, 56, 56, 128)       0         \n",
            "_________________________________________________________________\n",
            "block3_conv1 (Conv2D)        (None, 56, 56, 256)       295168    \n",
            "_________________________________________________________________\n",
            "block3_conv2 (Conv2D)        (None, 56, 56, 256)       590080    \n",
            "_________________________________________________________________\n",
            "block3_conv3 (Conv2D)        (None, 56, 56, 256)       590080    \n",
            "_________________________________________________________________\n",
            "block3_pool (MaxPooling2D)   (None, 28, 28, 256)       0         \n",
            "_________________________________________________________________\n",
            "block4_conv1 (Conv2D)        (None, 28, 28, 512)       1180160   \n",
            "_________________________________________________________________\n",
            "block4_conv2 (Conv2D)        (None, 28, 28, 512)       2359808   \n",
            "_________________________________________________________________\n",
            "block4_conv3 (Conv2D)        (None, 28, 28, 512)       2359808   \n",
            "_________________________________________________________________\n",
            "block4_pool (MaxPooling2D)   (None, 14, 14, 512)       0         \n",
            "_________________________________________________________________\n",
            "block5_conv1 (Conv2D)        (None, 14, 14, 512)       2359808   \n",
            "_________________________________________________________________\n",
            "block5_conv2 (Conv2D)        (None, 14, 14, 512)       2359808   \n",
            "_________________________________________________________________\n",
            "block5_conv3 (Conv2D)        (None, 14, 14, 512)       2359808   \n",
            "_________________________________________________________________\n",
            "block5_pool (MaxPooling2D)   (None, 7, 7, 512)         0         \n",
            "_________________________________________________________________\n",
            "batch_normalization (BatchNo (None, 7, 7, 512)         2048      \n",
            "_________________________________________________________________\n",
            "flatten (Flatten)            (None, 25088)             0         \n",
            "_________________________________________________________________\n",
            "dense (Dense)                (None, 2048)              51382272  \n",
            "_________________________________________________________________\n",
            "dense_1 (Dense)              (None, 512)               1049088   \n",
            "_________________________________________________________________\n",
            "dense_2 (Dense)              (None, 64)                32832     \n",
            "_________________________________________________________________\n",
            "dense_3 (Dense)              (None, 2)                 130       \n",
            "=================================================================\n",
            "Total params: 67,181,058\n",
            "Trainable params: 52,465,346\n",
            "Non-trainable params: 14,715,712\n",
            "_________________________________________________________________\n"
          ]
        }
      ]
    },
    {
      "cell_type": "code",
      "metadata": {
        "id": "vdlDytEfDel8"
      },
      "source": [
        "cnn.compile(\n",
        "    loss=\"binary_crossentropy\",\n",
        "    optimizer=\"adam\",\n",
        "    metrics=[\"accuracy\"]\n",
        "            )"
      ],
      "execution_count": 6,
      "outputs": []
    },
    {
      "cell_type": "code",
      "metadata": {
        "colab": {
          "base_uri": "https://localhost:8080/"
        },
        "id": "65tdbFXGJp2j",
        "outputId": "5de4d8a0-84b4-46b2-a0f0-088fcdc55ed3"
      },
      "source": [
        "from sklearn.model_selection import train_test_split\n",
        "from keras.utils.np_utils import to_categorical\n",
        "\n",
        "y_cat = to_categorical(df[\"target\"])\n",
        "\n",
        "import numpy as np\n",
        "x_train, x_test, y_train, y_test = train_test_split(\n",
        "                                np.array(df[\"path\"]),\n",
        "                                np.array(y_cat),\n",
        "                                test_size=0.1      \n",
        "                                       )\n",
        "y_train[0]"
      ],
      "execution_count": 7,
      "outputs": [
        {
          "output_type": "execute_result",
          "data": {
            "text/plain": [
              "array([0., 1.], dtype=float32)"
            ]
          },
          "metadata": {},
          "execution_count": 7
        }
      ]
    },
    {
      "cell_type": "code",
      "metadata": {
        "colab": {
          "base_uri": "https://localhost:8080/"
        },
        "id": "-7r9nSYYLc9H",
        "outputId": "327ba85f-272b-42b4-8b4e-9314e3169445"
      },
      "source": [
        "from tensorflow.keras.applications.vgg16 import preprocess_input\n",
        "\n",
        "batch_size = 7\n",
        "for i in range(5):\n",
        "  idx = np.random.randint(0, x_train.shape[0], batch_size)\n",
        "  imglist = []\n",
        "  for fn in x_train[idx]:\n",
        "    img = load_img(fn, target_size=(224, 224))\n",
        "    img = preprocess_input(np.array(img))\n",
        "    imglist.append(img)\n",
        "  x = np.array(imglist)\n",
        "  y = y_train[idx]\n",
        "  result = cnn.train_on_batch(x, y)\n",
        "  print(\"-------------Times\", i,\"---------------\")\n",
        "  print(result)"
      ],
      "execution_count": 15,
      "outputs": [
        {
          "output_type": "stream",
          "name": "stdout",
          "text": [
            "-------------Times 0 ---------------\n",
            "[13.94825267791748, 0.8857142925262451]\n",
            "-------------Times 1 ---------------\n",
            "[3.001602022489891e-10, 1.0]\n",
            "-------------Times 2 ---------------\n",
            "[4.326132297515869, 0.8571428656578064]\n",
            "-------------Times 3 ---------------\n",
            "[0.0330110527575016, 1.0]\n",
            "-------------Times 4 ---------------\n",
            "[1.9503543376922607, 0.8571428656578064]\n"
          ]
        }
      ]
    },
    {
      "cell_type": "code",
      "metadata": {
        "colab": {
          "base_uri": "https://localhost:8080/"
        },
        "id": "N87nRPFeTtL0",
        "outputId": "45cde02e-3701-4501-9d27-4318f45f8f6b"
      },
      "source": [
        "batch_size = 63\n",
        "\n",
        "idx = np.random.randint(0, x_test.shape[0], batch_size)\n",
        "imglist = []\n",
        "oriimglist = []\n",
        "for fn in x_test[idx]:\n",
        "  img = load_img(fn, target_size=(224, 224))\n",
        "  oriimglist.append(img)\n",
        "  img = preprocess_input(np.array(img))\n",
        "  imglist.append(img)\n",
        "x = np.array(imglist)\n",
        "y = y_test[idx]\n",
        "cnn.evaluate(x, y)\n"
      ],
      "execution_count": 16,
      "outputs": [
        {
          "output_type": "stream",
          "name": "stdout",
          "text": [
            "2/2 [==============================] - 0s 249ms/step - loss: 1.0942 - accuracy: 0.9683\n"
          ]
        },
        {
          "output_type": "execute_result",
          "data": {
            "text/plain": [
              "[1.094207525253296, 0.9682539701461792]"
            ]
          },
          "metadata": {},
          "execution_count": 16
        }
      ]
    },
    {
      "cell_type": "code",
      "metadata": {
        "id": "yd5IMxy1MKyb"
      },
      "source": [
        ""
      ],
      "execution_count": 9,
      "outputs": []
    }
  ]
}